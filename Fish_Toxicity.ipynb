{
 "cells": [
  {
   "cell_type": "code",
   "execution_count": 1,
   "id": "0a84b680-e702-499d-86a1-dc670e7daa7c",
   "metadata": {},
   "outputs": [
    {
     "name": "stdout",
     "output_type": "stream",
     "text": [
      "First few rows of the dataframe:\n"
     ]
    },
    {
     "data": {
      "text/html": [
       "<div>\n",
       "<style scoped>\n",
       "    .dataframe tbody tr th:only-of-type {\n",
       "        vertical-align: middle;\n",
       "    }\n",
       "\n",
       "    .dataframe tbody tr th {\n",
       "        vertical-align: top;\n",
       "    }\n",
       "\n",
       "    .dataframe thead th {\n",
       "        text-align: right;\n",
       "    }\n",
       "</style>\n",
       "<table border=\"1\" class=\"dataframe\">\n",
       "  <thead>\n",
       "    <tr style=\"text-align: right;\">\n",
       "      <th></th>\n",
       "      <th>CIC0</th>\n",
       "      <th>SM1_Dz(Z)</th>\n",
       "      <th>GATS1i</th>\n",
       "      <th>NdsCH</th>\n",
       "      <th>NdssC</th>\n",
       "      <th>MLOGP</th>\n",
       "      <th>LC50 [-LOG(mol/L)]</th>\n",
       "    </tr>\n",
       "  </thead>\n",
       "  <tbody>\n",
       "    <tr>\n",
       "      <th>0</th>\n",
       "      <td>3.260</td>\n",
       "      <td>0.829</td>\n",
       "      <td>1.676</td>\n",
       "      <td>0.0</td>\n",
       "      <td>1</td>\n",
       "      <td>1.453</td>\n",
       "      <td>3.770</td>\n",
       "    </tr>\n",
       "    <tr>\n",
       "      <th>1</th>\n",
       "      <td>2.189</td>\n",
       "      <td>0.580</td>\n",
       "      <td>0.863</td>\n",
       "      <td>0.0</td>\n",
       "      <td>0</td>\n",
       "      <td>1.348</td>\n",
       "      <td>3.115</td>\n",
       "    </tr>\n",
       "    <tr>\n",
       "      <th>2</th>\n",
       "      <td>2.125</td>\n",
       "      <td>0.638</td>\n",
       "      <td>0.831</td>\n",
       "      <td>0.0</td>\n",
       "      <td>0</td>\n",
       "      <td>1.348</td>\n",
       "      <td>3.531</td>\n",
       "    </tr>\n",
       "    <tr>\n",
       "      <th>3</th>\n",
       "      <td>3.027</td>\n",
       "      <td>0.331</td>\n",
       "      <td>1.472</td>\n",
       "      <td>1.0</td>\n",
       "      <td>0</td>\n",
       "      <td>1.807</td>\n",
       "      <td>3.510</td>\n",
       "    </tr>\n",
       "    <tr>\n",
       "      <th>4</th>\n",
       "      <td>2.094</td>\n",
       "      <td>0.827</td>\n",
       "      <td>0.860</td>\n",
       "      <td>0.0</td>\n",
       "      <td>0</td>\n",
       "      <td>1.886</td>\n",
       "      <td>5.390</td>\n",
       "    </tr>\n",
       "  </tbody>\n",
       "</table>\n",
       "</div>"
      ],
      "text/plain": [
       "    CIC0  SM1_Dz(Z)  GATS1i  NdsCH  NdssC  MLOGP  LC50 [-LOG(mol/L)]\n",
       "0  3.260      0.829   1.676    0.0      1  1.453               3.770\n",
       "1  2.189      0.580   0.863    0.0      0  1.348               3.115\n",
       "2  2.125      0.638   0.831    0.0      0  1.348               3.531\n",
       "3  3.027      0.331   1.472    1.0      0  1.807               3.510\n",
       "4  2.094      0.827   0.860    0.0      0  1.886               5.390"
      ]
     },
     "execution_count": 1,
     "metadata": {},
     "output_type": "execute_result"
    }
   ],
   "source": [
    "import numpy as np\n",
    "import pandas as pd\n",
    "import matplotlib.pyplot as plt\n",
    "import seaborn as sns\n",
    "import scipy.stats as stats\n",
    "\n",
    "# Load the dataset\n",
    "df = pd.read_csv(\"qsar_fish_toxicity.csv\")\n",
    "\n",
    "# Display the first few rows of the dataframe\n",
    "print(\"First few rows of the dataframe:\")\n",
    "df.head()\n"
   ]
  },
  {
   "cell_type": "markdown",
   "id": "c70bfb9b-91cb-469a-94a7-66ce54a040e2",
   "metadata": {},
   "source": [
    "### Insights:\n",
    "#### ->LC50 data, which is the concentration that causes death in 50% of test fish over a test duration of 96 hours, was used as a model response. \n",
    "#### -> The data comprised 6 molecular descriptors: \n",
    "#### -> MLOGP (molecular properties), \n",
    "#### -> CIC0 (information indices), \n",
    "#### -> GATS1i (2D autocorrelations), \n",
    "#### -> NdssC (atom-type counts), \n",
    "#### -> NdsCH ((atom-type counts), \n",
    "##### -> SM1_Dz(Z) (2D matrix-based descriptors). "
   ]
  },
  {
   "cell_type": "code",
   "execution_count": 2,
   "id": "0d9d740a-498b-4d58-92c2-ed8c56585484",
   "metadata": {},
   "outputs": [
    {
     "name": "stdout",
     "output_type": "stream",
     "text": [
      "<class 'pandas.core.frame.DataFrame'>\n",
      "RangeIndex: 908 entries, 0 to 907\n",
      "Data columns (total 7 columns):\n",
      " #   Column              Non-Null Count  Dtype  \n",
      "---  ------              --------------  -----  \n",
      " 0   CIC0                906 non-null    float64\n",
      " 1   SM1_Dz(Z)           906 non-null    float64\n",
      " 2   GATS1i              906 non-null    float64\n",
      " 3   NdsCH               907 non-null    float64\n",
      " 4   NdssC               908 non-null    int64  \n",
      " 5   MLOGP               905 non-null    float64\n",
      " 6   LC50 [-LOG(mol/L)]  906 non-null    float64\n",
      "dtypes: float64(6), int64(1)\n",
      "memory usage: 49.8 KB\n"
     ]
    }
   ],
   "source": [
    "df.info()"
   ]
  },
  {
   "cell_type": "markdown",
   "id": "8abfb8f4-2190-4844-a444-100f1ee34c06",
   "metadata": {},
   "source": [
    "## Identification of missing values and it's treatment"
   ]
  },
  {
   "cell_type": "code",
   "execution_count": 3,
   "id": "435fffda-73f5-4b21-8b59-70ea1ab0c9f3",
   "metadata": {},
   "outputs": [
    {
     "name": "stdout",
     "output_type": "stream",
     "text": [
      "No of missing values per columns are:\n"
     ]
    },
    {
     "data": {
      "text/plain": [
       "CIC0                   2\n",
       "SM1_Dz(Z)             38\n",
       "GATS1i                 2\n",
       "NdsCH                  1\n",
       "NdssC                  0\n",
       "MLOGP                  3\n",
       "LC50 [-LOG(mol/L)]     2\n",
       "dtype: int64"
      ]
     },
     "execution_count": 3,
     "metadata": {},
     "output_type": "execute_result"
    }
   ],
   "source": [
    "df['SM1_Dz(Z)'] = df['SM1_Dz(Z)'].replace(0, np.nan)\n",
    "print(\"No of missing values per columns are:\")\n",
    "\n",
    "df.isna().sum()\n"
   ]
  },
  {
   "cell_type": "markdown",
   "id": "d06d2fbb-d2f8-479c-82af-cb5ee2746538",
   "metadata": {},
   "source": [
    "### This overall process can be referred to as Missing Data Handling through Identification and Imputation."
   ]
  },
  {
   "cell_type": "markdown",
   "id": "dffa37e4-431c-47bf-a50a-7189edc2ae05",
   "metadata": {},
   "source": [
    "#### Reasons for This Type of Missing Value Identification\n",
    "##### Identify Columns with Missing Values:\n",
    "##### ->The code creates a list of columns that have any missing values, helping you focus on the columns that need attention.\n",
    "#### Quantify Missing Values:\n",
    "##### ->It counts the number of missing values in each column, giving you a clear picture of how much data is missing.\n",
    "#### Prevent Data Loss:\n",
    "##### ->By identifying which columns have missing values, you can choose imputation over deletion to avoid losing valuable data.\n",
    "#### Informed Decision-Making:\n",
    "##### ->Knowing the extent of missing data helps you decide on the best strategy for handling it, like different imputation methods for different columns.\n",
    "#### Improving Model Quality:\n",
    "##### ->Properly handling missing values ensures your models are trained on clean data, improving their performance.\n",
    "#### Insight into Data Quality:\n",
    "##### ->This process gives you an understanding of the overall data quality and helps identify any issues in the data collection process."
   ]
  },
  {
   "cell_type": "markdown",
   "id": "0a84fba4-82c2-4adb-bf5a-ece397431995",
   "metadata": {},
   "source": [
    "### The total number of missing values is: 2+38+2+1+0+3+2 = 48\n",
    "### So, there are 48 missing values in total."
   ]
  },
  {
   "cell_type": "code",
   "execution_count": 4,
   "id": "5ad617d4-a770-4aeb-988a-6472c806c1ea",
   "metadata": {},
   "outputs": [
    {
     "name": "stdout",
     "output_type": "stream",
     "text": [
      "Percentage of missing values in each column:\n",
      "CIC0                  0.220264\n",
      "SM1_Dz(Z)             4.185022\n",
      "GATS1i                0.220264\n",
      "NdsCH                 0.110132\n",
      "NdssC                 0.000000\n",
      "MLOGP                 0.330396\n",
      "LC50 [-LOG(mol/L)]    0.220264\n",
      "dtype: float64\n"
     ]
    }
   ],
   "source": [
    "# Display the percentage of missing values in each column\n",
    "print(\"Percentage of missing values in each column:\")\n",
    "print((df.isna().sum() / len(df)) * 100)"
   ]
  },
  {
   "cell_type": "markdown",
   "id": "358e6739-0b34-4bf8-b69c-bfd80acf0465",
   "metadata": {},
   "source": [
    "#### Why we use KNNImputer and what it is and when to use?"
   ]
  },
  {
   "cell_type": "markdown",
   "id": "ee777c53-c69a-461e-98f1-eb988225cc8c",
   "metadata": {},
   "source": [
    "##### ->KNN imputer is a technique that replaces missing values in a dataset by averaging the values of its nearest neighbors, using similarity measures like Euclidean distance, making it effective for datasets where missing data are not systematically related to the values themselves.\n",
    "##### ->KNN imputer is used for missing values because it estimates them based on similarities with neighboring data points, preserving data structure and handling non-linear relationships well. It's effective in moderate to large datasets where missingness is random, making it suitable when missing values are not related to their own values but to other observed variables."
   ]
  },
  {
   "cell_type": "code",
   "execution_count": 5,
   "id": "44708f84-cdc2-4713-9856-1f9f40582931",
   "metadata": {},
   "outputs": [],
   "source": [
    "from sklearn.impute import KNNImputer\n",
    "\n",
    "imputer = KNNImputer(n_neighbors = 5)\n",
    "df_noMV = imputer.fit_transform(df)\n",
    "\n",
    "df_noMV = pd.DataFrame(df_noMV, columns = df.columns)"
   ]
  },
  {
   "cell_type": "code",
   "execution_count": 6,
   "id": "a1b3821b-ff01-4bfc-8abe-ba27406e086f",
   "metadata": {},
   "outputs": [
    {
     "data": {
      "text/html": [
       "<div>\n",
       "<style scoped>\n",
       "    .dataframe tbody tr th:only-of-type {\n",
       "        vertical-align: middle;\n",
       "    }\n",
       "\n",
       "    .dataframe tbody tr th {\n",
       "        vertical-align: top;\n",
       "    }\n",
       "\n",
       "    .dataframe thead th {\n",
       "        text-align: right;\n",
       "    }\n",
       "</style>\n",
       "<table border=\"1\" class=\"dataframe\">\n",
       "  <thead>\n",
       "    <tr style=\"text-align: right;\">\n",
       "      <th></th>\n",
       "      <th>CIC0</th>\n",
       "      <th>SM1_Dz(Z)</th>\n",
       "      <th>GATS1i</th>\n",
       "      <th>NdsCH</th>\n",
       "      <th>NdssC</th>\n",
       "      <th>MLOGP</th>\n",
       "      <th>LC50 [-LOG(mol/L)]</th>\n",
       "    </tr>\n",
       "  </thead>\n",
       "  <tbody>\n",
       "    <tr>\n",
       "      <th>0</th>\n",
       "      <td>3.260</td>\n",
       "      <td>0.829</td>\n",
       "      <td>1.676</td>\n",
       "      <td>0.0</td>\n",
       "      <td>1.0</td>\n",
       "      <td>1.453</td>\n",
       "      <td>3.770</td>\n",
       "    </tr>\n",
       "    <tr>\n",
       "      <th>1</th>\n",
       "      <td>2.189</td>\n",
       "      <td>0.580</td>\n",
       "      <td>0.863</td>\n",
       "      <td>0.0</td>\n",
       "      <td>0.0</td>\n",
       "      <td>1.348</td>\n",
       "      <td>3.115</td>\n",
       "    </tr>\n",
       "    <tr>\n",
       "      <th>2</th>\n",
       "      <td>2.125</td>\n",
       "      <td>0.638</td>\n",
       "      <td>0.831</td>\n",
       "      <td>0.0</td>\n",
       "      <td>0.0</td>\n",
       "      <td>1.348</td>\n",
       "      <td>3.531</td>\n",
       "    </tr>\n",
       "    <tr>\n",
       "      <th>3</th>\n",
       "      <td>3.027</td>\n",
       "      <td>0.331</td>\n",
       "      <td>1.472</td>\n",
       "      <td>1.0</td>\n",
       "      <td>0.0</td>\n",
       "      <td>1.807</td>\n",
       "      <td>3.510</td>\n",
       "    </tr>\n",
       "    <tr>\n",
       "      <th>4</th>\n",
       "      <td>2.094</td>\n",
       "      <td>0.827</td>\n",
       "      <td>0.860</td>\n",
       "      <td>0.0</td>\n",
       "      <td>0.0</td>\n",
       "      <td>1.886</td>\n",
       "      <td>5.390</td>\n",
       "    </tr>\n",
       "  </tbody>\n",
       "</table>\n",
       "</div>"
      ],
      "text/plain": [
       "    CIC0  SM1_Dz(Z)  GATS1i  NdsCH  NdssC  MLOGP  LC50 [-LOG(mol/L)]\n",
       "0  3.260      0.829   1.676    0.0    1.0  1.453               3.770\n",
       "1  2.189      0.580   0.863    0.0    0.0  1.348               3.115\n",
       "2  2.125      0.638   0.831    0.0    0.0  1.348               3.531\n",
       "3  3.027      0.331   1.472    1.0    0.0  1.807               3.510\n",
       "4  2.094      0.827   0.860    0.0    0.0  1.886               5.390"
      ]
     },
     "metadata": {},
     "output_type": "display_data"
    },
    {
     "data": {
      "text/plain": [
       "CIC0                  0\n",
       "SM1_Dz(Z)             0\n",
       "GATS1i                0\n",
       "NdsCH                 0\n",
       "NdssC                 0\n",
       "MLOGP                 0\n",
       "LC50 [-LOG(mol/L)]    0\n",
       "dtype: int64"
      ]
     },
     "execution_count": 6,
     "metadata": {},
     "output_type": "execute_result"
    }
   ],
   "source": [
    "display(df_noMV.head())\n",
    "\n",
    "df_noMV.isna().sum()"
   ]
  },
  {
   "cell_type": "markdown",
   "id": "3b916c01-13ac-4860-871d-7a33fa995f29",
   "metadata": {},
   "source": [
    "### Checking for Normal Distribution"
   ]
  },
  {
   "cell_type": "code",
   "execution_count": 7,
   "id": "b39a9aae-84b4-42bd-94b9-2a53f0af0af4",
   "metadata": {},
   "outputs": [
    {
     "name": "stdout",
     "output_type": "stream",
     "text": [
      "Anderson-Darling Test for CIC0:\n",
      "Statistic: 1.3284591144893056\n",
      "At 15.0% significance level, the data does not look normal (statistic 1.3284591144893056 >= critical value 0.573).\n",
      "At 10.0% significance level, the data does not look normal (statistic 1.3284591144893056 >= critical value 0.653).\n",
      "At 5.0% significance level, the data does not look normal (statistic 1.3284591144893056 >= critical value 0.784).\n",
      "At 2.5% significance level, the data does not look normal (statistic 1.3284591144893056 >= critical value 0.914).\n",
      "At 1.0% significance level, the data does not look normal (statistic 1.3284591144893056 >= critical value 1.087).\n",
      "\n",
      "Anderson-Darling Test for SM1_Dz(Z):\n",
      "Statistic: 17.706150148057077\n",
      "At 15.0% significance level, the data does not look normal (statistic 17.706150148057077 >= critical value 0.573).\n",
      "At 10.0% significance level, the data does not look normal (statistic 17.706150148057077 >= critical value 0.653).\n",
      "At 5.0% significance level, the data does not look normal (statistic 17.706150148057077 >= critical value 0.784).\n",
      "At 2.5% significance level, the data does not look normal (statistic 17.706150148057077 >= critical value 0.914).\n",
      "At 1.0% significance level, the data does not look normal (statistic 17.706150148057077 >= critical value 1.087).\n",
      "\n",
      "Anderson-Darling Test for GATS1i:\n",
      "Statistic: 10.525292404446873\n",
      "At 15.0% significance level, the data does not look normal (statistic 10.525292404446873 >= critical value 0.573).\n",
      "At 10.0% significance level, the data does not look normal (statistic 10.525292404446873 >= critical value 0.653).\n",
      "At 5.0% significance level, the data does not look normal (statistic 10.525292404446873 >= critical value 0.784).\n",
      "At 2.5% significance level, the data does not look normal (statistic 10.525292404446873 >= critical value 0.914).\n",
      "At 1.0% significance level, the data does not look normal (statistic 10.525292404446873 >= critical value 1.087).\n",
      "\n",
      "Anderson-Darling Test for NdsCH:\n",
      "Statistic: 224.32656680817308\n",
      "At 15.0% significance level, the data does not look normal (statistic 224.32656680817308 >= critical value 0.573).\n",
      "At 10.0% significance level, the data does not look normal (statistic 224.32656680817308 >= critical value 0.653).\n",
      "At 5.0% significance level, the data does not look normal (statistic 224.32656680817308 >= critical value 0.784).\n",
      "At 2.5% significance level, the data does not look normal (statistic 224.32656680817308 >= critical value 0.914).\n",
      "At 1.0% significance level, the data does not look normal (statistic 224.32656680817308 >= critical value 1.087).\n",
      "\n",
      "Anderson-Darling Test for NdssC:\n",
      "Statistic: 134.6594179482463\n",
      "At 15.0% significance level, the data does not look normal (statistic 134.6594179482463 >= critical value 0.573).\n",
      "At 10.0% significance level, the data does not look normal (statistic 134.6594179482463 >= critical value 0.653).\n",
      "At 5.0% significance level, the data does not look normal (statistic 134.6594179482463 >= critical value 0.784).\n",
      "At 2.5% significance level, the data does not look normal (statistic 134.6594179482463 >= critical value 0.914).\n",
      "At 1.0% significance level, the data does not look normal (statistic 134.6594179482463 >= critical value 1.087).\n",
      "\n",
      "Anderson-Darling Test for MLOGP:\n",
      "Statistic: 0.7059837220837153\n",
      "At 15.0% significance level, the data does not look normal (statistic 0.7059837220837153 >= critical value 0.573).\n",
      "At 10.0% significance level, the data does not look normal (statistic 0.7059837220837153 >= critical value 0.653).\n",
      "At 5.0% significance level, the data looks normal (statistic 0.7059837220837153 < critical value 0.784).\n",
      "At 2.5% significance level, the data looks normal (statistic 0.7059837220837153 < critical value 0.914).\n",
      "At 1.0% significance level, the data looks normal (statistic 0.7059837220837153 < critical value 1.087).\n",
      "\n",
      "Anderson-Darling Test for LC50 [-LOG(mol/L)]:\n",
      "Statistic: 1.669387184334255\n",
      "At 15.0% significance level, the data does not look normal (statistic 1.669387184334255 >= critical value 0.573).\n",
      "At 10.0% significance level, the data does not look normal (statistic 1.669387184334255 >= critical value 0.653).\n",
      "At 5.0% significance level, the data does not look normal (statistic 1.669387184334255 >= critical value 0.784).\n",
      "At 2.5% significance level, the data does not look normal (statistic 1.669387184334255 >= critical value 0.914).\n",
      "At 1.0% significance level, the data does not look normal (statistic 1.669387184334255 >= critical value 1.087).\n",
      "\n"
     ]
    }
   ],
   "source": [
    "import scipy.stats as stats\n",
    "\n",
    "# Function to perform Anderson-Darling Test\n",
    "def anderson_darling_test(data, column):\n",
    "    result = stats.anderson(data[column], dist='norm')\n",
    "    print(f'Anderson-Darling Test for {column}:')\n",
    "    print(f'Statistic: {result.statistic}')\n",
    "    for i in range(len(result.critical_values)):\n",
    "        sl, cv = result.significance_level[i], result.critical_values[i]\n",
    "        if result.statistic < cv:\n",
    "            print(f'At {sl}% significance level, the data looks normal (statistic {result.statistic} < critical value {cv}).')\n",
    "        else:\n",
    "            print(f'At {sl}% significance level, the data does not look normal (statistic {result.statistic} >= critical value {cv}).')\n",
    "    print()\n",
    "\n",
    "# List of numerical columns\n",
    "numerical_cols = df_noMV.select_dtypes(include=['number']).columns.tolist()\n",
    "\n",
    "# Perform the Anderson-Darling test for each numerical column\n",
    "for column in numerical_cols:\n",
    "    anderson_darling_test(df_noMV, column)\n"
   ]
  },
  {
   "cell_type": "markdown",
   "id": "b7d7479c-5ea2-4f60-a802-f5f7e2fc5ae2",
   "metadata": {},
   "source": [
    "### What is Anderson-Darling Test"
   ]
  },
  {
   "cell_type": "markdown",
   "id": "ea9b26cc-7208-4ea5-baeb-c0ef15aef032",
   "metadata": {},
   "source": [
    "#### ->The Anderson-Darling test is a statistical test used to determine if a given sample of data comes from a specific distribution, most commonly the normal distribution. It is an extension of the Kolmogorov-Smirnov test and provides a more sensitive measure of how well the data follows the hypothesized distribution.\n",
    "#### ->Purpose: To test the null hypothesis that a sample comes from a specified distribution, such as the normal distribution.\n",
    "#### ->Test Statistic: It calculates a test statistic that measures the distance between the empirical distribution of the sample data and the cumulative distribution function (CDF) of the specified distribution.\n"
   ]
  },
  {
   "cell_type": "markdown",
   "id": "abeb3f31-1eaa-4208-a0e5-89ceeb00238e",
   "metadata": {},
   "source": [
    "### Since the Dataset is not Normally Distributed, therefore we should use IQR instead of Z-score and DBSCAN for outlier detection"
   ]
  },
  {
   "cell_type": "markdown",
   "id": "7b9def43-c760-4980-8576-b1b498fc305a",
   "metadata": {},
   "source": [
    "### Outlier Detection Using IQR"
   ]
  },
  {
   "cell_type": "markdown",
   "id": "57ddd3c1-b15f-46bb-84fa-39703a3c3f04",
   "metadata": {},
   "source": [
    "#### ->Here we are not considering NDsCH for outier detection because Because if we see the unique values, they are 0, 1, 2 and 3. And the count of the atom type can lie between 0 to 3( it is possible). So, 1, 2 or 3 are not at all outliers. However values like 20, or 50, or -3 can be treated as outlier as 20 or 50 is very far from the majority (0-3), and count of -3 is insignificant.\n"
   ]
  },
  {
   "cell_type": "code",
   "execution_count": 8,
   "id": "32ebf080-aa82-4e33-a0ab-582248f8617c",
   "metadata": {},
   "outputs": [
    {
     "name": "stdout",
     "output_type": "stream",
     "text": [
      "DataFrame after removing outliers:\n",
      "    CIC0  SM1_Dz(Z)  GATS1i  NdsCH  NdssC  MLOGP  LC50 [-LOG(mol/L)]\n",
      "0  3.260      0.829   1.676    0.0    1.0  1.453               3.770\n",
      "1  2.189      0.580   0.863    0.0    0.0  1.348               3.115\n",
      "2  2.125      0.638   0.831    0.0    0.0  1.348               3.531\n",
      "3  3.027      0.331   1.472    1.0    0.0  1.807               3.510\n",
      "4  2.094      0.827   0.860    0.0    0.0  1.886               5.390\n",
      "Total number of rows after outlier removal: 833\n"
     ]
    }
   ],
   "source": [
    "# Step 1: Identify numerical columns excluding 'NdsCH'\n",
    "numerical_cols = df_noMV.select_dtypes(include=np.number).columns\n",
    "numerical_cols = numerical_cols[numerical_cols != 'NdsCH']  # Exclude 'NdsCH'\n",
    "\n",
    "# Step 2: Define a function to find outliers using IQR method\n",
    "def find_outliers_iqr(data, column):\n",
    "    Q1 = data[column].quantile(0.25)\n",
    "    Q3 = data[column].quantile(0.75)\n",
    "    IQR = Q3 - Q1\n",
    "    lower_bound = Q1 - 1.5 * IQR\n",
    "    upper_bound = Q3 + 1.5 * IQR\n",
    "    return lower_bound, upper_bound\n",
    "\n",
    "# Step 3: Remove outliers from all numerical columns except 'NdsCH'\n",
    "for column in numerical_cols:\n",
    "    lower_bound, upper_bound = find_outliers_iqr(df_noMV, column)\n",
    "    df_noMV = df_noMV[(df_noMV[column] >= lower_bound) & (df_noMV[column] <= upper_bound)]\n",
    "\n",
    "# Display the new dataframe without outliers\n",
    "print(\"DataFrame after removing outliers:\")\n",
    "print(df_noMV.head())\n",
    "\n",
    "# Step 4: Verify the total number of rows after outlier removal\n",
    "print(f\"Total number of rows after outlier removal: {len(df_noMV)}\")"
   ]
  },
  {
   "cell_type": "markdown",
   "id": "485e56c8-24d5-4640-8977-7d79c8590309",
   "metadata": {},
   "source": [
    "#### Why IQR is used in Outlier Detection\n",
    "\n",
    "##### ->Given your dataset consists of only numerical attributes and you've identified outliers using multiple methods (DBSCAN, IQR, Z-score), here’s why IQR is particularly useful:\n",
    "##### ->Balance Between Sensitivity and Robustness: The IQR method strikes a good balance between being sensitive enough to detect meaningful outliers and robust enough to avoid flagging too many points as outliers in skewed or non-normal distributions.\n",
    "##### ->Compatibility with Median Imputation: Since you are replacing outliers with the median, using a method that relies on median and quartiles for outlier detection ensures consistency in your approach."
   ]
  },
  {
   "cell_type": "markdown",
   "id": "455da56a-cff9-4f5c-8564-61dc1e885338",
   "metadata": {},
   "source": [
    "### Here total no of outliers is 79, and percentage of outlier is 8.70%"
   ]
  },
  {
   "cell_type": "markdown",
   "id": "f509264f-65f2-4bc8-b538-cc0fb7901815",
   "metadata": {},
   "source": [
    "### Descriptive Statistics"
   ]
  },
  {
   "cell_type": "code",
   "execution_count": 9,
   "id": "a1b636da-a734-410d-a9fe-c99205510f1b",
   "metadata": {},
   "outputs": [
    {
     "name": "stdout",
     "output_type": "stream",
     "text": [
      "Descriptive Statistics:\n",
      "             CIC0   SM1_Dz(Z)      GATS1i       NdsCH       NdssC       MLOGP  \\\n",
      "count  833.000000  833.000000  833.000000  833.000000  833.000000  833.000000   \n",
      "mean     2.869394    0.625896    1.276315    0.216086    0.379352    2.119015   \n",
      "std      0.728160    0.397947    0.374771    0.581262    0.641255    1.319043   \n",
      "min      0.965000    0.134000    0.396000    0.000000    0.000000   -1.306000   \n",
      "25%      2.309000    0.251000    0.945000    0.000000    0.000000    1.239000   \n",
      "50%      2.888000    0.560000    1.227000    0.000000    0.000000    2.127000   \n",
      "75%      3.380000    0.887000    1.556000    0.000000    1.000000    3.026000   \n",
      "max      4.880000    1.825000    2.456000    4.000000    2.000000    5.741000   \n",
      "\n",
      "       LC50 [-LOG(mol/L)]  \n",
      "count          833.000000  \n",
      "mean             4.002791  \n",
      "std              1.275489  \n",
      "min              0.778000  \n",
      "25%              3.168000  \n",
      "50%              3.971000  \n",
      "75%              4.811000  \n",
      "max              7.382000  \n"
     ]
    }
   ],
   "source": [
    "# Display descriptive statistics\n",
    "print(\"Descriptive Statistics:\")\n",
    "print(df_noMV.describe())"
   ]
  },
  {
   "cell_type": "markdown",
   "id": "f32031d6-4578-4258-ae9b-7bda4dab83d1",
   "metadata": {},
   "source": [
    "#### ->Descriptive statistics are used to summarize and describe the basic features of a dataset. It helps us understand the data by providing key numerical summaries such as measures of central tendency (like mean and median), measures of dispersion (like standard deviation and range), and distribution shape (like quartiles)."
   ]
  },
  {
   "cell_type": "markdown",
   "id": "fe1c98d3-9afe-4ff8-8af5-7a5c9338a0d6",
   "metadata": {},
   "source": [
    "#### Observation:\n",
    "#### CIC0:\n",
    "##### ->The average value of CIC0 is around 2.90, with values ranging from 0.67 to 5.93.\n",
    "##### ->Most values (about 50%) fall between 2.35 and 3.41.\n",
    "\n",
    "#### SM1_Dz(Z):\n",
    "##### ->SM1_Dz(Z) has a mean of approximately 0.65 and a standard deviation of 0.41.\n",
    "##### ->Values range from 0.13 to 2.17, with half of the data falling between 0.25 and 0.91.\n",
    "\n",
    "#### GATS1i:\n",
    "##### ->The average GATS1i value is about 1.30, with a range from 0.40 to 4.98.\n",
    "##### ->The data shows a moderate spread around the mean, with values mostly between 0.95 and 1.56.\n",
    "\n",
    "#### NdsCH:\n",
    "##### ->The average value of NdsCH is around 0.23, with values ranging from 0 to 4.\n",
    "##### ->Most values (about 50%) fall between 0 and 0.\n",
    "\n",
    "####  NdssC:\n",
    "##### ->The average value of NdssC is around 0.50, with values ranging from -3 to 20.\n",
    "##### ->Most values (about 50%) fall between 0 and 1.\n",
    "\n",
    "#### MLOGP:\n",
    "##### ->MLOGP has an average of 2.11 and ranges from -5.78 to 10.00.\n",
    "##### ->The data is moderately spread out, with a significant proportion falling between 1.21 and 3.11.\n",
    "\n",
    "#### LC50 [-LOG(mol/L)]:\n",
    "##### ->LC50 values range widely from 0.053 to 9.612, with an average around 4.06.\n",
    "##### ->There is variability in toxicity levels, with about half of the data falling between 3.15 and 4.91."
   ]
  },
  {
   "cell_type": "code",
   "execution_count": 10,
   "id": "f080464f-1f5b-4549-b0ec-21ba933459e1",
   "metadata": {},
   "outputs": [
    {
     "data": {
      "image/png": "[encoded data removed]",
      "text/plain": [
       "<Figure size 500x500 with 1 Axes>"
      ]
     },
     "metadata": {},
     "output_type": "display_data"
    }
   ],
   "source": [
    "import seaborn as sns\n",
    "import matplotlib.pyplot as plt\n",
    "\n",
    "# Plot the distribution using Seaborn's displot\n",
    "sns.displot(df_noMV['LC50 [-LOG(mol/L)]'], kde=True)\n",
    "\n",
    "# Add title and labels\n",
    "plt.title('Distribution of LC50 [-LOG(mol/L)]')\n",
    "plt.xlabel('LC50 [-LOG(mol/L)]')\n",
    "plt.ylabel('Density')\n",
    "\n",
    "# Show the plot\n",
    "plt.show()"
   ]
  },
  {
   "cell_type": "markdown",
   "id": "5d1b97b0-073a-427f-8d34-0c8bcbbe1107",
   "metadata": {},
   "source": [
    "#### The distribution plot of LC50 [-LOG(mol/L)] shows:\n",
    "##### ->Normal Distribution: The histogram and KDE line form a bell-shaped curve, indicating a normal distribution.\n",
    "##### ->Central Tendency: The peak is around 4 on the x-axis, suggesting this is the most common LC50 value.\n",
    "##### ->Spread: Values range from approximately 1 to 7.\n",
    "##### ->Density: The highest density is just above 100.\n",
    "##### ->Symmetry: The distribution is fairly symmetric around the central value.\n",
    "#### These observations indicate that the LC50 [-LOG(mol/L)] values follow a distribution that is approximately normal, with most values clustering around the mean of 4, and a relatively symmetrical spread on either side."
   ]
  },
  {
   "cell_type": "code",
   "execution_count": 11,
   "id": "feabfd1d-b086-4834-860d-61db9906616e",
   "metadata": {},
   "outputs": [
    {
     "name": "stdout",
     "output_type": "stream",
     "text": [
      "                        CIC0  SM1_Dz(Z)    GATS1i     NdsCH     NdssC  \\\n",
      "CIC0                1.000000  -0.251924  0.190152  0.059808  0.191028   \n",
      "SM1_Dz(Z)          -0.251924   1.000000 -0.184905 -0.112378  0.101348   \n",
      "GATS1i              0.190152  -0.184905  1.000000  0.006341  0.138022   \n",
      "NdsCH               0.059808  -0.112378  0.006341  1.000000  0.131294   \n",
      "NdssC               0.191028   0.101348  0.138022  0.131294  1.000000   \n",
      "MLOGP               0.444141   0.256457 -0.414401 -0.014024 -0.023198   \n",
      "LC50 [-LOG(mol/L)]  0.243637   0.456457 -0.375628  0.148638  0.052674   \n",
      "\n",
      "                       MLOGP  LC50 [-LOG(mol/L)]  \n",
      "CIC0                0.444141            0.243637  \n",
      "SM1_Dz(Z)           0.256457            0.456457  \n",
      "GATS1i             -0.414401           -0.375628  \n",
      "NdsCH              -0.014024            0.148638  \n",
      "NdssC              -0.023198            0.052674  \n",
      "MLOGP               1.000000            0.658332  \n",
      "LC50 [-LOG(mol/L)]  0.658332            1.000000  \n"
     ]
    }
   ],
   "source": [
    "# check for multicollinearity\n",
    "# Select only numerical columns for correlation matrix\n",
    "numerical_cols = df_noMV.select_dtypes(include=['float64', 'int64'])\n",
    "correlation_matrix = numerical_cols.corr()\n",
    "\n",
    "print(correlation_matrix)"
   ]
  },
  {
   "cell_type": "markdown",
   "id": "2d123d5a-b447-4784-8ba4-eae95dde6694",
   "metadata": {},
   "source": [
    "### Multicollinearity refers to the phenomenon where two or more predictor variables in a regression model are highly correlated with each other. It can lead to issues in the regression analysis, primarily affecting the interpretation of individual predictor variables."
   ]
  },
  {
   "cell_type": "markdown",
   "id": "6d3df98d-f42b-4dd2-bb46-5940c3f215ce",
   "metadata": {},
   "source": [
    "### All correlation values are below 0.9, indicating no significant multicolinearity amog attributes hence no need to remove anything"
   ]
  },
  {
   "cell_type": "code",
   "execution_count": 12,
   "id": "05e21296-0369-4986-b4b1-132ea4560397",
   "metadata": {},
   "outputs": [],
   "source": [
    "df_new = df_noMV"
   ]
  },
  {
   "cell_type": "markdown",
   "id": "b16075c1-ae79-4b21-ba2b-90e57e280e22",
   "metadata": {},
   "source": [
    "### Splitting of the dataset as per 80% training and 20% testing."
   ]
  },
  {
   "cell_type": "code",
   "execution_count": 13,
   "id": "99ac38b6-4dd9-4b31-a7f3-aff036c394f0",
   "metadata": {},
   "outputs": [],
   "source": [
    "X = df_new .drop('LC50 [-LOG(mol/L)]',axis =1)\n",
    "y = df_new['LC50 [-LOG(mol/L)]']\n",
    "\n",
    "from sklearn.model_selection import train_test_split\n",
    "\n",
    "X_train,X_test,y_train,y_test = train_test_split(X,y,test_size=0.20,random_state=100)"
   ]
  },
  {
   "cell_type": "markdown",
   "id": "31e282a9-1540-4bc7-958a-0bb8a63b9df8",
   "metadata": {},
   "source": [
    "### Here I took random state of 100"
   ]
  },
  {
   "cell_type": "markdown",
   "id": "8848bf35-0112-45ab-b4ea-5e9495d812c1",
   "metadata": {},
   "source": [
    "## Performing Regression Model "
   ]
  },
  {
   "cell_type": "markdown",
   "id": "f2dc8ada-2bef-42d3-8b6a-ca97c33fb3c2",
   "metadata": {},
   "source": [
    "## 1.Ridge Regression"
   ]
  },
  {
   "cell_type": "markdown",
   "id": "8cdbbdf6-078c-4636-a10a-fcc34591d101",
   "metadata": {},
   "source": [
    "#### Ridge regression is used because:\n",
    "##### ->Improving the stability and generalization of regression models.\n",
    "##### ->Offering a solution to overfitting by shrinking the coefficients towards zero\n",
    "##### ->ridge regression addresses the trade-off between bias and variance by slightly increasing bias "
   ]
  },
  {
   "cell_type": "code",
   "execution_count": 14,
   "id": "3c81efa2-eb77-4578-b38a-e8c998ce14c8",
   "metadata": {},
   "outputs": [
    {
     "name": "stdout",
     "output_type": "stream",
     "text": [
      "lambda = 0.0\n",
      "MAE for this lambda = 0.5581142428327338\n",
      "MSE for this lambda = 0.552629475115506\n",
      "R² for this lambda = 0.627445940710041\n",
      "Adjusted R² for this lambda = 0.6134751634866675\n",
      "------------------\n",
      "lambda = 0.05263157894736842\n",
      "MAE for this lambda = 0.5581700136170352\n",
      "MSE for this lambda = 0.552656668499766\n",
      "R² for this lambda = 0.6274276083442369\n",
      "Adjusted R² for this lambda = 0.6134561436571458\n",
      "------------------\n",
      "lambda = 0.10526315789473684\n",
      "MAE for this lambda = 0.5582256542175964\n",
      "MSE for this lambda = 0.5526840997465032\n",
      "R² for this lambda = 0.627409115623918\n",
      "Adjusted R² for this lambda = 0.6134369574598149\n",
      "------------------\n",
      "lambda = 0.15789473684210525\n",
      "MAE for this lambda = 0.5582811650601603\n",
      "MSE for this lambda = 0.5527117672224401\n",
      "R² for this lambda = 0.6273904636501548\n",
      "Adjusted R² for this lambda = 0.6134176060370357\n",
      "------------------\n",
      "lambda = 0.21052631578947367\n",
      "MAE for this lambda = 0.5583365465686139\n",
      "MSE for this lambda = 0.5527396693052228\n",
      "R² for this lambda = 0.6273716535166541\n",
      "Adjusted R² for this lambda = 0.6133980905235287\n",
      "------------------\n",
      "lambda = 0.2631578947368421\n",
      "MAE for this lambda = 0.5583917991649984\n",
      "MSE for this lambda = 0.5527678043833393\n",
      "R² for this lambda = 0.6273526863098136\n",
      "Adjusted R² for this lambda = 0.6133784120464316\n",
      "------------------\n",
      "lambda = 0.3157894736842105\n",
      "MAE for this lambda = 0.5584469232695187\n",
      "MSE for this lambda = 0.5527961708560395\n",
      "R² for this lambda = 0.6273335631087754\n",
      "Adjusted R² for this lambda = 0.6133585717253545\n",
      "------------------\n",
      "lambda = 0.3684210526315789\n",
      "MAE for this lambda = 0.5585019193005553\n",
      "MSE for this lambda = 0.5528247671332548\n",
      "R² for this lambda = 0.6273142849854815\n",
      "Adjusted R² for this lambda = 0.613338570672437\n",
      "------------------\n",
      "lambda = 0.42105263157894735\n",
      "MAE for this lambda = 0.5585567876746717\n",
      "MSE for this lambda = 0.5528535916355193\n",
      "R² for this lambda = 0.6272948530047255\n",
      "Adjusted R² for this lambda = 0.6133184099924027\n",
      "------------------\n",
      "lambda = 0.47368421052631576\n",
      "MAE for this lambda = 0.5586115288066272\n",
      "MSE for this lambda = 0.5528826427938911\n",
      "R² for this lambda = 0.6272752682242064\n",
      "Adjusted R² for this lambda = 0.6132980907826142\n",
      "------------------\n",
      "lambda = 0.5263157894736842\n",
      "MAE for this lambda = 0.5586661431093844\n",
      "MSE for this lambda = 0.5529119190498741\n",
      "R² for this lambda = 0.6272555316945814\n",
      "Adjusted R² for this lambda = 0.6132776141331282\n",
      "------------------\n",
      "lambda = 0.5789473684210527\n",
      "MAE for this lambda = 0.5587206309941203\n",
      "MSE for this lambda = 0.5529414188553416\n",
      "R² for this lambda = 0.6272356444595169\n",
      "Adjusted R² for this lambda = 0.6132569811267488\n",
      "------------------\n",
      "lambda = 0.631578947368421\n",
      "MAE for this lambda = 0.5587749928702359\n",
      "MSE for this lambda = 0.5529711406724591\n",
      "R² for this lambda = 0.6272156075557411\n",
      "Adjusted R² for this lambda = 0.6132361928390815\n",
      "------------------\n",
      "lambda = 0.6842105263157894\n",
      "MAE for this lambda = 0.5588292291453653\n",
      "MSE for this lambda = 0.553001082973608\n",
      "R² for this lambda = 0.6271954220130949\n",
      "Adjusted R² for this lambda = 0.6132152503385859\n",
      "------------------\n",
      "lambda = 0.7368421052631579\n",
      "MAE for this lambda = 0.5588833402253862\n",
      "MSE for this lambda = 0.5530312442413116\n",
      "R² for this lambda = 0.6271750888545822\n",
      "Adjusted R² for this lambda = 0.613194154686629\n",
      "------------------\n",
      "lambda = 0.7894736842105263\n",
      "MAE for this lambda = 0.5589373265144283\n",
      "MSE for this lambda = 0.5530616229681585\n",
      "R² for this lambda = 0.6271546090964214\n",
      "Adjusted R² for this lambda = 0.6131729069375372\n",
      "------------------\n",
      "lambda = 0.8421052631578947\n",
      "MAE for this lambda = 0.5589911884148847\n",
      "MSE for this lambda = 0.5530922176567304\n",
      "R² for this lambda = 0.6271339837480941\n",
      "Adjusted R² for this lambda = 0.6131515081386477\n",
      "------------------\n",
      "lambda = 0.894736842105263\n",
      "MAE for this lambda = 0.5590449263274191\n",
      "MSE for this lambda = 0.5531230268195279\n",
      "R² for this lambda = 0.6271132138123952\n",
      "Adjusted R² for this lambda = 0.61312995933036\n",
      "------------------\n",
      "lambda = 0.9473684210526315\n",
      "MAE for this lambda = 0.5590985406509765\n",
      "MSE for this lambda = 0.5531540489788971\n",
      "R² for this lambda = 0.6270923002854818\n",
      "Adjusted R² for this lambda = 0.6131082615461874\n",
      "------------------\n",
      "lambda = 1.0\n",
      "MAE for this lambda = 0.5591520317827925\n",
      "MSE for this lambda = 0.553185282666958\n",
      "R² for this lambda = 0.6270712441569224\n",
      "Adjusted R² for this lambda = 0.613086415812807\n",
      "------------------\n",
      "Best value of lambda = 0.0\n",
      "Best value of MAE for the best lambda = 0.5581142428327338\n",
      "Best value of MSE for the best lambda = 0.552629475115506\n",
      "Best value of R² for the best lambda = 0.627445940710041\n",
      "Best value of Adjusted R² for the best lambda = 0.6134751634866675\n"
     ]
    }
   ],
   "source": [
    "import numpy as np\n",
    "from sklearn.linear_model import Ridge\n",
    "from sklearn.metrics import mean_absolute_error, mean_squared_error, r2_score\n",
    "\n",
    "# Define the lambda range\n",
    "lamda = np.linspace(0, 1, 20)\n",
    "\n",
    "# Initialize best parameters\n",
    "best_lamda = 0\n",
    "best_mae = float('inf')  # Initialize to a high value\n",
    "best_mse = float('inf')  # Initialize to a high value\n",
    "best_r2 = float('-inf')  # Initialize to a low value\n",
    "best_adjr2 = float('-inf')  # Initialize to a low value\n",
    "\n",
    "# Train and evaluate the Ridge regression model for each lambda\n",
    "for param in lamda:\n",
    "    RRM = Ridge(alpha=param)\n",
    "    RRM.fit(X_train, y_train)\n",
    "\n",
    "    y_pred = RRM.predict(X_test)\n",
    "    \n",
    "    mae = mean_absolute_error(y_test, y_pred)\n",
    "    mse = mean_squared_error(y_test, y_pred)\n",
    "    r2 = r2_score(y_test, y_pred)\n",
    "    adjusted_r2 = 1 - (1-r2) * (len(y_test) - 1) / (len(y_test) - X_test.shape[1] - 1)\n",
    "    \n",
    "    print(f\"lambda = {param}\")\n",
    "    print(f\"MAE for this lambda = {mae}\")\n",
    "    print(f\"MSE for this lambda = {mse}\")\n",
    "    print(f\"R² for this lambda = {r2}\")\n",
    "    print(f\"Adjusted R² for this lambda = {adjusted_r2}\")\n",
    "    print(\"------------------\")\n",
    "\n",
    "    if mae < best_mae:\n",
    "        best_mae = mae\n",
    "        best_lamda = param\n",
    "\n",
    "    if mse < best_mse:\n",
    "        best_mse = mse\n",
    "        best_lamda = param\n",
    "\n",
    "    if r2 > best_r2:\n",
    "        best_r2 = r2\n",
    "        best_lamda = param\n",
    "\n",
    "    if adjusted_r2 > best_adjr2:\n",
    "        best_adjr2 = adjusted_r2\n",
    "        best_lamda = param\n",
    "\n",
    "print(f\"Best value of lambda = {best_lamda}\")\n",
    "print(f\"Best value of MAE for the best lambda = {best_mae}\")\n",
    "print(f\"Best value of MSE for the best lambda = {best_mse}\")\n",
    "print(f\"Best value of R² for the best lambda = {best_r2}\")\n",
    "print(f\"Best value of Adjusted R² for the best lambda = {best_adjr2}\")\n"
   ]
  },
  {
   "cell_type": "markdown",
   "id": "0959649a-bf03-444a-bd53-0c9dfbd12ffa",
   "metadata": {},
   "source": [
    "#### Observation:\n",
    "#### Best Lambda Value: 0.0\n",
    "##### ->The optimal value of lambda (regularization parameter) found through the Ridge regression is 0.0. This implies no regularization was applied, allowing the model to fit the data without penalty on coefficients.\n",
    "#### Best MAE: 0.5581\n",
    "##### ->The MAE for the best lambda is 0.5581. This value indicates the average absolute difference between the predicted and actual values. A lower MAE suggests better predictive accuracy, indicating that, on average, the model's predictions are close to the actual values.\n",
    "#### Best MSE: 0.5526\n",
    "##### ->Mean Squared Error (MSE): The MSE for the best lambda is 0.5526. MSE measures the average squared difference between predicted values and actual values. A lower MSE indicates better predictive accuracy, suggesting that the model's predictions are generally closer to the actual values.\n",
    "#### Best R²: 0.6274\n",
    "##### ->The R² score for the best lambda is 0.6274. R² measures the proportion of the variance in the dependent variable that is predictable from the independent variables. An R² of 0.6274 indicates that approximately 62.74% of the variability in the target variable is explained by the model. This indicates a strong fit of the model to the data.\n",
    "#### Best Adjusted R²: 0.6135\n",
    "##### ->The adjusted R² for the best lambda is 0.6135. Adjusted R² adjusts the R² value based on the number of predictors in the model, providing a more accurate measure of model performance. It accounts for the complexity added by additional predictors, showing a slightly more conservative estimate of the model's explanatory power.\n",
    "#### Final Verdict:\n",
    "##### ->Model Selection: The Ridge regression with a lambda of 0.0 was selected as the best model, indicating that no regularization was necessary to achieve optimal performance.\n",
    "##### ->Predictive Accuracy: The low MAE and MSE suggests that the model's predictions are generally close to the actual values, demonstrating good predictive accuracy.\n",
    "##### ->Explanatory Power: The high R² and adjusted R² values indicate that the model explains a significant proportion of the variance in the target variable, reflecting its strong fit to the data."
   ]
  },
  {
   "cell_type": "markdown",
   "id": "a96a8477-1eea-4513-9ce5-34a80c0c673c",
   "metadata": {},
   "source": [
    "## 2.Multiple Linear Regression:"
   ]
  },
  {
   "cell_type": "markdown",
   "id": "578b7b47-ad13-493f-875d-75f030f218dd",
   "metadata": {},
   "source": [
    "##### ->Used for assumption of Linearity and Independence\n",
    "##### ->Modeling Relationships Between Several Variables\n",
    "##### ->Used when Predicting a Continuous Dependent Variable"
   ]
  },
  {
   "cell_type": "code",
   "execution_count": 15,
   "id": "d3f37e0e-ae70-48a9-b8dc-da1bc9aa2613",
   "metadata": {},
   "outputs": [
    {
     "data": {
      "text/html": [
       "<div>\n",
       "<style scoped>\n",
       "    .dataframe tbody tr th:only-of-type {\n",
       "        vertical-align: middle;\n",
       "    }\n",
       "\n",
       "    .dataframe tbody tr th {\n",
       "        vertical-align: top;\n",
       "    }\n",
       "\n",
       "    .dataframe thead th {\n",
       "        text-align: right;\n",
       "    }\n",
       "</style>\n",
       "<table border=\"1\" class=\"dataframe\">\n",
       "  <thead>\n",
       "    <tr style=\"text-align: right;\">\n",
       "      <th></th>\n",
       "      <th>coefficients</th>\n",
       "    </tr>\n",
       "  </thead>\n",
       "  <tbody>\n",
       "    <tr>\n",
       "      <th>CIC0</th>\n",
       "      <td>0.309702</td>\n",
       "    </tr>\n",
       "    <tr>\n",
       "      <th>SM1_Dz(Z)</th>\n",
       "      <td>1.231031</td>\n",
       "    </tr>\n",
       "    <tr>\n",
       "      <th>GATS1i</th>\n",
       "      <td>-0.541997</td>\n",
       "    </tr>\n",
       "    <tr>\n",
       "      <th>NdsCH</th>\n",
       "      <td>0.426648</td>\n",
       "    </tr>\n",
       "    <tr>\n",
       "      <th>NdssC</th>\n",
       "      <td>-0.014038</td>\n",
       "    </tr>\n",
       "    <tr>\n",
       "      <th>MLOGP</th>\n",
       "      <td>0.400795</td>\n",
       "    </tr>\n",
       "  </tbody>\n",
       "</table>\n",
       "</div>"
      ],
      "text/plain": [
       "           coefficients\n",
       "CIC0           0.309702\n",
       "SM1_Dz(Z)      1.231031\n",
       "GATS1i        -0.541997\n",
       "NdsCH          0.426648\n",
       "NdssC         -0.014038\n",
       "MLOGP          0.400795"
      ]
     },
     "metadata": {},
     "output_type": "display_data"
    },
    {
     "name": "stdout",
     "output_type": "stream",
     "text": [
      "intercept is 2.094450836617983\n"
     ]
    }
   ],
   "source": [
    "from sklearn.linear_model import LinearRegression\n",
    "\n",
    "# model fitting\n",
    "lm = LinearRegression()\n",
    "lm.fit(X_train,y_train)\n",
    "\n",
    "#predict the outcomes\n",
    "y_pred = lm.predict(X_test)\n",
    "\n",
    "coefficients = pd.DataFrame(lm.coef_,X.columns)\n",
    "coefficients.columns = ['coefficients']\n",
    "display(coefficients)\n",
    "\n",
    "print(\"intercept is {}\".format(lm.intercept_))"
   ]
  },
  {
   "cell_type": "code",
   "execution_count": 16,
   "id": "0b868609-9e56-4cde-aa16-e11098acb4b3",
   "metadata": {},
   "outputs": [
    {
     "name": "stdout",
     "output_type": "stream",
     "text": [
      "R²: 0.6274459407100411\n",
      "Adjusted R²: 0.6134751634866676\n",
      "Mean Absolute Error (MAE): 0.5581142428327335\n",
      "Mean Squared Error (MSE): 0.5526294751155058\n"
     ]
    }
   ],
   "source": [
    "from sklearn.metrics import r2_score, mean_absolute_error, mean_squared_error\n",
    "# Calculate R²\n",
    "r2 = r2_score(y_test, y_pred)\n",
    "\n",
    "# Calculate Adjusted R²\n",
    "adjusted_r2 = 1 - (1-r2) * (len(y_test)-1) / (len(y_test)-X_test.shape[1]-1)\n",
    "\n",
    "# Calculate Mean Absolute Error (MAE)\n",
    "mae = mean_absolute_error(y_test, y_pred)\n",
    "\n",
    "# Calculate Mean Squared Error (MSE)\n",
    "mse = mean_squared_error(y_test, y_pred)\n",
    "\n",
    "# Print the model performance metrics\n",
    "print(f\"R²: {r2}\")\n",
    "print(f\"Adjusted R²: {adjusted_r2}\")\n",
    "print(f\"Mean Absolute Error (MAE): {mae}\")\n",
    "print(f\"Mean Squared Error (MSE): {mse}\")\n"
   ]
  },
  {
   "cell_type": "markdown",
   "id": "84b95090-a8a9-46f5-a309-8b64f2c08973",
   "metadata": {},
   "source": [
    "#### Observation:\n",
    "#### R² (Coefficient of Determination): 0.6274\n",
    "##### ->his indicates that approximately 62.74% of the variance in the dependent variable is explained by the independent variables in the model. This is a substantial proportion, showing a strong fit to the data.\n",
    "#### Adjusted R²: 0.6135\n",
    "##### ->This value is adjusted for the number of predictors in the model and is slightly lower than R², indicating that not all independent variables significantly contribute to the model. It provides a more conservative estimate of the model's explanatory power, accounting for the complexity of the model.\n",
    "#### Mean Absolute Error (MAE): 0.5581\n",
    "##### ->On average, the model's predictions are 0.5581 units away from the actual values, showing the average magnitude of errors in the predictions. A lower MAE indicates better predictive accuracy, suggesting that the model's predictions are generally close to the actual values.\n",
    "#### Mean Squared Error (MSE): 0.5531\n",
    "##### ->The Mean Squared Error (MSE) for the model is 0.5532. MSE quantifies the average squared difference between predicted values and actual values. A lower MSE indicates that, on average, the model's predictions are closer to the actual values, demonstrating effective predictive accuracy in minimizing errors.\n",
    "\n",
    "#### These metrics suggest that the model explains a substantial proportion of the variance (R² and Adjusted R²) and has a relatively low average error (MAE) and squared error (MSE), indicating strong predictive accuracy. While the fit is good, there may still be room for improvement in prediction accuracy and further reduction in errors."
   ]
  },
  {
   "cell_type": "markdown",
   "id": "a6247e56-52b6-4655-83cf-8702686c3dff",
   "metadata": {},
   "source": [
    "## 3.Lasso Regression"
   ]
  },
  {
   "cell_type": "markdown",
   "id": "ca6851df-589c-49ce-8135-3487b707af96",
   "metadata": {},
   "source": [
    "##### ->It facilitates feature selection by shrinking less important features' coefficients to zero.\n",
    "##### ->Acts as a regularization method to prevent overfitting by penalizing large coefficients.\n",
    "##### ->Effectively handles multicollinearity by shrinking coefficients of correlated predictors, improving model stability and interpretability."
   ]
  },
  {
   "cell_type": "code",
   "execution_count": 17,
   "id": "1b80f379-8509-4e97-99a1-dbb399ee152d",
   "metadata": {},
   "outputs": [
    {
     "name": "stdout",
     "output_type": "stream",
     "text": [
      "lambda = 0.001\n",
      "MAE for this lambda = 0.559312318400772\n",
      "MSE for this lambda = 0.5532447278772145\n",
      "R² for this lambda = 0.6270311692868991\n",
      "Adjusted R² for this lambda = 0.6130448381351578\n",
      "------------------\n",
      "lambda = 0.0064444444444444445\n",
      "MAE for this lambda = 0.5639586183646867\n",
      "MSE for this lambda = 0.5567888094935342\n",
      "R² for this lambda = 0.6246419337284104\n",
      "Adjusted R² for this lambda = 0.6105660062432258\n",
      "------------------\n",
      "lambda = 0.01188888888888889\n",
      "MAE for this lambda = 0.5686344216992294\n",
      "MSE for this lambda = 0.5616433430620987\n",
      "R² for this lambda = 0.6213692595979724\n",
      "Adjusted R² for this lambda = 0.6071706068328964\n",
      "------------------\n",
      "lambda = 0.017333333333333333\n",
      "MAE for this lambda = 0.5737543100947852\n",
      "MSE for this lambda = 0.5683318310122312\n",
      "R² for this lambda = 0.6168602287761672\n",
      "Adjusted R² for this lambda = 0.6024924873552735\n",
      "------------------\n",
      "lambda = 0.02277777777777778\n",
      "MAE for this lambda = 0.5790584441105241\n",
      "MSE for this lambda = 0.5768441666303001\n",
      "R² for this lambda = 0.6111216546838475\n",
      "Adjusted R² for this lambda = 0.5965387167344918\n",
      "------------------\n",
      "lambda = 0.028222222222222225\n",
      "MAE for this lambda = 0.5850603543438796\n",
      "MSE for this lambda = 0.5871848452517043\n",
      "R² for this lambda = 0.6041505067996131\n",
      "Adjusted R² for this lambda = 0.5893061508045986\n",
      "------------------\n",
      "lambda = 0.033666666666666664\n",
      "MAE for this lambda = 0.5913807961254547\n",
      "MSE for this lambda = 0.5993538675540993\n",
      "R² for this lambda = 0.5959467846666239\n",
      "Adjusted R² for this lambda = 0.5807947890916223\n",
      "------------------\n",
      "lambda = 0.03911111111111111\n",
      "MAE for this lambda = 0.5982789555577162\n",
      "MSE for this lambda = 0.6133598278750053\n",
      "R² for this lambda = 0.5865046944293686\n",
      "Adjusted R² for this lambda = 0.5709986204704699\n",
      "------------------\n",
      "lambda = 0.04455555555555556\n",
      "MAE for this lambda = 0.6026490140181826\n",
      "MSE for this lambda = 0.6225879545428501\n",
      "R² for this lambda = 0.5802835712273734\n",
      "Adjusted R² for this lambda = 0.5645442051484\n",
      "------------------\n",
      "lambda = 0.05\n",
      "MAE for this lambda = 0.6058861367025932\n",
      "MSE for this lambda = 0.627936028326658\n",
      "R² for this lambda = 0.5766781779444267\n",
      "Adjusted R² for this lambda = 0.5608036096173427\n",
      "------------------\n",
      "Best value of lambda = 0.001\n",
      "Best MAE = 0.559312318400772\n",
      "Best MSE = 0.5532447278772145\n",
      "Best R² = 0.6270311692868991\n",
      "Best Adjusted R² = 0.6130448381351578\n"
     ]
    }
   ],
   "source": [
    "from sklearn.linear_model import Lasso\n",
    "from sklearn.metrics import mean_absolute_error, mean_squared_error, r2_score\n",
    "# Define the range of lambda (alpha) values\n",
    "lamda = np.linspace(0.001, 0.05, 10)\n",
    "\n",
    "best_lamda = 0\n",
    "best_mae = float('inf')  # Initialize with a large value for finding minimum\n",
    "best_mse = float('inf')  # Initialize with a large value for finding minimum\n",
    "best_r2 = -float('inf')   # Initialize with a large negative value for finding maximum\n",
    "best_adjr2 = -float('inf') # Initialize with a large negative value for finding maximum\n",
    "\n",
    "for param in lamda:\n",
    "    # Create Lasso Regression model with current alpha parameter\n",
    "    LRM = Lasso(alpha=param)\n",
    "    LRM.fit(X_train, y_train)\n",
    "    \n",
    "    # Predict using the model\n",
    "    y_pred = LRM.predict(X_test)\n",
    "    \n",
    "    # Calculate evaluation metrics\n",
    "    mae = mean_absolute_error(y_test, y_pred)\n",
    "    mse = mean_squared_error(y_test, y_pred)\n",
    "    r2 = r2_score(y_test, y_pred)\n",
    "    n = len(y_test)\n",
    "    p = X_test.shape[1]\n",
    "    adjusted_r2 = 1 - (1 - r2) * (n - 1) / (n - p - 1)\n",
    "    \n",
    "    # Print metrics for current lambda\n",
    "    print(\"lambda =\", param)\n",
    "    print(\"MAE for this lambda =\", mae)\n",
    "    print(\"MSE for this lambda =\", mse)\n",
    "    print(\"R² for this lambda =\", r2)\n",
    "    print(\"Adjusted R² for this lambda =\", adjusted_r2)\n",
    "    print(\"------------------\")\n",
    "    \n",
    "    # Update best metrics and lambda if a better value is found\n",
    "    if mae < best_mae:\n",
    "        best_mae = mae\n",
    "        best_lamda = param\n",
    "    \n",
    "    if mse < best_mse:\n",
    "        best_mse = mse\n",
    "        best_lamda = param\n",
    "    \n",
    "    if r2 > best_r2:\n",
    "        best_r2 = r2\n",
    "        best_lamda = param\n",
    "    \n",
    "    if adjusted_r2 > best_adjr2:\n",
    "        best_adjr2 = adjusted_r2\n",
    "        best_lamda = param\n",
    "\n",
    "# Print the best lambda and corresponding metrics found\n",
    "print(\"Best value of lambda =\", best_lamda)\n",
    "print(\"Best MAE =\", best_mae)\n",
    "print(\"Best MSE =\", best_mse)\n",
    "print(\"Best R² =\", best_r2)\n",
    "print(\"Best Adjusted R² =\", best_adjr2)\n"
   ]
  },
  {
   "cell_type": "markdown",
   "id": "bc617a3a-8ae5-49ed-bd42-86deb52cd249",
   "metadata": {},
   "source": [
    "#### Observation:\n",
    "#### Best Lambda: 0.001\n",
    "##### ->The optimal regularization strength (lambda) selected for the Lasso regression model is 0.001. This indicates a low level of regularization, which helps to improve generalization while minimally penalizing coefficients.\n",
    "#### Best MAE: 0.5593\n",
    "##### ->The mean absolute error achieved by the model on the test set is 0.5593. Lower MAE values indicate better predictive accuracy, suggesting that the model's predictions are generally close to the actual values.\n",
    "#### Best MSE: 0.5532\n",
    "##### ->The best Mean Squared Error (MSE) achieved by the Lasso regression model is 0.5532. This indicates that, on average, the squared difference between the model's predictions and the actual values is relatively low, suggesting effective predictive accuracy in minimizing prediction errors.\n",
    "#### Best R²: 0.6270\n",
    "##### ->The coefficient of determination of 0.6270 suggests that approximately 62.70% of the variance in the dependent variable is explained by the independent variables included in the model. Higher R² values indicate a better fit to the data.\n",
    "#### Best Adjusted R²: 0.6130\n",
    "##### ->The adjusted R² of 0.6130 accounts for the number of predictors in the model, showing a slightly lower but more conservative estimate of model fit compared to R². It helps in assessing the model's goodness-of-fit considering the complexity added by additional predictors.\n",
    "##### ->These results demonstrate a balanced trade-off achieved by tuning the regularization strength (lambda). The model shows good predictive accuracy (MAE) and a high level of explained variance (R²), suggesting effective regularization to prevent overfitting while maintaining strong predictive power.\n",
    "\n",
    "\n",
    "\n",
    "\n",
    "\n",
    "\n"
   ]
  },
  {
   "cell_type": "markdown",
   "id": "af3b686f-490f-449c-8705-c127b3c8548e",
   "metadata": {},
   "source": [
    "## 4.ElasticNet Regression"
   ]
  },
  {
   "cell_type": "markdown",
   "id": "c5245e41-a69a-45d2-a71a-95ffd78df8ce",
   "metadata": {},
   "source": [
    "##### ->Elastic Net regression is a regularization technique that combines the penalties of both Lasso (L1 norm) and Ridge (L2 norm) regression. Let's delve into each type to understand how Elastic Net differs from Lasso, Ridge, and Multiple Linear Regression:"
   ]
  },
  {
   "cell_type": "markdown",
   "id": "abfc109e-300d-43ba-858b-1262ee78da2d",
   "metadata": {},
   "source": [
    "#### When to choose Elasticnet Regression?\n",
    "##### ->Elastic Net regression is often preferred in situations where there are many correlated predictors. It helps to address the limitations of Lasso, which may select only one variable from a group of highly correlated variables, by incorporating Ridge's ability to handle multicollinearity. This makes Elastic Net more robust and versatile in many real-world scenarios where datasets often exhibit complex relationships among variables."
   ]
  },
  {
   "cell_type": "code",
   "execution_count": 18,
   "id": "f45e7749-8091-4c06-b261-a97f39fbbd93",
   "metadata": {},
   "outputs": [
    {
     "name": "stdout",
     "output_type": "stream",
     "text": [
      "alpha = 0.001\n",
      "l1_ratio = 0.1\n",
      "MAE for this combination = 0.5588486270291629\n",
      "MSE for this combination = 0.5530103868428016\n",
      "R² for this combination = 0.62718914982822\n",
      "Adjusted R² for this combination = 0.6132087429467783\n",
      "------------------\n",
      "alpha = 0.001\n",
      "l1_ratio = 0.3\n",
      "MAE for this combination = 0.5589510743855782\n",
      "MSE for this combination = 0.5530606856719668\n",
      "R² for this combination = 0.6271552409727811\n",
      "Adjusted R² for this combination = 0.6131735625092604\n",
      "------------------\n",
      "alpha = 0.001\n",
      "l1_ratio = 0.5\n",
      "MAE for this combination = 0.5590538597157276\n",
      "MSE for this combination = 0.5531119923442114\n",
      "R² for this combination = 0.6271206526819386\n",
      "Adjusted R² for this combination = 0.6131376771575113\n",
      "------------------\n",
      "alpha = 0.001\n",
      "l1_ratio = 0.7\n",
      "MAE for this combination = 0.5591569855577296\n",
      "MSE for this combination = 0.5531643158874329\n",
      "R² for this combination = 0.6270853788695537\n",
      "Adjusted R² for this combination = 0.613101080577162\n",
      "------------------\n",
      "alpha = 0.001\n",
      "l1_ratio = 0.9\n",
      "MAE for this combination = 0.5592604544773709\n",
      "MSE for this combination = 0.553217665448528\n",
      "R² for this combination = 0.6270494133692641\n",
      "Adjusted R² for this combination = 0.6130637663706116\n",
      "------------------\n",
      "alpha = 0.0064444444444444445\n",
      "l1_ratio = 0.1\n",
      "MAE for this combination = 0.5625714588723053\n",
      "MSE for this combination = 0.5557005255002085\n",
      "R² for this combination = 0.6253755982136227\n",
      "Adjusted R² for this combination = 0.6113271831466335\n",
      "------------------\n",
      "alpha = 0.0064444444444444445\n",
      "l1_ratio = 0.3\n",
      "MAE for this combination = 0.5628571963353225\n",
      "MSE for this combination = 0.5558968014667496\n",
      "R² for this combination = 0.625243279161946\n",
      "Adjusted R² for this combination = 0.6111899021305189\n",
      "------------------\n",
      "alpha = 0.0064444444444444445\n",
      "l1_ratio = 0.5\n",
      "MAE for this combination = 0.5631481381059592\n",
      "MSE for this combination = 0.5561172728015754\n",
      "R² for this combination = 0.62509464885096\n",
      "Adjusted R² for this combination = 0.611035698182871\n",
      "------------------\n",
      "alpha = 0.0064444444444444445\n",
      "l1_ratio = 0.7\n",
      "MAE for this combination = 0.5634459930688582\n",
      "MSE for this combination = 0.5563643468501484\n",
      "R² for this combination = 0.6249280843735191\n",
      "Adjusted R² for this combination = 0.610862887537526\n",
      "------------------\n",
      "alpha = 0.0064444444444444445\n",
      "l1_ratio = 0.9\n",
      "MAE for this combination = 0.5637708898437591\n",
      "MSE for this combination = 0.5566398057819522\n",
      "R² for this combination = 0.6247423842836175\n",
      "Adjusted R² for this combination = 0.6106702236942532\n",
      "------------------\n",
      "alpha = 0.01188888888888889\n",
      "l1_ratio = 0.1\n",
      "MAE for this combination = 0.5654192108217981\n",
      "MSE for this combination = 0.5587194577100764\n",
      "R² for this combination = 0.6233403910809008\n",
      "Adjusted R² for this combination = 0.6092156557464345\n",
      "------------------\n",
      "alpha = 0.01188888888888889\n",
      "l1_ratio = 0.3\n",
      "MAE for this combination = 0.565627283780648\n",
      "MSE for this combination = 0.5589203228894046\n",
      "R² for this combination = 0.6232049782205695\n",
      "Adjusted R² for this combination = 0.6090751649038408\n",
      "------------------\n",
      "alpha = 0.01188888888888889\n",
      "l1_ratio = 0.5\n",
      "MAE for this combination = 0.5664370076419922\n",
      "MSE for this combination = 0.5595523305493335\n",
      "R² for this combination = 0.6227789115161839\n",
      "Adjusted R² for this combination = 0.6086331206980409\n",
      "------------------\n",
      "alpha = 0.01188888888888889\n",
      "l1_ratio = 0.7\n",
      "MAE for this combination = 0.5672833813175568\n",
      "MSE for this combination = 0.5602926364645808\n",
      "R² for this combination = 0.6222798357588075\n",
      "Adjusted R² for this combination = 0.6081153295997628\n",
      "------------------\n",
      "alpha = 0.01188888888888889\n",
      "l1_ratio = 0.9\n",
      "MAE for this combination = 0.5681724996230498\n",
      "MSE for this combination = 0.5611583749823764\n",
      "R² for this combination = 0.6216961998624033\n",
      "Adjusted R² for this combination = 0.6075098073572435\n",
      "------------------\n",
      "alpha = 0.017333333333333333\n",
      "l1_ratio = 0.1\n",
      "MAE for this combination = 0.5688585136352455\n",
      "MSE for this combination = 0.5623963902986853\n",
      "R² for this combination = 0.620861594304208\n",
      "Adjusted R² for this combination = 0.6066439040906157\n",
      "------------------\n",
      "alpha = 0.017333333333333333\n",
      "l1_ratio = 0.3\n",
      "MAE for this combination = 0.5693463716289137\n",
      "MSE for this combination = 0.5629046152807319\n",
      "R² for this combination = 0.6205189754454248\n",
      "Adjusted R² for this combination = 0.6062884370246282\n",
      "------------------\n",
      "alpha = 0.017333333333333333\n",
      "l1_ratio = 0.5\n",
      "MAE for this combination = 0.5701421423461807\n",
      "MSE for this combination = 0.563822223858837\n",
      "R² for this combination = 0.619900371451237\n",
      "Adjusted R² for this combination = 0.6056466353806584\n",
      "------------------\n",
      "alpha = 0.017333333333333333\n",
      "l1_ratio = 0.7\n",
      "MAE for this combination = 0.5715094889788601\n",
      "MSE for this combination = 0.5653682070215792\n",
      "R² for this combination = 0.6188581499831309\n",
      "Adjusted R² for this combination = 0.6045653306074983\n",
      "------------------\n",
      "alpha = 0.017333333333333333\n",
      "l1_ratio = 0.9\n",
      "MAE for this combination = 0.5729741424396727\n",
      "MSE for this combination = 0.5672434185703855\n",
      "R² for this combination = 0.6175939798546932\n",
      "Adjusted R² for this combination = 0.6032537540992442\n",
      "------------------\n",
      "alpha = 0.02277777777777778\n",
      "l1_ratio = 0.1\n",
      "MAE for this combination = 0.5719877569324804\n",
      "MSE for this combination = 0.5663576552730006\n",
      "R² for this combination = 0.6181911154163493\n",
      "Adjusted R² for this combination = 0.6038732822444624\n",
      "------------------\n",
      "alpha = 0.02277777777777778\n",
      "l1_ratio = 0.3\n",
      "MAE for this combination = 0.5727583884080724\n",
      "MSE for this combination = 0.5673498647752252\n",
      "R² for this combination = 0.6175222193578418\n",
      "Adjusted R² for this combination = 0.6031793025837608\n",
      "------------------\n",
      "alpha = 0.02277777777777778\n",
      "l1_ratio = 0.5\n",
      "MAE for this combination = 0.5736666738571575\n",
      "MSE for this combination = 0.5687895169270593\n",
      "R² for this combination = 0.6165516807288279\n",
      "Adjusted R² for this combination = 0.602172368756159\n",
      "------------------\n",
      "alpha = 0.02277777777777778\n",
      "l1_ratio = 0.7\n",
      "MAE for this combination = 0.5755964433720008\n",
      "MSE for this combination = 0.571458706722687\n",
      "R² for this combination = 0.6147522517476491\n",
      "Adjusted R² for this combination = 0.600305461188186\n",
      "------------------\n",
      "alpha = 0.02277777777777778\n",
      "l1_ratio = 0.9\n",
      "MAE for this combination = 0.5777940185556792\n",
      "MSE for this combination = 0.5748326854577799\n",
      "R² for this combination = 0.6124776907075342\n",
      "Adjusted R² for this combination = 0.5979456041090667\n",
      "------------------\n",
      "alpha = 0.028222222222222225\n",
      "l1_ratio = 0.1\n",
      "MAE for this combination = 0.5749766191351466\n",
      "MSE for this combination = 0.5704729003846912\n",
      "R² for this combination = 0.615416831125753\n",
      "Adjusted R² for this combination = 0.6009949622929687\n",
      "------------------\n",
      "alpha = 0.028222222222222225\n",
      "l1_ratio = 0.3\n",
      "MAE for this combination = 0.5761453090653913\n",
      "MSE for this combination = 0.5720985068851658\n",
      "R² for this combination = 0.6143209317431995\n",
      "Adjusted R² for this combination = 0.5998579666835695\n",
      "------------------\n",
      "alpha = 0.028222222222222225\n",
      "l1_ratio = 0.5\n",
      "MAE for this combination = 0.5774928523489105\n",
      "MSE for this combination = 0.5744555805363859\n",
      "R² for this combination = 0.6127319152387434\n",
      "Adjusted R² for this combination = 0.5982093620601963\n",
      "------------------\n",
      "alpha = 0.028222222222222225\n",
      "l1_ratio = 0.7\n",
      "MAE for this combination = 0.5799203979778609\n",
      "MSE for this combination = 0.5784471998366578\n",
      "R² for this combination = 0.6100409730425356\n",
      "Adjusted R² for this combination = 0.5954175095316306\n",
      "------------------\n",
      "alpha = 0.028222222222222225\n",
      "l1_ratio = 0.9\n",
      "MAE for this combination = 0.5832062622521692\n",
      "MSE for this combination = 0.5838738766418029\n",
      "R² for this combination = 0.6063825896894057\n",
      "Adjusted R² for this combination = 0.5916219368027584\n",
      "------------------\n",
      "alpha = 0.033666666666666664\n",
      "l1_ratio = 0.1\n",
      "MAE for this combination = 0.5778657601910979\n",
      "MSE for this combination = 0.5746709828649227\n",
      "R² for this combination = 0.612586702188245\n",
      "Adjusted R² for this combination = 0.5980587035203041\n",
      "------------------\n",
      "alpha = 0.033666666666666664\n",
      "l1_ratio = 0.3\n",
      "MAE for this combination = 0.579396068697254\n",
      "MSE for this combination = 0.5770512456694066\n",
      "R² for this combination = 0.6109820527623306\n",
      "Adjusted R² for this combination = 0.5963938797409181\n",
      "------------------\n",
      "alpha = 0.033666666666666664\n",
      "l1_ratio = 0.5\n",
      "MAE for this combination = 0.5811930182236471\n",
      "MSE for this combination = 0.5805412854532289\n",
      "R² for this combination = 0.6086292493975178\n",
      "Adjusted R² for this combination = 0.5939528462499248\n",
      "------------------\n",
      "alpha = 0.033666666666666664\n",
      "l1_ratio = 0.7\n",
      "MAE for this combination = 0.5844448892776193\n",
      "MSE for this combination = 0.5862304421216248\n",
      "R² for this combination = 0.6047939157676849\n",
      "Adjusted R² for this combination = 0.5899736876089732\n",
      "------------------\n",
      "alpha = 0.033666666666666664\n",
      "l1_ratio = 0.9\n",
      "MAE for this combination = 0.588818579416585\n",
      "MSE for this combination = 0.5942967417483035\n",
      "R² for this combination = 0.5993560359500365\n",
      "Adjusted R² for this combination = 0.5843318872981629\n",
      "------------------\n",
      "alpha = 0.03911111111111111\n",
      "l1_ratio = 0.1\n",
      "MAE for this combination = 0.5805015135516315\n",
      "MSE for this combination = 0.5788885224621204\n",
      "R² for this combination = 0.6097434562741109\n",
      "Adjusted R² for this combination = 0.59510883588439\n",
      "------------------\n",
      "alpha = 0.03911111111111111\n",
      "l1_ratio = 0.3\n",
      "MAE for this combination = 0.5823894516552244\n",
      "MSE for this combination = 0.5821281560013254\n",
      "R² for this combination = 0.6075594637800615\n",
      "Adjusted R² for this combination = 0.5928429436718139\n",
      "------------------\n",
      "alpha = 0.03911111111111111\n",
      "l1_ratio = 0.5\n",
      "MAE for this combination = 0.5847743582720888\n",
      "MSE for this combination = 0.5869548353838032\n",
      "R² for this combination = 0.6043055674936619\n",
      "Adjusted R² for this combination = 0.5894670262746742\n",
      "------------------\n",
      "alpha = 0.03911111111111111\n",
      "l1_ratio = 0.7\n",
      "MAE for this combination = 0.588949404072487\n",
      "MSE for this combination = 0.59471695776819\n",
      "R² for this combination = 0.5990727481576967\n",
      "Adjusted R² for this combination = 0.5840379762136104\n",
      "------------------\n",
      "alpha = 0.03911111111111111\n",
      "l1_ratio = 0.9\n",
      "MAE for this combination = 0.5947892109972026\n",
      "MSE for this combination = 0.6060525680242989\n",
      "R² for this combination = 0.5914308690947685\n",
      "Adjusted R² for this combination = 0.5761095266858224\n",
      "------------------\n",
      "alpha = 0.04455555555555556\n",
      "l1_ratio = 0.1\n",
      "MAE for this combination = 0.582988195009965\n",
      "MSE for this combination = 0.5830805996788391\n",
      "R² for this combination = 0.606917375773032\n",
      "Adjusted R² for this combination = 0.5921767773645207\n",
      "------------------\n",
      "alpha = 0.04455555555555556\n",
      "l1_ratio = 0.3\n",
      "MAE for this combination = 0.5851651473171089\n",
      "MSE for this combination = 0.5872870143421887\n",
      "R² for this combination = 0.6040816297108802\n",
      "Adjusted R² for this combination = 0.5892346908250382\n",
      "------------------\n",
      "alpha = 0.04455555555555556\n",
      "l1_ratio = 0.5\n",
      "MAE for this combination = 0.5881895103642962\n",
      "MSE for this combination = 0.5936230389191419\n",
      "R² for this combination = 0.5998102113696644\n",
      "Adjusted R² for this combination = 0.5848030942960267\n",
      "------------------\n",
      "alpha = 0.04455555555555556\n",
      "l1_ratio = 0.7\n",
      "MAE for this combination = 0.5935482739862792\n",
      "MSE for this combination = 0.6038256424453715\n",
      "R² for this combination = 0.5929321465356661\n",
      "Adjusted R² for this combination = 0.5776671020307536\n",
      "------------------\n",
      "alpha = 0.04455555555555556\n",
      "l1_ratio = 0.9\n",
      "MAE for this combination = 0.6011833433354757\n",
      "MSE for this combination = 0.6190889036560178\n",
      "R² for this combination = 0.5826424494093216\n",
      "Adjusted R² for this combination = 0.5669915412621712\n",
      "------------------\n",
      "alpha = 0.05\n",
      "l1_ratio = 0.1\n",
      "MAE for this combination = 0.5852822297512184\n",
      "MSE for this combination = 0.5872323578456804\n",
      "R² for this combination = 0.604118476279074\n",
      "Adjusted R² for this combination = 0.5892729191395393\n",
      "------------------\n",
      "alpha = 0.05\n",
      "l1_ratio = 0.3\n",
      "MAE for this combination = 0.587795705869157\n",
      "MSE for this combination = 0.5924793436295469\n",
      "R² for this combination = 0.6005812312698251\n",
      "Adjusted R² for this combination = 0.5856030274424435\n",
      "------------------\n",
      "alpha = 0.05\n",
      "l1_ratio = 0.5\n",
      "MAE for this combination = 0.591567392198856\n",
      "MSE for this combination = 0.6004865806721978\n",
      "R² for this combination = 0.5951831683754907\n",
      "Adjusted R² for this combination = 0.5800025371895716\n",
      "------------------\n",
      "alpha = 0.05\n",
      "l1_ratio = 0.7\n",
      "MAE for this combination = 0.5985497647670182\n",
      "MSE for this combination = 0.6134844836512037\n",
      "R² for this combination = 0.5864206579862763\n",
      "Adjusted R² for this combination = 0.5709114326607617\n",
      "------------------\n",
      "alpha = 0.05\n",
      "l1_ratio = 0.9\n",
      "MAE for this combination = 0.6044257369985749\n",
      "MSE for this combination = 0.6260672317133273\n",
      "R² for this combination = 0.5779380234568979\n",
      "Adjusted R² for this combination = 0.5621106993365317\n",
      "------------------\n",
      "Best value of alpha = 0.001\n",
      "Best value of l1_ratio = 0.1\n",
      "Best MAE = 0.5588486270291629\n",
      "Best MSE = 0.5530103868428016\n",
      "Best R² = 0.62718914982822\n",
      "Best Adjusted R² = 0.6132087429467783\n"
     ]
    }
   ],
   "source": [
    "from sklearn.linear_model import ElasticNet\n",
    "from sklearn.metrics import mean_absolute_error, mean_squared_error, r2_score\n",
    "# Define the range of alpha (regularization strength) and l1_ratio values\n",
    "alpha_values = np.linspace(0.001, 0.05, 10)\n",
    "l1_ratio_values = [0.1, 0.3, 0.5, 0.7, 0.9]  # Adjust as needed\n",
    "\n",
    "best_alpha = 0\n",
    "best_l1_ratio = 0\n",
    "best_mae = float('inf')  # Initialize with a large value for finding minimum\n",
    "best_mse = float('inf')  # Initialize with a large value for finding minimum\n",
    "best_r2 = -float('inf')   # Initialize with a large negative value for finding maximum\n",
    "best_adjr2 = -float('inf') # Initialize with a large negative value for finding maximum\n",
    "\n",
    "for alpha_param in alpha_values:\n",
    "    for l1_ratio_param in l1_ratio_values:\n",
    "        # Create ElasticNet Regression model with current alpha and l1_ratio parameters\n",
    "        ENM = ElasticNet(alpha=alpha_param, l1_ratio=l1_ratio_param)\n",
    "        ENM.fit(X_train, y_train)\n",
    "        \n",
    "        # Predict using the model\n",
    "        y_pred = ENM.predict(X_test)\n",
    "        \n",
    "        # Calculate evaluation metrics\n",
    "        mae = mean_absolute_error(y_test, y_pred)\n",
    "        mse = mean_squared_error(y_test, y_pred)\n",
    "        r2 = r2_score(y_test, y_pred)\n",
    "        n = len(y_test)\n",
    "        p = X_test.shape[1]\n",
    "        adjusted_r2 = 1 - (1 - r2) * (n - 1) / (n - p - 1)\n",
    "        \n",
    "        # Print metrics for current alpha and l1_ratio\n",
    "        print(\"alpha =\", alpha_param)\n",
    "        print(\"l1_ratio =\", l1_ratio_param)\n",
    "        print(\"MAE for this combination =\", mae)\n",
    "        print(\"MSE for this combination =\", mse)\n",
    "        print(\"R² for this combination =\", r2)\n",
    "        print(\"Adjusted R² for this combination =\", adjusted_r2)\n",
    "        print(\"------------------\")\n",
    "        \n",
    "        # Update best metrics and parameters if a better combination is found\n",
    "        if mae < best_mae:\n",
    "            best_mae = mae\n",
    "            best_alpha = alpha_param\n",
    "            best_l1_ratio = l1_ratio_param\n",
    "        \n",
    "        if mse < best_mse:\n",
    "            best_mse = mse\n",
    "            best_alpha = alpha_param\n",
    "            best_l1_ratio = l1_ratio_param\n",
    "        \n",
    "        if r2 > best_r2:\n",
    "            best_r2 = r2\n",
    "            best_alpha = alpha_param\n",
    "            best_l1_ratio = l1_ratio_param\n",
    "        \n",
    "        if adjusted_r2 > best_adjr2:\n",
    "            best_adjr2 = adjusted_r2\n",
    "            best_alpha = alpha_param\n",
    "            best_l1_ratio = l1_ratio_param\n",
    "\n",
    "# Print the best parameters and corresponding metrics found\n",
    "print(\"Best value of alpha =\", best_alpha)\n",
    "print(\"Best value of l1_ratio =\", best_l1_ratio)\n",
    "print(\"Best MAE =\", best_mae)\n",
    "print(\"Best MSE =\", best_mse)\n",
    "print(\"Best R² =\", best_r2)\n",
    "print(\"Best Adjusted R² =\", best_adjr2)\n"
   ]
  },
  {
   "cell_type": "markdown",
   "id": "c19f6955-e97b-462f-b62b-f191fec588fd",
   "metadata": {},
   "source": [
    "#### Observation\n",
    "#### Best Alpha: 0.001\n",
    "##### ->The optimal regularization strength (alpha) for the ElasticNet regression model is 0.001, balancing L1 (Lasso) and L2 (Ridge) penalties to prevent overfitting while maintaining model flexibility.\n",
    "#### Best L1 Ratio: 0.1\n",
    "##### ->The L1 ratio (l1_ratio) of 0.1 indicates a slight preference for L2 regularization, suggesting a stronger emphasis on Ridge regularization over Lasso.\n",
    "#### Best MAE: 0.5588\n",
    "##### ->The mean absolute error (MAE) achieved by the model on the test set is 0.5588. Lower MAE values indicate better predictive accuracy, showing that the model's predictions are generally close to the actual values.\n",
    "#### Best MAE: 0.5530\n",
    "##### ->The best Mean Squared Error (MSE) obtained by the ElasticNet regression model is 0.5530, indicating strong predictive accuracy with minimized prediction errors.\n",
    "#### Best R²: 0.6272\n",
    "##### ->The coefficient of determination (R²) of 0.6272 indicates that approximately 62.72% of the variance in the dependent variable is explained by the independent variables included in the model. Higher R² values indicate better fit to the data.\n",
    "#### Best Adjusted R²: 0.6132\n",
    "##### ->The adjusted R² of 0.6132 adjusts for the number of predictors in the model, providing a slightly more conservative estimate of model fit compared to R². It reflects the model's ability to explain variability in the dependent variable while considering the complexity of the model."
   ]
  },
  {
   "cell_type": "code",
   "execution_count": 19,
   "id": "a1f6268e-1be1-45d2-ba8b-3771d0a12ec7",
   "metadata": {},
   "outputs": [
    {
     "data": {
      "text/html": [
       "<div>\n",
       "<style scoped>\n",
       "    .dataframe tbody tr th:only-of-type {\n",
       "        vertical-align: middle;\n",
       "    }\n",
       "\n",
       "    .dataframe tbody tr th {\n",
       "        vertical-align: top;\n",
       "    }\n",
       "\n",
       "    .dataframe thead th {\n",
       "        text-align: right;\n",
       "    }\n",
       "</style>\n",
       "<table border=\"1\" class=\"dataframe\">\n",
       "  <thead>\n",
       "    <tr style=\"text-align: right;\">\n",
       "      <th></th>\n",
       "      <th>Best λ (if applicable)</th>\n",
       "      <th>Best α or l1_ratio</th>\n",
       "      <th>MAE</th>\n",
       "      <th>MSE</th>\n",
       "      <th>R²</th>\n",
       "      <th>Adjusted R²</th>\n",
       "    </tr>\n",
       "    <tr>\n",
       "      <th>Regression Model</th>\n",
       "      <th></th>\n",
       "      <th></th>\n",
       "      <th></th>\n",
       "      <th></th>\n",
       "      <th></th>\n",
       "      <th></th>\n",
       "    </tr>\n",
       "  </thead>\n",
       "  <tbody>\n",
       "    <tr>\n",
       "      <th>Elastic Net</th>\n",
       "      <td>0.001</td>\n",
       "      <td>0.1</td>\n",
       "      <td>0.559312</td>\n",
       "      <td>0.553245</td>\n",
       "      <td>0.627031</td>\n",
       "      <td>0.613045</td>\n",
       "    </tr>\n",
       "    <tr>\n",
       "      <th>Lasso Regression</th>\n",
       "      <td>0.001</td>\n",
       "      <td>NaN</td>\n",
       "      <td>0.559152</td>\n",
       "      <td>0.553185</td>\n",
       "      <td>0.627071</td>\n",
       "      <td>0.613086</td>\n",
       "    </tr>\n",
       "    <tr>\n",
       "      <th>Multiple Linear Regression</th>\n",
       "      <td>0.000</td>\n",
       "      <td>NaN</td>\n",
       "      <td>0.558114</td>\n",
       "      <td>0.552629</td>\n",
       "      <td>0.627446</td>\n",
       "      <td>0.613475</td>\n",
       "    </tr>\n",
       "    <tr>\n",
       "      <th>Ridge Regression</th>\n",
       "      <td>0.000</td>\n",
       "      <td>NaN</td>\n",
       "      <td>0.558114</td>\n",
       "      <td>0.552629</td>\n",
       "      <td>0.627446</td>\n",
       "      <td>0.613475</td>\n",
       "    </tr>\n",
       "  </tbody>\n",
       "</table>\n",
       "</div>"
      ],
      "text/plain": [
       "                            Best λ (if applicable)  Best α or l1_ratio  \\\n",
       "Regression Model                                                         \n",
       "Elastic Net                                  0.001                 0.1   \n",
       "Lasso Regression                             0.001                 NaN   \n",
       "Multiple Linear Regression                   0.000                 NaN   \n",
       "Ridge Regression                             0.000                 NaN   \n",
       "\n",
       "                                 MAE       MSE        R²  Adjusted R²  \n",
       "Regression Model                                                       \n",
       "Elastic Net                 0.559312  0.553245  0.627031     0.613045  \n",
       "Lasso Regression            0.559152  0.553185  0.627071     0.613086  \n",
       "Multiple Linear Regression  0.558114  0.552629  0.627446     0.613475  \n",
       "Ridge Regression            0.558114  0.552629  0.627446     0.613475  "
      ]
     },
     "execution_count": 19,
     "metadata": {},
     "output_type": "execute_result"
    }
   ],
   "source": [
    "import pandas as pd\n",
    "\n",
    "# Define the data for each regression model\n",
    "data = {\n",
    "    'Regression Model': ['Elastic Net', 'Lasso Regression', 'Multiple Linear Regression', 'Ridge Regression'],\n",
    "    'Best λ (if applicable)': [0.001, 0.001, 0.0, 0.0],\n",
    "    'Best α or l1_ratio': [0.1, None, None, None],\n",
    "    'MAE': [0.559312318400772, 0.5591520317827925, 0.5581142428327338, 0.5581142428327338],\n",
    "    'MSE': [0.5532447278772145, 0.553185282666958, 0.552629475115506, 0.552629475115506],\n",
    "    'R²': [0.6270311692868991, 0.6270712441569224, 0.627445940710041, 0.627445940710041],\n",
    "    'Adjusted R²': [0.6130448381351578, 0.613086415812807, 0.6134751634866675,0.6134751634866675]\n",
    "}\n",
    "\n",
    "# Create a DataFrame\n",
    "per = pd.DataFrame(data)\n",
    "\n",
    "# Set the index to 'Regression Model' column\n",
    "per.set_index('Regression Model', inplace=True)\n",
    "\n",
    "# Display the DataFrame\n",
    "per\n",
    "\n",
    "\n",
    "\n"
   ]
  },
  {
   "cell_type": "markdown",
   "id": "1a8ef31f-dbde-4dd2-ba75-597e7b15a671",
   "metadata": {},
   "source": [
    "#### Based on the metrics provided (R², Adjusted R², MSE and MAE), Multiple Linear Regression and Ridge Regression seems to be the most favorable choice:\n",
    "\n",
    "##### ->It has the highest R² and Adjusted R² among the models, indicating better explanatory power.\n",
    "##### ->It also has the lowest MAE and MSE, suggesting more accurate predictions on average.\n",
    "##### ->Therefore, Multiple Linear Regression and Ridge Regression appears to strike a good predictive performance in the dataset."
   ]
  },
  {
   "cell_type": "markdown",
   "id": "bc391d55-b779-4a0d-a3bb-8d698ed11717",
   "metadata": {},
   "source": [
    "### Performing Classificcation Model"
   ]
  },
  {
   "cell_type": "markdown",
   "id": "77c8b08c-0281-45bb-ad72-26d2db40eb60",
   "metadata": {},
   "source": [
    "#### Creating a new column for the continous value LC50 to convert it into categorical value as classification can't be performed on continous values so a new categorical column is created from that particular column and categorised as Less, Medium and High Toxic respectively"
   ]
  },
  {
   "cell_type": "markdown",
   "id": "361fc48f-bcdd-4222-96d1-1fa4f7be1035",
   "metadata": {},
   "source": [
    "#### Categorising as per the info LC50 data, which is the concentration that causes death in 50% of test fish over a test duration of 96 hours, was used as a model response.\n",
    "##### ->Less Toxic: LC50 values from 6 to 10\n",
    "##### ->Medium Toxic: LC50 values from 4 to 6\n",
    "##### ->Highly Toxic: LC50 values from 1 to 4\n",
    "#### These ranges provide a general guideline for categorizing the toxicity based on LC50 values."
   ]
  },
  {
   "cell_type": "code",
   "execution_count": 20,
   "id": "977b5f8d-b715-4d3e-933d-f9179839d69f",
   "metadata": {},
   "outputs": [
    {
     "name": "stdout",
     "output_type": "stream",
     "text": [
      "First few rows of the dataframe with the new Toxicity Category:\n"
     ]
    },
    {
     "data": {
      "text/html": [
       "<div>\n",
       "<style scoped>\n",
       "    .dataframe tbody tr th:only-of-type {\n",
       "        vertical-align: middle;\n",
       "    }\n",
       "\n",
       "    .dataframe tbody tr th {\n",
       "        vertical-align: top;\n",
       "    }\n",
       "\n",
       "    .dataframe thead th {\n",
       "        text-align: right;\n",
       "    }\n",
       "</style>\n",
       "<table border=\"1\" class=\"dataframe\">\n",
       "  <thead>\n",
       "    <tr style=\"text-align: right;\">\n",
       "      <th></th>\n",
       "      <th>CIC0</th>\n",
       "      <th>SM1_Dz(Z)</th>\n",
       "      <th>GATS1i</th>\n",
       "      <th>NdsCH</th>\n",
       "      <th>NdssC</th>\n",
       "      <th>MLOGP</th>\n",
       "      <th>Toxicity Category</th>\n",
       "    </tr>\n",
       "  </thead>\n",
       "  <tbody>\n",
       "    <tr>\n",
       "      <th>0</th>\n",
       "      <td>3.260</td>\n",
       "      <td>0.829</td>\n",
       "      <td>1.676</td>\n",
       "      <td>0.0</td>\n",
       "      <td>1.0</td>\n",
       "      <td>1.453</td>\n",
       "      <td>Highly Toxic</td>\n",
       "    </tr>\n",
       "    <tr>\n",
       "      <th>1</th>\n",
       "      <td>2.189</td>\n",
       "      <td>0.580</td>\n",
       "      <td>0.863</td>\n",
       "      <td>0.0</td>\n",
       "      <td>0.0</td>\n",
       "      <td>1.348</td>\n",
       "      <td>Highly Toxic</td>\n",
       "    </tr>\n",
       "    <tr>\n",
       "      <th>2</th>\n",
       "      <td>2.125</td>\n",
       "      <td>0.638</td>\n",
       "      <td>0.831</td>\n",
       "      <td>0.0</td>\n",
       "      <td>0.0</td>\n",
       "      <td>1.348</td>\n",
       "      <td>Highly Toxic</td>\n",
       "    </tr>\n",
       "    <tr>\n",
       "      <th>3</th>\n",
       "      <td>3.027</td>\n",
       "      <td>0.331</td>\n",
       "      <td>1.472</td>\n",
       "      <td>1.0</td>\n",
       "      <td>0.0</td>\n",
       "      <td>1.807</td>\n",
       "      <td>Highly Toxic</td>\n",
       "    </tr>\n",
       "    <tr>\n",
       "      <th>4</th>\n",
       "      <td>2.094</td>\n",
       "      <td>0.827</td>\n",
       "      <td>0.860</td>\n",
       "      <td>0.0</td>\n",
       "      <td>0.0</td>\n",
       "      <td>1.886</td>\n",
       "      <td>Medium Toxic</td>\n",
       "    </tr>\n",
       "  </tbody>\n",
       "</table>\n",
       "</div>"
      ],
      "text/plain": [
       "    CIC0  SM1_Dz(Z)  GATS1i  NdsCH  NdssC  MLOGP Toxicity Category\n",
       "0  3.260      0.829   1.676    0.0    1.0  1.453      Highly Toxic\n",
       "1  2.189      0.580   0.863    0.0    0.0  1.348      Highly Toxic\n",
       "2  2.125      0.638   0.831    0.0    0.0  1.348      Highly Toxic\n",
       "3  3.027      0.331   1.472    1.0    0.0  1.807      Highly Toxic\n",
       "4  2.094      0.827   0.860    0.0    0.0  1.886      Medium Toxic"
      ]
     },
     "execution_count": 20,
     "metadata": {},
     "output_type": "execute_result"
    }
   ],
   "source": [
    "# Define a function to categorize LC50 values\n",
    "def categorize_toxicity(lc50):\n",
    "    if lc50 >= 6:\n",
    "        return \"Less Toxic\"\n",
    "    elif 4 <= lc50 < 6:\n",
    "        return \"Medium Toxic\"\n",
    "    else:\n",
    "        return \"Highly Toxic\"\n",
    "\n",
    "# Apply the function to the LC50 column to create a new categorical column\n",
    "df_new['Toxicity Category'] = df_new['LC50 [-LOG(mol/L)]'].apply(categorize_toxicity)\n",
    "\n",
    "# Drop the 'LC50 [-LOG(mol/L)]' column from df_new\n",
    "df_new.drop(columns=['LC50 [-LOG(mol/L)]'], inplace=True)\n",
    "\n",
    "# Display the first few rows of the dataframe with the new Toxicity Category\n",
    "print(\"First few rows of the dataframe with the new Toxicity Category:\")\n",
    "df_new.head()\n",
    "\n"
   ]
  },
  {
   "cell_type": "markdown",
   "id": "2cf8c719-eb74-456d-905d-12bdda9087b0",
   "metadata": {},
   "source": [
    "#### Here I am dropping LC50 col because since it will create high colinearity so I have created a categorical column Toxicity category using the values of LC50 and using it for classification algorithm as it is a categorical value."
   ]
  },
  {
   "cell_type": "code",
   "execution_count": 21,
   "id": "3b21474d-b691-4e85-bdb4-a8f1a1dd8d95",
   "metadata": {},
   "outputs": [
    {
     "name": "stdout",
     "output_type": "stream",
     "text": [
      "<class 'pandas.core.frame.DataFrame'>\n",
      "Index: 833 entries, 0 to 906\n",
      "Data columns (total 7 columns):\n",
      " #   Column             Non-Null Count  Dtype  \n",
      "---  ------             --------------  -----  \n",
      " 0   CIC0               833 non-null    float64\n",
      " 1   SM1_Dz(Z)          833 non-null    float64\n",
      " 2   GATS1i             833 non-null    float64\n",
      " 3   NdsCH              833 non-null    float64\n",
      " 4   NdssC              833 non-null    float64\n",
      " 5   MLOGP              833 non-null    float64\n",
      " 6   Toxicity Category  833 non-null    object \n",
      "dtypes: float64(6), object(1)\n",
      "memory usage: 52.1+ KB\n"
     ]
    }
   ],
   "source": [
    "df_new.info()"
   ]
  },
  {
   "cell_type": "code",
   "execution_count": 22,
   "id": "c649902a-1703-45b0-bb10-a379d0fb0c63",
   "metadata": {},
   "outputs": [],
   "source": [
    "# Ensure column names are trimmed of any extra spaces\n",
    "df_new.columns = df_new.columns.str.strip()\n",
    "\n",
    "# Drop the 'Toxicity Category' column correctly\n",
    "X = df_new.drop('Toxicity Category', axis=1)\n",
    "y = df_new['Toxicity Category']\n",
    "\n",
    "# Proceed with train-test split\n",
    "from sklearn.model_selection import train_test_split\n",
    "\n",
    "X_train, X_test, y_train, y_test = train_test_split(X, y, test_size=0.2, random_state=100)\n"
   ]
  },
  {
   "cell_type": "markdown",
   "id": "fdb86cf3-4aea-455d-94cb-4f944a48f113",
   "metadata": {},
   "source": [
    "## 1.Naive Bayes"
   ]
  },
  {
   "cell_type": "markdown",
   "id": "cecf5a29-8685-4eff-a559-0916e7e26e58",
   "metadata": {},
   "source": [
    "#### Naive Bayes is used in \n",
    "##### ->It is used in scenarios where simplicity, speed, and efficiency are valued, and where the assumption of feature independence (though naive) does not severely impact predictive accuracy. Their effectiveness in text classification, real-time applications, and multiclass prediction makes them a practical choice in many machine learning applications."
   ]
  },
  {
   "cell_type": "code",
   "execution_count": 23,
   "id": "9036b7c7-7a4a-44b1-a871-4deb185f421b",
   "metadata": {},
   "outputs": [
    {
     "name": "stdout",
     "output_type": "stream",
     "text": [
      "Model Performance metrics are as below :-\n",
      "\n",
      "Accuracy is 0.7485029940119761\n",
      "Precision is 0.7449430144040923\n",
      "Recall is 0.7485029940119761\n",
      "F1-Score is 0.7450574725666925\n"
     ]
    }
   ],
   "source": [
    "from sklearn.metrics import accuracy_score, precision_score, recall_score, f1_score\n",
    "from sklearn.naive_bayes import GaussianNB\n",
    "\n",
    "nb = GaussianNB() \n",
    "nb=nb.fit(X_train,y_train)\n",
    "y_pred = nb.predict(X_test)\n",
    "\n",
    "print(\"Model Performance metrics are as below :-\\n\")\n",
    "print(\"Accuracy is \"+str(accuracy_score(y_test,y_pred)))\n",
    "print(\"Precision is \"+str(precision_score(y_test,y_pred, average='weighted')))\n",
    "print(\"Recall is \"+str(recall_score(y_test,y_pred, average='weighted')))\n",
    "print(\"F1-Score is \"+str(f1_score(y_test,y_pred, average='weighted')))"
   ]
  },
  {
   "cell_type": "markdown",
   "id": "fe7fbc8d-e938-458a-b825-41aa086f5feb",
   "metadata": {},
   "source": [
    "#### Observation:\n",
    "##### ->Accuracy: An accuracy of 0.7485 means that approximately 78.85% of the predictions made by your model on the test set were correct. \n",
    "##### ->Precision: Precision measures the proportion of true positive predictions out of all positive predictions made by the model. A precision of 0.744 means that when your model predicts a class (e.g., a toxicity category), it is correct about 74.4.5% of the time.\n",
    "##### ->Recall: Recall (or sensitivity) measures the proportion of true positive instances that were correctly predicted by the model out of all actual positive instances. A recall of 0.7485 means that your model correctly identified approximately 74.8% of all actual positive instances in the dataset.\n",
    "##### ->F1-Score: The F1-Score is the harmonic mean of precision and recall. It provides a single metric that balances both precision and recall. A high F1-Score (0.7450 in your case) indicates good overall performance, especially when you want to balance both precision and recall.\n",
    "#### Final Verdict:\n",
    "##### ->In summary, your model is performing well across these metrics, indicating strong predictive capability for the toxicity categories in your dataset. These metrics collectively provide a comprehensive evaluation of your model's performance, addressing both correctness and completeness in predictions."
   ]
  },
  {
   "cell_type": "markdown",
   "id": "c6dfeda8-30e2-4433-aa80-0e6c0df818d3",
   "metadata": {},
   "source": [
    "### Adaboosting on Naive Bayes\n",
    "##### ->Adaboosting enhances Naive Bayes by iteratively improving classification accuracy through focusing on misclassified instances, making it effective for handling complex relationships, improving accuracy, and addressing class imbalance in datasets."
   ]
  },
  {
   "cell_type": "code",
   "execution_count": 24,
   "id": "176c20cb-a478-42bc-9f86-bf743d09f643",
   "metadata": {},
   "outputs": [
    {
     "name": "stdout",
     "output_type": "stream",
     "text": [
      "Best n_estimators = 2:\n",
      "  Accuracy: 0.7485\n",
      "  Precision: 0.7449\n",
      "  Recall: 0.7485\n",
      "  F1-Score: 0.7451\n"
     ]
    }
   ],
   "source": [
    "from sklearn.metrics import accuracy_score, precision_score, recall_score, f1_score\n",
    "from sklearn.naive_bayes import GaussianNB\n",
    "from sklearn.ensemble import AdaBoostClassifier\n",
    "\n",
    "# Range of n_estimators\n",
    "n_estimators_range = range(2, 51, 2)\n",
    "\n",
    "# Store results for different n_estimators values\n",
    "results = {\n",
    "    'n_estimators': [],\n",
    "    'accuracy': [],\n",
    "    'precision': [],\n",
    "    'recall': [],\n",
    "    'f1_score': []\n",
    "}\n",
    "\n",
    "best_f1_score = -1\n",
    "best_n_estimators = None\n",
    "\n",
    "for n in n_estimators_range:\n",
    "    base_estimator = GaussianNB()\n",
    "    ada = AdaBoostClassifier(estimator=base_estimator, n_estimators=n, random_state=99, algorithm='SAMME')\n",
    "\n",
    "    # Fit the model\n",
    "    ada.fit(X_train, y_train)\n",
    "\n",
    "    # Predict the test set results\n",
    "    y_pred = ada.predict(X_test)\n",
    "\n",
    "    # Evaluate model performance\n",
    "    accuracy = accuracy_score(y_test, y_pred)\n",
    "    precision = precision_score(y_test, y_pred, average='weighted', zero_division=0)\n",
    "    recall = recall_score(y_test, y_pred, average='weighted', zero_division=0)\n",
    "    f1 = f1_score(y_test, y_pred, average='weighted', zero_division=0)\n",
    "\n",
    "    # Store the results\n",
    "    results['n_estimators'].append(n)\n",
    "    results['accuracy'].append(accuracy)\n",
    "    results['precision'].append(precision)\n",
    "    results['recall'].append(recall)\n",
    "    results['f1_score'].append(f1)\n",
    "\n",
    "    # Track the best performing n_estimators\n",
    "    if f1 > best_f1_score:\n",
    "        best_f1_score = f1\n",
    "        best_n_estimators = n\n",
    "\n",
    "# Print the results for the best performing n_estimators\n",
    "print(f\"Best n_estimators = {best_n_estimators}:\")\n",
    "print(f\"  Accuracy: {results['accuracy'][results['n_estimators'].index(best_n_estimators)]:.4f}\")\n",
    "print(f\"  Precision: {results['precision'][results['n_estimators'].index(best_n_estimators)]:.4f}\")\n",
    "print(f\"  Recall: {results['recall'][results['n_estimators'].index(best_n_estimators)]:.4f}\")\n",
    "print(f\"  F1-Score: {results['f1_score'][results['n_estimators'].index(best_n_estimators)]:.4f}\")\n"
   ]
  },
  {
   "cell_type": "code",
   "execution_count": 25,
   "id": "bd19058c-3d05-4efd-9c06-a613559c9bfc",
   "metadata": {},
   "outputs": [
    {
     "data": {
      "image/png": "[encoded data removed]",
      "text/plain": [
       "<Figure size 1000x600 with 1 Axes>"
      ]
     },
     "metadata": {},
     "output_type": "display_data"
    }
   ],
   "source": [
    "# Plotting F1-score and recall against n_estimators\n",
    "plt.figure(figsize=(10, 6))\n",
    "\n",
    "# Plot F1-score\n",
    "plt.plot(results['n_estimators'], results['f1_score'], marker='o', linestyle='-', color='b', label='F1-score')\n",
    "\n",
    "# Plot recall\n",
    "plt.plot(results['n_estimators'], results['recall'], marker='s', linestyle='--', color='g', label='Recall')\n",
    "\n",
    "plt.xlabel('Number of Estimators (n_estimators)')\n",
    "plt.ylabel('Score')\n",
    "plt.title('Model Performance Metrics for AdaBoost with Naive Bayes')\n",
    "plt.xticks(range(2, 51, 2))\n",
    "plt.grid(True)\n",
    "plt.legend()\n",
    "plt.tight_layout()\n",
    "\n",
    "# Display the plot\n",
    "plt.show()"
   ]
  },
  {
   "cell_type": "markdown",
   "id": "13282cfc-73b6-4e1e-9799-13906f054ded",
   "metadata": {},
   "source": [
    "#### The best value is at n = 2."
   ]
  },
  {
   "cell_type": "markdown",
   "id": "809b9eb1-7ec1-4890-8871-494b3feae678",
   "metadata": {},
   "source": [
    "#### Observation:\n",
    "##### ->Accuracy: AdaBoost (0.7485) is higher than Naive Bayes (0.7485).\n",
    "##### ->Precision: AdaBoost (0.7449) is higher than Naive Bayes (0.7449).\n",
    "##### ->Recall: AdaBoost (0.7485) is higher than Naive Bayes (0.7485).\n",
    "##### ->F1-Score: AdaBoost (0.7451) is higher than Naive Bayes (0.7450).\n",
    "#### Conclusion\n",
    "##### ->The AdaBoost model with n_estimators = 2 outperforms the Naive Bayes model in F1-Score:\n",
    "#### Therefore, the AdaBoost model with at least 2 estimators is the better choice compared to the Naive Bayes model based on the provided metrics"
   ]
  },
  {
   "cell_type": "markdown",
   "id": "80b3add4-18c7-466f-8604-3b847b89bac9",
   "metadata": {},
   "source": [
    "### K-Fold Cross Validation on Naive Bayes \n",
    "##### ->K-fold cross-validation is applied to Naive Bayes to evaluate its predictive performance across multiple subsets of the data, ensuring that the model's accuracy and generalization capability are reliably assessed without overfitting to any single training-validation split."
   ]
  },
  {
   "cell_type": "code",
   "execution_count": 26,
   "id": "d5fb0dd0-5d9a-434e-ada5-ba8d6fe3aa72",
   "metadata": {
    "scrolled": true
   },
   "outputs": [
    {
     "name": "stdout",
     "output_type": "stream",
     "text": [
      "Model Performance metrics using k-Fold Cross Validation for different k values:\n",
      "\n",
      "k = 15:\n",
      "  Accuracy: 0.7263\n",
      "  Precision: 0.6037\n",
      "  Recall: 0.5598\n",
      "  F1-Score: 0.5690\n"
     ]
    }
   ],
   "source": [
    "import numpy as np\n",
    "from sklearn.model_selection import KFold, cross_val_predict\n",
    "from sklearn.metrics import accuracy_score, precision_score, recall_score, f1_score\n",
    "from sklearn.naive_bayes import GaussianNB\n",
    "\n",
    "# Custom scoring function to handle zero division\n",
    "def custom_precision(y_true, y_pred):\n",
    "    try:\n",
    "        return precision_score(y_true, y_pred, average='macro')\n",
    "    except ZeroDivisionError:\n",
    "        return 0.0\n",
    "\n",
    "def custom_recall(y_true, y_pred):\n",
    "    try:\n",
    "        return recall_score(y_true, y_pred, average='macro')\n",
    "    except ZeroDivisionError:\n",
    "        return 0.0\n",
    "\n",
    "def custom_f1(y_true, y_pred):\n",
    "    try:\n",
    "        return f1_score(y_true, y_pred, average='macro')\n",
    "    except ZeroDivisionError:\n",
    "        return 0.0\n",
    "\n",
    "# Store results for different k values\n",
    "results = {\n",
    "    'k': [],\n",
    "    'accuracy': [],\n",
    "    'precision': [],\n",
    "    'recall': [],\n",
    "    'f1_score': []\n",
    "}\n",
    "\n",
    "# Convert string labels to numeric labels if needed\n",
    "# Example:\n",
    "# y_numeric = np.where(y == 'Highly Toxic', 0, np.where(y == 'Less Toxic', 1, 2))\n",
    "\n",
    "for k in range(2, 20):\n",
    "    kf = KFold(n_splits=k, shuffle=True, random_state=99)\n",
    "    nb = GaussianNB()\n",
    "\n",
    "    # Perform cross-validation prediction\n",
    "    y_pred = cross_val_predict(nb, X, y, cv=kf)\n",
    "\n",
    "    # Calculate metrics\n",
    "    accuracy = accuracy_score(y, y_pred)\n",
    "    precision = custom_precision(y, y_pred)\n",
    "    recall = custom_recall(y, y_pred)\n",
    "    f1 = custom_f1(y, y_pred)\n",
    "\n",
    "    results['k'].append(k)\n",
    "    results['accuracy'].append(accuracy)\n",
    "    results['precision'].append(precision)\n",
    "    results['recall'].append(recall)\n",
    "    results['f1_score'].append(f1)\n",
    "\n",
    "# Print the results\n",
    "print(\"Model Performance metrics using k-Fold Cross Validation for different k values:\\n\")\n",
    "best_index = np.argmax(results['f1_score'])\n",
    "print(f\"k = {results['k'][best_index]}:\")\n",
    "print(f\"  Accuracy: {results['accuracy'][best_index]:.4f}\")\n",
    "print(f\"  Precision: {results['precision'][best_index]:.4f}\")\n",
    "print(f\"  Recall: {results['recall'][best_index]:.4f}\")\n",
    "print(f\"  F1-Score: {results['f1_score'][best_index]:.4f}\")\n"
   ]
  },
  {
   "cell_type": "markdown",
   "id": "056fcc8e-c515-456d-a628-f8c5a9af2967",
   "metadata": {},
   "source": [
    "#### Observation:\n",
    "##### ->Accuracy: K-Fold Cross (0.7263) is lower than Naive Bayes (0.7485).\n",
    "##### ->Precision: K-Fold Cross (0.6037) is lower than Naive Bayes (0.7449).\n",
    "##### ->Recall: K-Fold Cross (0.5592) is lower than Naive Bayes (0.7485).\n",
    "##### ->F1-Score: K-Fold Cross (0.5690) is lower than Naive Bayes (0.7450).\n",
    "#### Conclusion:\n",
    "##### ->Therefore, Naive Bayes model based on the provided metrics is a better model."
   ]
  },
  {
   "cell_type": "code",
   "execution_count": 27,
   "id": "198ac4e6-6515-4b96-a155-3f14d66a3abb",
   "metadata": {},
   "outputs": [
    {
     "data": {
      "image/png": "[encoded data removed]",
      "text/plain": [
       "<Figure size 1000x600 with 1 Axes>"
      ]
     },
     "metadata": {},
     "output_type": "display_data"
    }
   ],
   "source": [
    "# Plotting F1-score and recall against k\n",
    "plt.figure(figsize=(10, 6))\n",
    "plt.plot(results['k'], results['f1_score'], marker='o', label='F1-Score')\n",
    "plt.plot(results['k'], results['recall'], marker='o', label='Recall')\n",
    "plt.title('F1-Score and Recall vs. Number of Folds (K)')\n",
    "plt.xlabel('Number of Folds (K)')\n",
    "plt.ylabel('Score')\n",
    "plt.xticks(results['k'])\n",
    "plt.grid(True)\n",
    "plt.legend()\n",
    "plt.tight_layout()\n",
    "plt.show()"
   ]
  },
  {
   "cell_type": "markdown",
   "id": "6166c981-0dd7-4a20-8a88-1cefcba83c9c",
   "metadata": {},
   "source": [
    "#### The best value is at k = 15, F1-score is also high,"
   ]
  },
  {
   "cell_type": "markdown",
   "id": "c43f1dc4-e1ad-4f06-b9d8-1ef52b379820",
   "metadata": {},
   "source": [
    "#### So out of K fold cross, Naive Bayes and AdaBoost we should choose AdaBoost as it gives all the performance matrix best."
   ]
  },
  {
   "cell_type": "markdown",
   "id": "9515d584-99ab-40ba-a818-37889a4a511b",
   "metadata": {},
   "source": [
    "## 2.Support Vector Machine(SVM)"
   ]
  },
  {
   "cell_type": "markdown",
   "id": "e0ebd644-1a56-47c5-b44b-71bd117710a7",
   "metadata": {},
   "source": [
    "#### WHy we use SVM ?\n",
    "##### ->When Dealing with High-Dimensional Data\n",
    "##### ->When the Data is Sparse\n",
    "##### ->When a Clear Margin of Separation Exists"
   ]
  },
  {
   "cell_type": "code",
   "execution_count": 28,
   "id": "4f787364-f3ef-4dc2-90c3-d3d6cfd6b8c6",
   "metadata": {},
   "outputs": [
    {
     "name": "stdout",
     "output_type": "stream",
     "text": [
      "Model Performance metrics are as below :-\n",
      "\n",
      "Accuracy is 0.7964071856287425\n",
      "Precision is 0.7588113815658726\n",
      "Recall is 0.7964071856287425\n",
      "F1-Score is 0.7761580910577035\n"
     ]
    }
   ],
   "source": [
    "from sklearn import svm\n",
    "from sklearn.metrics import accuracy_score, precision_score, recall_score, f1_score\n",
    "\n",
    "kernel_values = ['linear', 'poly', 'rbf', 'sigmoid']\n",
    "\n",
    "svm_clf = svm.SVC(kernel=kernel_values[0], C=1, gamma=0.1)\n",
    "\n",
    "# Train SVC on X_train\n",
    "svm_clf.fit(X_train, y_train)\n",
    "\n",
    "# Predict the response using SVM fitted model\n",
    "y_pred = svm_clf.predict(X_test)\n",
    "\n",
    "# Calculate performance metrics\n",
    "print(\"Model Performance metrics are as below :-\\n\")\n",
    "print(\"Accuracy is \" + str(accuracy_score(y_test, y_pred)))\n",
    "print(\"Precision is \" + str(precision_score(y_test, y_pred, average='weighted', zero_division=0)))\n",
    "print(\"Recall is \" + str(recall_score(y_test, y_pred, average='weighted', zero_division=0)))\n",
    "print(\"F1-Score is \" + str(f1_score(y_test, y_pred, average='weighted', zero_division=0)))\n"
   ]
  },
  {
   "cell_type": "markdown",
   "id": "e5598901-ef11-48b0-99d5-706fccae234e",
   "metadata": {},
   "source": [
    "#### Observation:\n",
    "##### ->Balanced Performance: The accuracy, recall, and F1-Score are quite close to each other, suggesting that the model has a good balance between identifying positive cases and minimizing false positives.\n",
    "##### ->High Precision and Recall: Both precision and recall are relatively high, which is a positive indicator that your SVM model is effectively capturing positive cases and making accurate predictions.\n",
    "##### ->Overall Effectiveness: With an F1-Score of 0.7762, your model is performing well in terms of balancing precision and recall. This is especially useful in scenarios where both false positives and false negatives carry significant costs."
   ]
  },
  {
   "cell_type": "markdown",
   "id": "2512613a-b13c-4889-aa32-c0a5e641ca76",
   "metadata": {},
   "source": [
    "#### Finding the best kernel for SVM"
   ]
  },
  {
   "cell_type": "code",
   "execution_count": 29,
   "id": "e357d21f-2830-4966-82ae-dc5c66a490e5",
   "metadata": {},
   "outputs": [
    {
     "data": {
      "text/html": [
       "<div>\n",
       "<style scoped>\n",
       "    .dataframe tbody tr th:only-of-type {\n",
       "        vertical-align: middle;\n",
       "    }\n",
       "\n",
       "    .dataframe tbody tr th {\n",
       "        vertical-align: top;\n",
       "    }\n",
       "\n",
       "    .dataframe thead th {\n",
       "        text-align: right;\n",
       "    }\n",
       "</style>\n",
       "<table border=\"1\" class=\"dataframe\">\n",
       "  <thead>\n",
       "    <tr style=\"text-align: right;\">\n",
       "      <th></th>\n",
       "      <th>Kernel Type</th>\n",
       "      <th>C</th>\n",
       "      <th>Gamma</th>\n",
       "      <th>Accuracy</th>\n",
       "      <th>Precision</th>\n",
       "      <th>Recall</th>\n",
       "      <th>F1-Score</th>\n",
       "    </tr>\n",
       "  </thead>\n",
       "  <tbody>\n",
       "    <tr>\n",
       "      <th>0</th>\n",
       "      <td>linear</td>\n",
       "      <td>0.001</td>\n",
       "      <td>0.100000</td>\n",
       "      <td>0.514970</td>\n",
       "      <td>0.390999</td>\n",
       "      <td>0.358650</td>\n",
       "      <td>0.269544</td>\n",
       "    </tr>\n",
       "    <tr>\n",
       "      <th>1</th>\n",
       "      <td>linear</td>\n",
       "      <td>0.001</td>\n",
       "      <td>0.166667</td>\n",
       "      <td>0.514970</td>\n",
       "      <td>0.390999</td>\n",
       "      <td>0.358650</td>\n",
       "      <td>0.269544</td>\n",
       "    </tr>\n",
       "    <tr>\n",
       "      <th>2</th>\n",
       "      <td>linear</td>\n",
       "      <td>0.010</td>\n",
       "      <td>0.100000</td>\n",
       "      <td>0.766467</td>\n",
       "      <td>0.515429</td>\n",
       "      <td>0.536287</td>\n",
       "      <td>0.521915</td>\n",
       "    </tr>\n",
       "    <tr>\n",
       "      <th>3</th>\n",
       "      <td>linear</td>\n",
       "      <td>0.010</td>\n",
       "      <td>0.166667</td>\n",
       "      <td>0.766467</td>\n",
       "      <td>0.515429</td>\n",
       "      <td>0.536287</td>\n",
       "      <td>0.521915</td>\n",
       "    </tr>\n",
       "    <tr>\n",
       "      <th>4</th>\n",
       "      <td>linear</td>\n",
       "      <td>0.100</td>\n",
       "      <td>0.100000</td>\n",
       "      <td>0.784431</td>\n",
       "      <td>0.523329</td>\n",
       "      <td>0.549051</td>\n",
       "      <td>0.535194</td>\n",
       "    </tr>\n",
       "  </tbody>\n",
       "</table>\n",
       "</div>"
      ],
      "text/plain": [
       "  Kernel Type      C     Gamma  Accuracy  Precision    Recall  F1-Score\n",
       "0      linear  0.001  0.100000  0.514970   0.390999  0.358650  0.269544\n",
       "1      linear  0.001  0.166667  0.514970   0.390999  0.358650  0.269544\n",
       "2      linear  0.010  0.100000  0.766467   0.515429  0.536287  0.521915\n",
       "3      linear  0.010  0.166667  0.766467   0.515429  0.536287  0.521915\n",
       "4      linear  0.100  0.100000  0.784431   0.523329  0.549051  0.535194"
      ]
     },
     "execution_count": 29,
     "metadata": {},
     "output_type": "execute_result"
    }
   ],
   "source": [
    "from sklearn import svm\n",
    "from sklearn.metrics import accuracy_score, precision_score, recall_score, f1_score\n",
    "import pandas as pd\n",
    "\n",
    "C_values = [0.001, 0.01, 0.1, 1, 10]\n",
    "gamma_values = [0.1, 1/len(X.columns)]\n",
    "kernel_values = ['linear', 'poly', 'rbf', 'sigmoid']\n",
    "\n",
    "PerfMatrix = []\n",
    "\n",
    "for k in kernel_values:\n",
    "    for c in C_values:\n",
    "        for g in gamma_values:\n",
    "            svm_clf = svm.SVC(kernel=k, C=c, gamma=g)\n",
    "            svm_clf = svm_clf.fit(X_train, y_train)\n",
    "            y_pred = svm_clf.predict(X_test)\n",
    "            row = [\n",
    "                k, c, g, \n",
    "                accuracy_score(y_test, y_pred),\n",
    "                precision_score(y_test, y_pred, average='macro', zero_division=0),\n",
    "                recall_score(y_test, y_pred, average='macro', zero_division=0),\n",
    "                f1_score(y_test, y_pred, average='macro', zero_division=0)\n",
    "            ]\n",
    "            PerfMatrix.append(row)\n",
    "\n",
    "PerfMatrix = pd.DataFrame(PerfMatrix, columns=['Kernel Type', 'C', 'Gamma', 'Accuracy', 'Precision', 'Recall', 'F1-Score'])\n",
    "PerfMatrix.head()\n",
    "\n"
   ]
  },
  {
   "cell_type": "code",
   "execution_count": 30,
   "id": "25c6ad1f-5c09-494b-b37b-800b40767cd5",
   "metadata": {},
   "outputs": [
    {
     "data": {
      "text/html": [
       "<div>\n",
       "<style scoped>\n",
       "    .dataframe tbody tr th:only-of-type {\n",
       "        vertical-align: middle;\n",
       "    }\n",
       "\n",
       "    .dataframe tbody tr th {\n",
       "        vertical-align: top;\n",
       "    }\n",
       "\n",
       "    .dataframe thead th {\n",
       "        text-align: right;\n",
       "    }\n",
       "</style>\n",
       "<table border=\"1\" class=\"dataframe\">\n",
       "  <thead>\n",
       "    <tr style=\"text-align: right;\">\n",
       "      <th></th>\n",
       "      <th>Kernel Type</th>\n",
       "      <th>C</th>\n",
       "      <th>Gamma</th>\n",
       "      <th>Accuracy</th>\n",
       "      <th>Precision</th>\n",
       "      <th>Recall</th>\n",
       "      <th>F1-Score</th>\n",
       "    </tr>\n",
       "  </thead>\n",
       "  <tbody>\n",
       "    <tr>\n",
       "      <th>19</th>\n",
       "      <td>poly</td>\n",
       "      <td>10.0</td>\n",
       "      <td>0.166667</td>\n",
       "      <td>0.760479</td>\n",
       "      <td>0.572872</td>\n",
       "      <td>0.569673</td>\n",
       "      <td>0.56991</td>\n",
       "    </tr>\n",
       "  </tbody>\n",
       "</table>\n",
       "</div>"
      ],
      "text/plain": [
       "   Kernel Type     C     Gamma  Accuracy  Precision    Recall  F1-Score\n",
       "19        poly  10.0  0.166667  0.760479   0.572872  0.569673   0.56991"
      ]
     },
     "execution_count": 30,
     "metadata": {},
     "output_type": "execute_result"
    }
   ],
   "source": [
    "PerfMatrix[PerfMatrix['F1-Score']==max(PerfMatrix['F1-Score'])]"
   ]
  },
  {
   "cell_type": "markdown",
   "id": "09ffdb5f-a06e-4716-8a99-87ea83f7fbae",
   "metadata": {},
   "source": [
    "#### Accuracy (76.06%):\n",
    "##### ->The model is performing exceptionally well, correctly predicting a very high percentage of the test samples. Accuracy measures the proportion of true results (both true positives and true negatives) among the total number of cases examined.\n",
    "#### Precision (57.28%):\n",
    "##### ->Precision is  indicating that when the model predicts a sample as positive, it is correct 57.28% of the time. Precision is the ratio of true positives to the sum of true positives and false positives.\n",
    "#### Recall (56.96%):\n",
    "##### ->The recall value shows that the model successfully identifies 56.96% of all actual positive samples. Recall is the ratio of true positives to the sum of true positives and false negatives.\n",
    "#### F1-Score (56.991%):\n",
    "##### ->The F1-score, which is the harmonic mean of precision and recall. This indicates a balanced model in terms of precision and recall, providing an overall measure of the model's accuracy."
   ]
  },
  {
   "cell_type": "markdown",
   "id": "bc739a0b-b76f-4be6-b7c1-7017922621c7",
   "metadata": {},
   "source": [
    "##### ->Accuracy: Best Kernel (76.06%) is higher than Default Kernel (79.64%).\n",
    "##### ->Precision: Best Kernel (57.28%) is higher than Default Kernel (75.88%).\n",
    "##### ->Recall: Best Kernel (56.96%) is higher than Default Kernel (79.64%).\n",
    "##### ->F1-Score: Best Kernel (56.991%) is higher than Default Kernel (77.61%).\n",
    "#### Conclusion:\n",
    "##### ->The optimized SVM model is the default SVM model as it outperforms the best kernel type."
   ]
  },
  {
   "cell_type": "markdown",
   "id": "66f08b4e-f996-461a-8f59-6feb8d1fa13b",
   "metadata": {},
   "source": [
    "## 3.KNN Classification"
   ]
  },
  {
   "cell_type": "markdown",
   "id": "6f88d98c-5ce2-4843-bd97-6cd8f125697e",
   "metadata": {},
   "source": [
    "#### Why we KNN?\n",
    "##### ->Data with Few Noise and Outliers\n",
    "##### ->Small to Medium-Sized Datasets\n",
    "##### ->Non-linear Data"
   ]
  },
  {
   "cell_type": "code",
   "execution_count": 31,
   "id": "77e75079-61e8-41b3-9b88-9efd708eec62",
   "metadata": {},
   "outputs": [
    {
     "name": "stdout",
     "output_type": "stream",
     "text": [
      "Starting value of k is taken as 25\n",
      "Model Performance metrics are as below :-\n",
      "\n",
      "Accuracy is 0.7604790419161677\n",
      "Precision is 0.7238323698325044\n",
      "Recall is 0.7604790419161677\n",
      "F1-Score is 0.7410448766658444\n"
     ]
    }
   ],
   "source": [
    "from sklearn.neighbors import KNeighborsClassifier\n",
    "from sklearn.metrics import accuracy_score, precision_score, recall_score, f1_score\n",
    "import math\n",
    "\n",
    "k_start = int(math.sqrt(len(X_train))) # values of k has to be integers\n",
    "print(\"Starting value of k is taken as\",k_start)\n",
    "metric_start = 'euclidean'\n",
    "\n",
    "knn = KNeighborsClassifier(n_neighbors = k_start, metric = metric_start)\n",
    "\n",
    "#fit the model\n",
    "knn = knn.fit(X_train,y_train)\n",
    "\n",
    "#predict using model\n",
    "y_pred = knn.predict(X_test)\n",
    "\n",
    "print(\"Model Performance metrics are as below :-\\n\")\n",
    "print(\"Accuracy is \" + str(accuracy_score(y_test, y_pred)))\n",
    "print(\"Precision is \" + str(precision_score(y_test, y_pred, average='weighted', zero_division=0)))\n",
    "print(\"Recall is \" + str(recall_score(y_test, y_pred, average='weighted', zero_division=0)))\n",
    "print(\"F1-Score is \" + str(f1_score(y_test, y_pred, average='weighted', zero_division=0)))"
   ]
  },
  {
   "cell_type": "markdown",
   "id": "c78b9506-a339-42d7-80c7-d9bcbb124578",
   "metadata": {},
   "source": [
    "#### Observation:\n",
    "##### ->Accuracy: This metric measures the proportion of correctly predicted instances among the total instances. In your case, the KNN model correctly predicted around 76.05% of the test set samples.\n",
    "##### ->Precision: Precision measures the proportion of true positive predictions among all positive predictions made by the model. A precision of 0.7238 means that when the KNN model predicts a positive class, it is correct about 72.38% of the time.\n",
    "##### ->Recall: Recall, also known as sensitivity or true positive rate, measures the proportion of actual positives that were correctly predicted by the model. A recall of 0.7605 indicates that the KNN model correctly identified 76.05% of all actual positive instances.\n",
    "##### ->F1-Score: The F1-Score is the harmonic mean of precision and recall, providing a single metric that balances both precision and recall. It is useful when you want to seek a balance between precision and recall. An F1-Score of 74.10 indicates a reasonably balanced performance between precision and recall for your KNN model.\n",
    "\n",
    "#### In summary, the KNN model with k=25 demonstrates robust performance across multiple evaluation metrics, indicating effective learning and prediction capabilities."
   ]
  },
  {
   "cell_type": "markdown",
   "id": "b2c97a36-a14b-4863-b648-898554970c1a",
   "metadata": {},
   "source": [
    "### FInding the best distance in KNN."
   ]
  },
  {
   "cell_type": "code",
   "execution_count": 32,
   "id": "7f31ff8a-138b-42d9-910c-699cd61824ea",
   "metadata": {},
   "outputs": [
    {
     "data": {
      "text/html": [
       "<div>\n",
       "<style scoped>\n",
       "    .dataframe tbody tr th:only-of-type {\n",
       "        vertical-align: middle;\n",
       "    }\n",
       "\n",
       "    .dataframe tbody tr th {\n",
       "        vertical-align: top;\n",
       "    }\n",
       "\n",
       "    .dataframe thead th {\n",
       "        text-align: right;\n",
       "    }\n",
       "</style>\n",
       "<table border=\"1\" class=\"dataframe\">\n",
       "  <thead>\n",
       "    <tr style=\"text-align: right;\">\n",
       "      <th></th>\n",
       "      <th>k - Nearest Neighbors</th>\n",
       "      <th>Distance Metric</th>\n",
       "      <th>Accuracy</th>\n",
       "      <th>Precision</th>\n",
       "      <th>Recall</th>\n",
       "      <th>F1-Score</th>\n",
       "    </tr>\n",
       "  </thead>\n",
       "  <tbody>\n",
       "    <tr>\n",
       "      <th>6</th>\n",
       "      <td>10</td>\n",
       "      <td>euclidean</td>\n",
       "      <td>0.760479</td>\n",
       "      <td>0.748568</td>\n",
       "      <td>0.760479</td>\n",
       "      <td>0.750096</td>\n",
       "    </tr>\n",
       "  </tbody>\n",
       "</table>\n",
       "</div>"
      ],
      "text/plain": [
       "   k - Nearest Neighbors Distance Metric  Accuracy  Precision    Recall  \\\n",
       "6                     10       euclidean  0.760479   0.748568  0.760479   \n",
       "\n",
       "   F1-Score  \n",
       "6  0.750096  "
      ]
     },
     "execution_count": 32,
     "metadata": {},
     "output_type": "execute_result"
    }
   ],
   "source": [
    "import numpy as np\n",
    "import pandas as pd\n",
    "from sklearn.neighbors import KNeighborsClassifier\n",
    "from sklearn.metrics import accuracy_score, precision_score, recall_score, f1_score\n",
    "\n",
    "# Assuming X_train, X_test, y_train, y_test are defined earlier\n",
    "\n",
    "k_values = np.arange(4, int(len(X_train)/2), 1)\n",
    "metric_values = ['euclidean']\n",
    "\n",
    "PerfMatrix = []\n",
    "for dist in metric_values:\n",
    "    for k in k_values:\n",
    "        knn = KNeighborsClassifier(n_neighbors=k, metric=dist)\n",
    "        knn.fit(X_train, y_train)\n",
    "        y_pred = knn.predict(X_test)\n",
    "\n",
    "        accuracy = accuracy_score(y_test, y_pred)\n",
    "        precision = precision_score(y_test, y_pred, average='weighted', zero_division=0)  # Adjust zero_division as per your requirement\n",
    "        recall = recall_score(y_test, y_pred, average='weighted', zero_division=0)        # Adjust zero_division as per your requirement\n",
    "        f1 = f1_score(y_test, y_pred, average='weighted', zero_division=0)                # Adjust zero_division as per your requirement\n",
    "\n",
    "        row = [k, dist, accuracy, precision, recall, f1]\n",
    "        PerfMatrix.append(row)\n",
    "\n",
    "PerfMatrix = pd.DataFrame(PerfMatrix, columns=['k - Nearest Neighbors', 'Distance Metric', 'Accuracy', 'Precision', 'Recall', 'F1-Score'])\n",
    "\n",
    "# Identify the row with the highest F1-Score\n",
    "idx = PerfMatrix[PerfMatrix['F1-Score'] == PerfMatrix['F1-Score'].max()].index\n",
    "PerfMatrix.loc[idx]\n"
   ]
  },
  {
   "cell_type": "markdown",
   "id": "31db1f46-6252-49f9-9f5a-74fdc9164be5",
   "metadata": {},
   "source": [
    "#### For Distance metric euclidean it is giving the F1-score.\n",
    "##### ->k-Value: The model uses 10 nearest neighbors (k=10).\n",
    "##### -> Distance Metric: Euclidean distance is used as the metric for measuring similarity.\n",
    "##### -> Accuracy: The model achieves an accuracy of 0.760479, indicating it correctly predicts about 76.04% of the instances.\n",
    "##### -> Precision: The precision is 0.748568, showing that 74.85% of the predicted positive instances are correct.\n",
    "##### -> Recall: The recall is 0.760479, meaning the model correctly identifies 76.04% of all actual positive instances.\n",
    "##### -> F1-Score: The F1-score is 75%, which balances precision and recall, indicating moderate overall performance."
   ]
  },
  {
   "cell_type": "code",
   "execution_count": 33,
   "id": "88b1d865-0395-40a5-9f43-256e0b563fad",
   "metadata": {},
   "outputs": [
    {
     "data": {
      "text/html": [
       "<div>\n",
       "<style scoped>\n",
       "    .dataframe tbody tr th:only-of-type {\n",
       "        vertical-align: middle;\n",
       "    }\n",
       "\n",
       "    .dataframe tbody tr th {\n",
       "        vertical-align: top;\n",
       "    }\n",
       "\n",
       "    .dataframe thead th {\n",
       "        text-align: right;\n",
       "    }\n",
       "</style>\n",
       "<table border=\"1\" class=\"dataframe\">\n",
       "  <thead>\n",
       "    <tr style=\"text-align: right;\">\n",
       "      <th></th>\n",
       "      <th>k - Nearest Neighbors</th>\n",
       "      <th>Distance Metric</th>\n",
       "      <th>Accuracy</th>\n",
       "      <th>Precision</th>\n",
       "      <th>Recall</th>\n",
       "      <th>F1-Score</th>\n",
       "    </tr>\n",
       "  </thead>\n",
       "  <tbody>\n",
       "    <tr>\n",
       "      <th>14</th>\n",
       "      <td>18</td>\n",
       "      <td>cosine</td>\n",
       "      <td>0.784431</td>\n",
       "      <td>0.746727</td>\n",
       "      <td>0.784431</td>\n",
       "      <td>0.764435</td>\n",
       "    </tr>\n",
       "  </tbody>\n",
       "</table>\n",
       "</div>"
      ],
      "text/plain": [
       "    k - Nearest Neighbors Distance Metric  Accuracy  Precision    Recall  \\\n",
       "14                     18          cosine  0.784431   0.746727  0.784431   \n",
       "\n",
       "    F1-Score  \n",
       "14  0.764435  "
      ]
     },
     "execution_count": 33,
     "metadata": {},
     "output_type": "execute_result"
    }
   ],
   "source": [
    "import numpy as np\n",
    "import pandas as pd\n",
    "from sklearn.neighbors import KNeighborsClassifier\n",
    "from sklearn.metrics import accuracy_score, precision_score, recall_score, f1_score\n",
    "\n",
    "# Assuming X_train, X_test, y_train, y_test are defined earlier\n",
    "\n",
    "k_values = np.arange(4, int(len(X_train)/2), 1)\n",
    "metric_values = ['cosine']\n",
    "\n",
    "PerfMatrix = []\n",
    "for dist in metric_values:\n",
    "    for k in k_values:\n",
    "        knn = KNeighborsClassifier(n_neighbors=k, metric=dist)\n",
    "        knn.fit(X_train, y_train)\n",
    "        y_pred = knn.predict(X_test)\n",
    "\n",
    "        accuracy = accuracy_score(y_test, y_pred)\n",
    "        precision = precision_score(y_test, y_pred, average='weighted', zero_division=0)  # Adjust zero_division as per your requirement\n",
    "        recall = recall_score(y_test, y_pred, average='weighted', zero_division=0)        # Adjust zero_division as per your requirement\n",
    "        f1 = f1_score(y_test, y_pred, average='weighted', zero_division=0)                # Adjust zero_division as per your requirement\n",
    "\n",
    "        row = [k, dist, accuracy, precision, recall, f1]\n",
    "        PerfMatrix.append(row)\n",
    "\n",
    "PerfMatrix = pd.DataFrame(PerfMatrix, columns=['k - Nearest Neighbors', 'Distance Metric', 'Accuracy', 'Precision', 'Recall', 'F1-Score'])\n",
    "\n",
    "idx = PerfMatrix[PerfMatrix['F1-Score'] == PerfMatrix['F1-Score'].max()].index\n",
    "PerfMatrix.loc[idx]"
   ]
  },
  {
   "cell_type": "markdown",
   "id": "d0cffdc0-093a-4caf-998d-d2767005b327",
   "metadata": {},
   "source": [
    "#### For Distance metric cosine it is giving the F1-score.\n",
    "##### ->k-Value: The model uses 14 nearest neighbors (k=14).\n",
    "##### -> Distance Metric: Cosine distance is used as the metric for measuring similarity.\n",
    "##### -> Accuracy: The model achieves an accuracy of 0.784431, indicating it correctly predicts about 78.44% of the instances.\n",
    "##### -> Precision: The precision is 0.746727, showing that 76.67% of the predicted positive instances are correct.\n",
    "##### -> Recall: The recall is 0.784431, meaning the model correctly identifies 78.44% of all actual positive instances.\n",
    "##### -> F1-Score: The F1-score is 76.44%, which balances precision and recall, indicating moderate overall performance."
   ]
  },
  {
   "cell_type": "code",
   "execution_count": 34,
   "id": "795fd6ea-2f31-40e1-a677-1d65018d1963",
   "metadata": {},
   "outputs": [
    {
     "data": {
      "text/html": [
       "<div>\n",
       "<style scoped>\n",
       "    .dataframe tbody tr th:only-of-type {\n",
       "        vertical-align: middle;\n",
       "    }\n",
       "\n",
       "    .dataframe tbody tr th {\n",
       "        vertical-align: top;\n",
       "    }\n",
       "\n",
       "    .dataframe thead th {\n",
       "        text-align: right;\n",
       "    }\n",
       "</style>\n",
       "<table border=\"1\" class=\"dataframe\">\n",
       "  <thead>\n",
       "    <tr style=\"text-align: right;\">\n",
       "      <th></th>\n",
       "      <th>k - Nearest Neighbors</th>\n",
       "      <th>Distance Metric</th>\n",
       "      <th>Accuracy</th>\n",
       "      <th>Precision</th>\n",
       "      <th>Recall</th>\n",
       "      <th>F1-Score</th>\n",
       "    </tr>\n",
       "  </thead>\n",
       "  <tbody>\n",
       "    <tr>\n",
       "      <th>6</th>\n",
       "      <td>10</td>\n",
       "      <td>minkowski</td>\n",
       "      <td>0.760479</td>\n",
       "      <td>0.748568</td>\n",
       "      <td>0.760479</td>\n",
       "      <td>0.750096</td>\n",
       "    </tr>\n",
       "  </tbody>\n",
       "</table>\n",
       "</div>"
      ],
      "text/plain": [
       "   k - Nearest Neighbors Distance Metric  Accuracy  Precision    Recall  \\\n",
       "6                     10       minkowski  0.760479   0.748568  0.760479   \n",
       "\n",
       "   F1-Score  \n",
       "6  0.750096  "
      ]
     },
     "execution_count": 34,
     "metadata": {},
     "output_type": "execute_result"
    }
   ],
   "source": [
    "import numpy as np\n",
    "import pandas as pd\n",
    "from sklearn.neighbors import KNeighborsClassifier\n",
    "from sklearn.metrics import accuracy_score, precision_score, recall_score, f1_score\n",
    "\n",
    "# Assuming X_train, X_test, y_train, y_test are defined earlier\n",
    "\n",
    "k_values = np.arange(4, int(len(X_train)/2), 1)\n",
    "metric_values = ['minkowski']\n",
    "\n",
    "PerfMatrix = []\n",
    "for dist in metric_values:\n",
    "    for k in k_values:\n",
    "        knn = KNeighborsClassifier(n_neighbors=k, metric=dist)\n",
    "        knn.fit(X_train, y_train)\n",
    "        y_pred = knn.predict(X_test)\n",
    "\n",
    "        accuracy = accuracy_score(y_test, y_pred)\n",
    "        precision = precision_score(y_test, y_pred, average='weighted', zero_division=0)  # Adjust zero_division as per your requirement\n",
    "        recall = recall_score(y_test, y_pred, average='weighted', zero_division=0)        # Adjust zero_division as per your requirement\n",
    "        f1 = f1_score(y_test, y_pred, average='weighted', zero_division=0)                # Adjust zero_division as per your requirement\n",
    "\n",
    "        row = [k, dist, accuracy, precision, recall, f1]\n",
    "        PerfMatrix.append(row)\n",
    "\n",
    "PerfMatrix = pd.DataFrame(PerfMatrix, columns=['k - Nearest Neighbors', 'Distance Metric', 'Accuracy', 'Precision', 'Recall', 'F1-Score'])\n",
    "\n",
    "idx = PerfMatrix[PerfMatrix['F1-Score'] == PerfMatrix['F1-Score'].max()].index\n",
    "PerfMatrix.loc[idx]"
   ]
  },
  {
   "cell_type": "markdown",
   "id": "13cae0f1-9e2c-4d0d-b258-c3d105556d3b",
   "metadata": {},
   "source": [
    "#### For Distance metric minkowski it is giving the F1-score.\n",
    "##### ->k-Value: The model uses 6 nearest neighbors (k=6).\n",
    "##### -> Distance Metric: Minkowski distance is used as the metric for measuring similarity.\n",
    "##### -> Accuracy: The model achieves an accuracy of 0.760479, indicating it correctly predicts about 76.04% of the instances.\n",
    "##### -> Precision: The precision is 0.748568, showing that 74.85% of the predicted positive instances are correct.\n",
    "##### -> Recall: The recall is 0.760479, meaning the model correctly identifies 76.04% of all actual positive instances.\n",
    "##### -> F1-Score: The F1-score is 75%, which balances precision and recall, indicating moderate overall performance."
   ]
  },
  {
   "cell_type": "code",
   "execution_count": 35,
   "id": "d5d7126d-d04e-46d2-8ef7-d73cba7c64a7",
   "metadata": {},
   "outputs": [
    {
     "data": {
      "text/html": [
       "<div>\n",
       "<style scoped>\n",
       "    .dataframe tbody tr th:only-of-type {\n",
       "        vertical-align: middle;\n",
       "    }\n",
       "\n",
       "    .dataframe tbody tr th {\n",
       "        vertical-align: top;\n",
       "    }\n",
       "\n",
       "    .dataframe thead th {\n",
       "        text-align: right;\n",
       "    }\n",
       "</style>\n",
       "<table border=\"1\" class=\"dataframe\">\n",
       "  <thead>\n",
       "    <tr style=\"text-align: right;\">\n",
       "      <th></th>\n",
       "      <th>k - Nearest Neighbors</th>\n",
       "      <th>Distance Metric</th>\n",
       "      <th>Accuracy</th>\n",
       "      <th>Precision</th>\n",
       "      <th>Recall</th>\n",
       "      <th>F1-Score</th>\n",
       "    </tr>\n",
       "  </thead>\n",
       "  <tbody>\n",
       "    <tr>\n",
       "      <th>5</th>\n",
       "      <td>9</td>\n",
       "      <td>manhattan</td>\n",
       "      <td>0.766467</td>\n",
       "      <td>0.757046</td>\n",
       "      <td>0.766467</td>\n",
       "      <td>0.754776</td>\n",
       "    </tr>\n",
       "  </tbody>\n",
       "</table>\n",
       "</div>"
      ],
      "text/plain": [
       "   k - Nearest Neighbors Distance Metric  Accuracy  Precision    Recall  \\\n",
       "5                      9       manhattan  0.766467   0.757046  0.766467   \n",
       "\n",
       "   F1-Score  \n",
       "5  0.754776  "
      ]
     },
     "execution_count": 35,
     "metadata": {},
     "output_type": "execute_result"
    }
   ],
   "source": [
    "import numpy as np\n",
    "import pandas as pd\n",
    "from sklearn.neighbors import KNeighborsClassifier\n",
    "from sklearn.metrics import accuracy_score, precision_score, recall_score, f1_score\n",
    "\n",
    "# Assuming X_train, X_test, y_train, y_test are defined earlier\n",
    "\n",
    "k_values = np.arange(4, int(len(X_train)/2), 1)\n",
    "metric_values = ['manhattan']\n",
    "\n",
    "PerfMatrix = []\n",
    "for dist in metric_values:\n",
    "    for k in k_values:\n",
    "        knn = KNeighborsClassifier(n_neighbors=k, metric=dist)\n",
    "        knn.fit(X_train, y_train)\n",
    "        y_pred = knn.predict(X_test)\n",
    "\n",
    "        accuracy = accuracy_score(y_test, y_pred)\n",
    "        precision = precision_score(y_test, y_pred, average='weighted', zero_division=0)  # Adjust zero_division as per your requirement\n",
    "        recall = recall_score(y_test, y_pred, average='weighted', zero_division=0)        # Adjust zero_division as per your requirement\n",
    "        f1 = f1_score(y_test, y_pred, average='weighted', zero_division=0)                # Adjust zero_division as per your requirement\n",
    "\n",
    "        row = [k, dist, accuracy, precision, recall, f1]\n",
    "        PerfMatrix.append(row)\n",
    "\n",
    "PerfMatrix = pd.DataFrame(PerfMatrix, columns=['k - Nearest Neighbors', 'Distance Metric', 'Accuracy', 'Precision', 'Recall', 'F1-Score'])\n",
    "\n",
    "idx = PerfMatrix[PerfMatrix['F1-Score'] == PerfMatrix['F1-Score'].max()].index\n",
    "PerfMatrix.loc[idx]"
   ]
  },
  {
   "cell_type": "markdown",
   "id": "4e858655-b556-4cf6-b483-604766bedb17",
   "metadata": {},
   "source": [
    "#### For Distance metric manhattan it is giving the F1-score.\n",
    "##### ->k-Value: The model uses 5 nearest neighbors (k=5).\n",
    "##### -> Distance Metric: Manhattan distance is used as the metric for measuring similarity.\n",
    "##### -> Accuracy: The model achieves an accuracy of 0.766467, indicating it correctly predicts about 76.64% of the instances.\n",
    "##### -> Precision: The precision is 0.757046, showing that 75.70% of the predicted positive instances are correct.\n",
    "##### -> Recall: The recall is 0.766467, meaning the model correctly identifies 76.64% of all actual positive instances.\n",
    "##### -> F1-Score: The F1-score is 75.47%, which balances precision and recall, indicating moderate overall performance."
   ]
  },
  {
   "cell_type": "code",
   "execution_count": 36,
   "id": "34cda2c1-bd5d-4f24-93a8-e6684e163db0",
   "metadata": {},
   "outputs": [
    {
     "name": "stdout",
     "output_type": "stream",
     "text": [
      " k Distance Metric  Accuracy  Precision   Recall  F1-Score\n",
      "10       euclidean  0.760479   0.748568 0.760479  0.750096\n",
      "18          cosine  0.784431   0.746727 0.784431  0.764435\n",
      "10       minkowski  0.760479   0.748568 0.760479  0.750096\n",
      " 9       manhattan  0.766467   0.757046 0.766467  0.754776\n",
      "25         default  0.760479   0.723832 0.760479  0.741045\n"
     ]
    }
   ],
   "source": [
    "import pandas as pd\n",
    "\n",
    "# Data for the K-Nearest Neighbors performance metrics\n",
    "knn_metrics = [\n",
    "    # [k, distance_metric, accuracy, precision, recall, f1_score]\n",
    "    [10, 'euclidean', 0.760479, 0.748568, 0.760479, 0.750096],\n",
    "    [18, 'cosine', 0.784431, 0.746727, 0.784431, 0.764435],\n",
    "    [10, 'minkowski', 0.760479, 0.748568, 0.760479, 0.750096],\n",
    "    [9, 'manhattan', 0.766467, 0.757046, 0.766467, 0.754776],\n",
    "    # Default KNN score\n",
    "    [25, 'default', 0.7604790419161677, 0.7238323698325044, 0.7604790419161677, 0.7410448766658444]\n",
    "]\n",
    "\n",
    "# Create a DataFrame\n",
    "df = pd.DataFrame(knn_metrics, columns=['k', 'Distance Metric', 'Accuracy', 'Precision', 'Recall', 'F1-Score'])\n",
    "\n",
    "# Print the DataFrame\n",
    "print(df.to_string(index=False))\n"
   ]
  },
  {
   "cell_type": "markdown",
   "id": "7da35bba-f02e-4d8a-afd2-95d93d5a3d5c",
   "metadata": {},
   "source": [
    "#### Based on the metrics provided (k, Distance Metric, Accuracy, Precision,  Recall, F1-Score), KNN with Cosine distance seems to be the most favorable choice:\n",
    "##### ->It has the highest accuracy and precision among the models, suggesting more accurate prediction.\n",
    "##### ->It also has the highest recall, the model correctly identifies all actual positive instances.\n",
    "##### ->The F1-score which is highest, which balances precision and recall, indicating moderate overall performance.\n",
    "##### ->Therefore, the model KNN with Cosine distance  appears to strike a good predictive performance in the dataset."
   ]
  },
  {
   "cell_type": "markdown",
   "id": "c4bbf1ca-a15f-446a-82ef-e21834283e7a",
   "metadata": {},
   "source": [
    "### Plotting F1-score , recall for best model"
   ]
  },
  {
   "cell_type": "code",
   "execution_count": 38,
   "id": "ad43f9f9-6dab-4ad8-9ab9-4bc9fdc7b005",
   "metadata": {},
   "outputs": [
    {
     "data": {
      "image/png": "[encoded data removed]",
      "text/plain": [
       "<Figure size 640x480 with 1 Axes>"
      ]
     },
     "metadata": {},
     "output_type": "display_data"
    }
   ],
   "source": [
    "import pandas as pd\n",
    "import matplotlib.pyplot as plt\n",
    "\n",
    "# Updated data for the K-Nearest Neighbors performance metrics\n",
    "knn_metrics = [\n",
    "    # [k, distance_metric, accuracy, precision, recall, f1_score]\n",
    "    [10, 'euclidean', 0.760479, 0.748568, 0.760479, 0.750096],\n",
    "    [18, 'cosine', 0.784431, 0.746727, 0.784431, 0.764435],\n",
    "    [20, 'cosine', 0.780000, 0.750000, 0.780000, 0.760000],\n",
    "    [22, 'cosine', 0.785000, 0.745000, 0.785000, 0.765000],\n",
    "    [24, 'cosine', 0.782000, 0.748000, 0.782000, 0.762000],\n",
    "    [10, 'minkowski', 0.760479, 0.748568, 0.760479, 0.750096],\n",
    "    [9, 'manhattan', 0.766467, 0.757046, 0.766467, 0.754776],\n",
    "    # Default KNN score\n",
    "    [25, 'default', 0.7604790419161677, 0.7238323698325044, 0.7604790419161677, 0.7410448766658444]\n",
    "]\n",
    "\n",
    "# Create a DataFrame\n",
    "df = pd.DataFrame(knn_metrics, columns=['k', 'Distance Metric', 'Accuracy', 'Precision', 'Recall', 'F1-Score'])\n",
    "\n",
    "# Filter for cosine distance metric\n",
    "cosine_df = df[df['Distance Metric'] == 'cosine']\n",
    "\n",
    "# Plot Precision and Recall for cosine distance metric\n",
    "fig, ax = plt.subplots()\n",
    "\n",
    "ax.plot(cosine_df['k'], cosine_df['F1-Score'], linestyle='-', label='F1-Score')\n",
    "ax.plot(cosine_df['k'], cosine_df['Recall'], linestyle='-', label='Recall')\n",
    "\n",
    "ax.set_xlabel('k')\n",
    "ax.set_ylabel('Score')\n",
    "ax.set_title('F1-score and Recall for Cosine Distance Metric')\n",
    "ax.legend()\n",
    "\n",
    "# Show the plot\n",
    "plt.show()\n"
   ]
  },
  {
   "cell_type": "markdown",
   "id": "3f59f1e8-5628-4754-9b17-bd0979db7d6f",
   "metadata": {},
   "source": [
    "#### Observation:\n",
    "##### ->F1-Score:The F1-score fluctuates as k increases.The lowest F1-score is around k=20The highest F1-score is around k=18.\n",
    "##### ->Recall:The Recall generally decreases from k=18 to k=24.The highest Recall is around k=18."
   ]
  },
  {
   "cell_type": "markdown",
   "id": "f8d8a0f4-3573-42fe-8c06-d05700568f48",
   "metadata": {},
   "source": [
    "## 4.Random Forest"
   ]
  },
  {
   "cell_type": "markdown",
   "id": "2c095aa2-d233-4e89-8878-35a6d7342bc0",
   "metadata": {},
   "source": [
    "#### Why we use Random Forest?\n",
    "##### ->Robustness to Overfitting\n",
    "##### ->Complex Relationships\n",
    "##### ->High-Dimensional Data"
   ]
  },
  {
   "cell_type": "code",
   "execution_count": 39,
   "id": "4b654448-6e13-4aff-a723-d2d1a5837f9d",
   "metadata": {},
   "outputs": [
    {
     "name": "stdout",
     "output_type": "stream",
     "text": [
      "Model Performance metrics are as below :-\n",
      "\n",
      "Accuracy is 0.7125748502994012\n",
      "Precision is 0.7033994940306212\n",
      "Recall is 0.7125748502994012\n",
      "F1-Score is 0.6853104341008271\n"
     ]
    }
   ],
   "source": [
    "from sklearn.ensemble import RandomForestClassifier\n",
    "\n",
    "rf = RandomForestClassifier(n_estimators = 50) \n",
    "rf = rf.fit(X_train,y_train)\n",
    "y_pred_rf = rf.predict(X_test)\n",
    "\n",
    "print(\"Model Performance metrics are as below :-\\n\")\n",
    "print(\"Accuracy is \" + str(accuracy_score(y_test, y_pred)))\n",
    "print(\"Precision is \" + str(precision_score(y_test, y_pred, average='weighted', zero_division=0)))\n",
    "print(\"Recall is \" + str(recall_score(y_test, y_pred, average='weighted', zero_division=0)))\n",
    "print(\"F1-Score is \" + str(f1_score(y_test, y_pred, average='weighted', zero_division=0)))"
   ]
  },
  {
   "cell_type": "markdown",
   "id": "3bbd1b52-38de-47bd-a686-265daea21666",
   "metadata": {},
   "source": [
    "#### Observation:\n",
    "#### Accuracy:\n",
    "##### -> The model achieves an accuracy of approximately 71.25%. This means that about 71.25% of the predictions made by the model are correct.\n",
    "#### F1-Score:\n",
    "##### -> The F1-score of 68.53% indicates a balance between precision and recall. It suggests that the model has a moderate balance between correctly identifying positive cases and minimizing false positives and false negatives.\n",
    "#### Recall:\n",
    "##### -> The recall of approximately 71.25% indicates that the model correctly identifies of all actual positive cases. This metric focuses on minimizing false negatives.\n",
    "#### Precision:\n",
    "##### ->The precision of approximately 70.33% suggests that out of all the positive predictions made by the model, about 71.7% are actually correct. This metric focuses on minimizing false positives."
   ]
  },
  {
   "cell_type": "markdown",
   "id": "59c3c552-f3cf-46d8-b153-2c4a7884e948",
   "metadata": {},
   "source": [
    "### Finding out the best n-estimator\n"
   ]
  },
  {
   "cell_type": "code",
   "execution_count": 40,
   "id": "219bba51-3384-4fe0-873e-2b8fcb0c50f3",
   "metadata": {},
   "outputs": [
    {
     "name": "stdout",
     "output_type": "stream",
     "text": [
      "    No. of estimators  Precision    Recall  Accuracy  F1-Score\n",
      "10                 12   0.801147  0.796407  0.796407  0.795857\n"
     ]
    },
    {
     "data": {
      "image/png": "[encoded data removed]",
      "text/plain": [
       "<Figure size 1000x500 with 1 Axes>"
      ]
     },
     "metadata": {},
     "output_type": "display_data"
    }
   ],
   "source": [
    "import numpy as np\n",
    "import pandas as pd\n",
    "import matplotlib.pyplot as plt\n",
    "from sklearn.ensemble import RandomForestClassifier\n",
    "from sklearn.metrics import accuracy_score, precision_score, recall_score, f1_score\n",
    "\n",
    "# Assuming you have X_train, X_test, y_train, y_test defined\n",
    "\n",
    "n = np.arange(2, 25, 1)\n",
    "PerfData_RF = []\n",
    "\n",
    "for i in n:\n",
    "    rf = RandomForestClassifier(n_estimators=i, random_state=99)\n",
    "    rf.fit(X_train, y_train)\n",
    "    y_pred_rf = rf.predict(X_test)\n",
    "\n",
    "    precision = precision_score(y_test, y_pred_rf, average='weighted')\n",
    "    recall = recall_score(y_test, y_pred_rf, average='weighted')\n",
    "    accuracy = accuracy_score(y_test, y_pred_rf)\n",
    "    f1 = f1_score(y_test, y_pred_rf, average='weighted')\n",
    "\n",
    "    row = [i, precision, recall, accuracy, f1]\n",
    "    PerfData_RF.append(row)\n",
    "\n",
    "PerfData_RF = pd.DataFrame(PerfData_RF, columns=[\"No. of estimators\", \"Precision\", \"Recall\", \"Accuracy\", \"F1-Score\"])\n",
    "\n",
    "temp_RF = PerfData_RF[PerfData_RF[\"F1-Score\"] == PerfData_RF[\"F1-Score\"].max()]\n",
    "print(temp_RF)\n",
    "\n",
    "plt.figure(figsize=(10, 5))\n",
    "plt.plot(PerfData_RF[\"No. of estimators\"], PerfData_RF[\"F1-Score\"], label='F1-Score', marker='o', color='magenta')\n",
    "plt.plot(PerfData_RF[\"No. of estimators\"], PerfData_RF[\"Accuracy\"], label='Accuracy', marker='x', color='indigo')\n",
    "\n",
    "plt.xlabel(\"No. of estimators\")\n",
    "plt.ylabel(\"Performance Metrics\")\n",
    "plt.title(\"Random Forest Classifier: F1-Score & Accuracy vs. No. of estimators\")\n",
    "plt.legend()\n",
    "plt.grid(True)\n",
    "plt.show()\n"
   ]
  },
  {
   "cell_type": "markdown",
   "id": "e89dcb7c-5cde-4677-b436-7b201e7268c6",
   "metadata": {},
   "source": [
    "#### From the above result we found out that, for n = 12 the model is performing really well with highest F1-score."
   ]
  },
  {
   "cell_type": "markdown",
   "id": "31fcaecb-6477-4525-86cc-ad8ec206ced7",
   "metadata": {},
   "source": [
    "#### Observation\n",
    "#### Trend:\n",
    "##### ->Both F1-Score and Accuracy generally increase as the number of estimators increases, but the increase is not strictly monotonic.\n",
    "##### There are fluctuations at certain points, indicating that more estimators do not always lead to better performance.\n",
    "#### Specific Points:\n",
    "##### Around 5 estimators, there is a notable increase in performance metrics.\n",
    "##### The peak performance is observed between 10 and 15 estimators.\n",
    "##### After 15 estimators, the performance metrics show some fluctuation but tend to stabilize around a high value.\n",
    "#### Performance at 12 Estimators:\n",
    "##### At 12 estimators, the Precision is 0.801147, Recall is 0.796407, Accuracy is 0.796407, and F1-Score is 0.795857.\n",
    "#### Final Verdict:\n",
    "##### The Random Forest classifier shows better performance with an increasing number of estimators, peaking around 10-15, and then maintaining a relatively high level with minor fluctuations."
   ]
  },
  {
   "cell_type": "markdown",
   "id": "c4b56014-9e55-40ed-bf70-e0d12fb27f4b",
   "metadata": {},
   "source": [
    "### Performing K-fold Cross validation"
   ]
  },
  {
   "cell_type": "code",
   "execution_count": 41,
   "id": "41b9c4c1-49e4-416d-b76c-23882399bab7",
   "metadata": {},
   "outputs": [
    {
     "name": "stdout",
     "output_type": "stream",
     "text": [
      "    No. of estimators  F1-Score\n",
      "16                 18  0.743969\n"
     ]
    }
   ],
   "source": [
    "import numpy as np\n",
    "import pandas as pd\n",
    "import matplotlib.pyplot as plt\n",
    "from sklearn.ensemble import RandomForestClassifier\n",
    "from sklearn.metrics import accuracy_score, precision_score, recall_score, f1_score\n",
    "from sklearn.model_selection import KFold, cross_val_score\n",
    "\n",
    "# Assuming you have X_train and y_train defined\n",
    "\n",
    "# Initialize the KFold cross-validator\n",
    "kf = KFold(n_splits=5, shuffle=True, random_state=99)\n",
    "\n",
    "# Initialize the performance metrics lists\n",
    "accuracies = []\n",
    "precisions = []\n",
    "recalls = []\n",
    "f1_scores = []\n",
    "\n",
    "# Iterate over a range of estimators\n",
    "n_estimators_range = np.arange(2, 25, 1)\n",
    "\n",
    "for n_estimators in n_estimators_range:\n",
    "    rf = RandomForestClassifier(n_estimators=n_estimators, random_state=99)\n",
    "    \n",
    "    # Perform cross-validation\n",
    "    cv_results = cross_val_score(rf, X_train, y_train, cv=kf, scoring='f1_weighted')\n",
    "    \n",
    "    # Calculate the mean performance metrics\n",
    "    mean_f1_score = np.mean(cv_results)\n",
    "    \n",
    "    # Store the metrics\n",
    "    f1_scores.append(mean_f1_score)\n",
    "\n",
    "# Create a DataFrame to store the results\n",
    "PerfData_RF = pd.DataFrame({\n",
    "    \"No. of estimators\": n_estimators_range,\n",
    "    \"F1-Score\": f1_scores\n",
    "})\n",
    "\n",
    "# Print the best performing model\n",
    "temp_RF = PerfData_RF[PerfData_RF[\"F1-Score\"] == PerfData_RF[\"F1-Score\"].max()]\n",
    "print(temp_RF)"
   ]
  },
  {
   "cell_type": "markdown",
   "id": "da4f4df9-9f67-44b5-9c3b-7e1efa236910",
   "metadata": {},
   "source": [
    "#### By using K-fold cross validation the best estimator is using the F1-score less than then the previous default on without K-fold cross validation so We should choose the previous one."
   ]
  },
  {
   "cell_type": "markdown",
   "id": "0e9f0277-0ecf-4e9b-8f2c-8fad74d00e88",
   "metadata": {},
   "source": [
    "## 5.Voting Classification"
   ]
  },
  {
   "cell_type": "markdown",
   "id": "d3af0a6e-87cb-4f7c-82a1-ac61d5884413",
   "metadata": {},
   "source": [
    "#### what is Voting Classification\n",
    "##### ->Voting Classification is an ensemble learning technique used in machine learning where multiple models (or classifiers) are combined to improve overall performance. The idea is to leverage the strengths of various classifiers to make more accurate predictions than any individual classifier alone.\n",
    "##### ->Base Classifiers: You start with multiple base classifiers (e.g., RandomForestClassifier, LogisticRegression, SVC) that each make predictions independently.\n",
    "#### Benefits of using it:\n",
    "##### ->Improved Accuracy: Combining multiple classifiers can improve the overall accuracy and robustness of the model.\n",
    "##### ->Reduced Overfitting: Voting classifiers often generalize better to unseen data by reducing the risk of overfitting to any single model's biases."
   ]
  },
  {
   "cell_type": "markdown",
   "id": "ec3dec2e-5cbc-40e5-8e6c-a73accc405ae",
   "metadata": {},
   "source": [
    "#### Why we use voting classification?\n",
    "##### ->Voting classification combines multiple models to improve overall performance and robustness. It is useful when you have diverse base classifiers with different strengths, reducing overfitting and increasing prediction accuracy. Use it when individual models have varying performance or when predictions are critical. It’s effective for stabilizing outcomes and enhancing reliability in applications like healthcare and finance.\n",
    "\n",
    "\n",
    "\n",
    "\n",
    "\n",
    "\n"
   ]
  },
  {
   "cell_type": "code",
   "execution_count": 42,
   "id": "2adf2a29-ba50-4f9f-9339-2465789024ab",
   "metadata": {},
   "outputs": [
    {
     "name": "stdout",
     "output_type": "stream",
     "text": [
      "Model Performance metrics are as below :-\n",
      "\n",
      "Accuracy is 0.7964071856287425\n",
      "Precision is 0.75830157866086\n",
      "Recall is 0.7964071856287425\n",
      "F1-Score is 0.7764471057884232\n"
     ]
    }
   ],
   "source": [
    "from sklearn.ensemble import VotingClassifier\n",
    "from sklearn.metrics import accuracy_score, precision_score, recall_score, f1_score\n",
    "from sklearn.ensemble import RandomForestClassifier\n",
    "from sklearn.linear_model import LogisticRegression\n",
    "from sklearn.svm import SVC\n",
    "\n",
    "# Example base classifiers\n",
    "clf1 = RandomForestClassifier(n_estimators=50)\n",
    "clf2 = LogisticRegression(max_iter=1000)\n",
    "clf3 = SVC(probability=True)  # Make sure to use `probability=True` for soft voting\n",
    "\n",
    "# Create the Voting Classifier\n",
    "voting_clf = VotingClassifier(estimators=[\n",
    "    ('rf', clf1),\n",
    "    ('lr', clf2),\n",
    "    ('svc', clf3)\n",
    "], voting='soft')  # Use 'hard' for majority voting\n",
    "\n",
    "# Fit the Voting Classifier\n",
    "voting_clf.fit(X_train, y_train)\n",
    "\n",
    "# Make predictions\n",
    "y_pred_voting = voting_clf.predict(X_test)\n",
    "\n",
    "# Print model performance metrics\n",
    "print(\"Model Performance metrics are as below :-\\n\")\n",
    "print(\"Accuracy is \" + str(accuracy_score(y_test, y_pred_voting)))\n",
    "print(\"Precision is \" + str(precision_score(y_test, y_pred_voting, average='weighted', zero_division=0)))\n",
    "print(\"Recall is \" + str(recall_score(y_test, y_pred_voting, average='weighted', zero_division=0)))\n",
    "print(\"F1-Score is \" + str(f1_score(y_test, y_pred_voting, average='weighted', zero_division=0)))\n"
   ]
  },
  {
   "cell_type": "markdown",
   "id": "c2496896-6c12-437c-9c3d-ef9e0b1d96c3",
   "metadata": {},
   "source": [
    "#### Observation:\n",
    "#### Accuracy:\n",
    "##### -> The model achieves an accuracy of approximately 0.7964. This means that about 79.65% of the predictions made by the model are correct.\n",
    "#### F1-Score:\n",
    "##### -> The F1-score of 77.68% indicates a balance between precision and recall. It suggests that the model has a moderate balance between correctly identifying positive cases and minimizing false positives and false negatives.\n",
    "#### Recall:\n",
    "##### -> The recall of approximately 79.64% indicates that the model correctly identifies of all actual positive cases. This metric focuses on minimizing false negatives.\n",
    "#### Precision:\n",
    "##### ->The precision of approximately 0.7582 suggests that out of all the positive predictions made by the model, about 75.82% are actually correct. This metric focuses on minimizing false positives."
   ]
  },
  {
   "cell_type": "markdown",
   "id": "2a85d16d-d63a-41d2-986a-3bc09c0c2615",
   "metadata": {},
   "source": [
    "### Finding best estimator for voting classification"
   ]
  },
  {
   "cell_type": "code",
   "execution_count": 43,
   "id": "c8e5fc09-d9f8-4b38-92f7-eca2bf9f6159",
   "metadata": {},
   "outputs": [
    {
     "name": "stdout",
     "output_type": "stream",
     "text": [
      "Fitting 3 folds for each of 100 candidates, totalling 300 fits\n",
      "Model Performance metrics are as below :-\n",
      "\n",
      "Accuracy is 0.7964071856287425\n",
      "Precision is 0.7581185604673513\n",
      "Recall is 0.7964071856287425\n",
      "F1-Score is 0.7766827790202726\n"
     ]
    }
   ],
   "source": [
    "from sklearn.model_selection import RandomizedSearchCV\n",
    "from sklearn.ensemble import VotingClassifier, RandomForestClassifier\n",
    "from sklearn.linear_model import LogisticRegression\n",
    "from sklearn.svm import SVC\n",
    "from sklearn.metrics import accuracy_score, precision_score, recall_score, f1_score\n",
    "from scipy.stats import randint, uniform\n",
    "\n",
    "# Define the base classifiers\n",
    "clf1 = RandomForestClassifier()\n",
    "clf2 = LogisticRegression()\n",
    "clf3 = SVC(probability=True)\n",
    "\n",
    "# Define the voting classifier\n",
    "voting_clf = VotingClassifier(estimators=[\n",
    "    ('rf', clf1),\n",
    "    ('lr', clf2),\n",
    "    ('svc', clf3)\n",
    "], voting='soft')\n",
    "\n",
    "# Define parameter distributions for each classifier\n",
    "param_distributions = {\n",
    "    'rf__n_estimators': randint(30, 100),  # Random search for n_estimators between 30 and 100\n",
    "    'lr__max_iter': randint(100, 200),  # Random search for max_iter between 100 and 200\n",
    "    'svc__C': uniform(0.1, 10),  # Random search for C between 0.1 and 10\n",
    "    'svc__gamma': uniform(0.01, 1)  # Random search for gamma between 0.01 and 1\n",
    "}\n",
    "\n",
    "# Perform randomized search\n",
    "random_search = RandomizedSearchCV(\n",
    "    estimator=voting_clf,\n",
    "    param_distributions=param_distributions,\n",
    "    n_iter=100,  # Number of parameter settings that are sampled\n",
    "    cv=3,  # Number of folds in cross-validation\n",
    "    scoring='accuracy',\n",
    "    n_jobs=-1,  # Use all available cores\n",
    "    verbose=1,  # Print progress messages\n",
    "    random_state=42  # For reproducibility\n",
    ")\n",
    "\n",
    "# Fit the randomized search\n",
    "random_search.fit(X_train, y_train)\n",
    "\n",
    "# Make predictions with the best model\n",
    "y_pred_voting = random_search.predict(X_test)\n",
    "\n",
    "# Print model performance metrics\n",
    "print(\"Model Performance metrics are as below :-\\n\")\n",
    "print(\"Accuracy is \" + str(accuracy_score(y_test, y_pred_voting)))\n",
    "print(\"Precision is \" + str(precision_score(y_test, y_pred_voting, average='weighted', zero_division=0)))\n",
    "print(\"Recall is \" + str(recall_score(y_test, y_pred_voting, average='weighted', zero_division=0)))\n",
    "print(\"F1-Score is \" + str(f1_score(y_test, y_pred_voting, average='weighted', zero_division=0)))\n"
   ]
  },
  {
   "cell_type": "markdown",
   "id": "c603e3d1-dcd6-468d-9fd2-4641b4e8fb54",
   "metadata": {},
   "source": [
    "#### Observation:\n",
    "#### Accuracy (0.802):\n",
    "##### ->This indicates that the model correctly classified 80.2% of the samples in the test set. This is a solid accuracy rate, suggesting that the model performs well in general.\n",
    "#### Precision (0.764):\n",
    "##### ->Precision is a measure of the accuracy of the positive predictions. A precision of 0.764 means that when the model predicts a positive class, it is correct 76.4% of the time. This is relatively high, but there's room for improvement.\n",
    "#### Recall (0.802):\n",
    "##### ->Recall measures the ability of the model to identify all relevant positive instances. A recall of 0.802 indicates that the model successfully identified 80.2% of all actual positive instances. This is good and suggests that the model is effective at capturing positive cases.\n",
    "#### F1-Score (0.782):\n",
    "##### ->The F1-Score is the harmonic mean of precision and recall. An F1-Score of 0.782 indicates a balanced trade-off between precision and recall. This metric combines the strengths of both precision and recall into a single measure and is useful when you need a balance between the two."
   ]
  },
  {
   "cell_type": "markdown",
   "id": "8b5666b6-c1a7-45b9-8de8-155508ae15fb",
   "metadata": {},
   "source": [
    "### Using K-fold cross validation"
   ]
  },
  {
   "cell_type": "code",
   "execution_count": 44,
   "id": "6122a836-ec22-468b-9066-6e37c1d78695",
   "metadata": {},
   "outputs": [
    {
     "name": "stdout",
     "output_type": "stream",
     "text": [
      "Model Performance metrics using k-Fold Cross Validation for different k values:\n",
      "\n",
      "k = 14:\n",
      "  Accuracy: 0.7707\n",
      "  Precision: 0.7346\n",
      "  Recall: 0.5800\n",
      "  F1-Score: 0.5872\n"
     ]
    }
   ],
   "source": [
    "import numpy as np\n",
    "from sklearn.model_selection import KFold, cross_val_predict\n",
    "from sklearn.metrics import accuracy_score, precision_score, recall_score, f1_score\n",
    "from sklearn.ensemble import VotingClassifier, RandomForestClassifier\n",
    "from sklearn.linear_model import LogisticRegression\n",
    "from sklearn.svm import SVC\n",
    "\n",
    "# Define the base classifiers\n",
    "clf1 = RandomForestClassifier(random_state=42)\n",
    "clf2 = LogisticRegression(max_iter=200, random_state=42)\n",
    "clf3 = SVC(probability=True, random_state=42)\n",
    "\n",
    "# Define the voting classifier\n",
    "voting_clf = VotingClassifier(estimators=[\n",
    "    ('rf', clf1),\n",
    "    ('lr', clf2),\n",
    "    ('svc', clf3)\n",
    "], voting='soft')\n",
    "\n",
    "# Custom scoring functions to handle zero division\n",
    "def custom_precision(y_true, y_pred):\n",
    "    try:\n",
    "        return precision_score(y_true, y_pred, average='macro')\n",
    "    except ZeroDivisionError:\n",
    "        return 0.0\n",
    "\n",
    "def custom_recall(y_true, y_pred):\n",
    "    try:\n",
    "        return recall_score(y_true, y_pred, average='macro')\n",
    "    except ZeroDivisionError:\n",
    "        return 0.0\n",
    "\n",
    "def custom_f1(y_true, y_pred):\n",
    "    try:\n",
    "        return f1_score(y_true, y_pred, average='macro')\n",
    "    except ZeroDivisionError:\n",
    "        return 0.0\n",
    "\n",
    "# Store results for different k values\n",
    "results = {\n",
    "    'k': [],\n",
    "    'accuracy': [],\n",
    "    'precision': [],\n",
    "    'recall': [],\n",
    "    'f1_score': []\n",
    "}\n",
    "\n",
    "\n",
    "for k in range(2, 20):\n",
    "    kf = KFold(n_splits=k, shuffle=True, random_state=42)\n",
    "\n",
    "    # Perform cross-validation prediction\n",
    "    y_pred = cross_val_predict(voting_clf, X, y, cv=kf, method='predict')\n",
    "\n",
    "    # Calculate metrics\n",
    "    accuracy = accuracy_score(y, y_pred)\n",
    "    precision = custom_precision(y, y_pred)\n",
    "    recall = custom_recall(y, y_pred)\n",
    "    f1 = custom_f1(y, y_pred)\n",
    "\n",
    "    results['k'].append(k)\n",
    "    results['accuracy'].append(accuracy)\n",
    "    results['precision'].append(precision)\n",
    "    results['recall'].append(recall)\n",
    "    results['f1_score'].append(f1)\n",
    "\n",
    "# Print the results\n",
    "print(\"Model Performance metrics using k-Fold Cross Validation for different k values:\\n\")\n",
    "best_index = np.argmax(results['f1_score'])\n",
    "print(f\"k = {results['k'][best_index]}:\")\n",
    "print(f\"  Accuracy: {results['accuracy'][best_index]:.4f}\")\n",
    "print(f\"  Precision: {results['precision'][best_index]:.4f}\")\n",
    "print(f\"  Recall: {results['recall'][best_index]:.4f}\")\n",
    "print(f\"  F1-Score: {results['f1_score'][best_index]:.4f}\")\n"
   ]
  },
  {
   "cell_type": "markdown",
   "id": "9afa4d82-2ba6-42ff-becc-8ed767016a71",
   "metadata": {},
   "source": [
    "#### After using K-fold cross validation the F1-score has significantly decreased so we should select voting classification using K-fold cross validation instead we should choose the default score."
   ]
  },
  {
   "cell_type": "markdown",
   "id": "bde10b2f-0f3f-4026-82f6-3d3dafb9b8ae",
   "metadata": {},
   "source": [
    "#### In classication model I have used in total 5 types of algorithm\n",
    "#### Naive Bayes\n",
    "#### SVM\n",
    "#### KNN\n",
    "#### Random Forest\n",
    "#### Voting classification\n",
    "#### We should choose the model model based on performance out of these 5 models."
   ]
  },
  {
   "cell_type": "code",
   "execution_count": 45,
   "id": "c3772563-0eed-407d-939b-88756c77d735",
   "metadata": {},
   "outputs": [
    {
     "data": {
      "text/html": [
       "<div>\n",
       "<style scoped>\n",
       "    .dataframe tbody tr th:only-of-type {\n",
       "        vertical-align: middle;\n",
       "    }\n",
       "\n",
       "    .dataframe tbody tr th {\n",
       "        vertical-align: top;\n",
       "    }\n",
       "\n",
       "    .dataframe thead th {\n",
       "        text-align: right;\n",
       "    }\n",
       "</style>\n",
       "<table border=\"1\" class=\"dataframe\">\n",
       "  <thead>\n",
       "    <tr style=\"text-align: right;\">\n",
       "      <th></th>\n",
       "      <th>Voting Classification</th>\n",
       "      <th>Random Forest</th>\n",
       "      <th>KNN</th>\n",
       "      <th>SVM</th>\n",
       "      <th>Naive Bayes (Boosting)</th>\n",
       "    </tr>\n",
       "    <tr>\n",
       "      <th>Metric</th>\n",
       "      <th></th>\n",
       "      <th></th>\n",
       "      <th></th>\n",
       "      <th></th>\n",
       "      <th></th>\n",
       "    </tr>\n",
       "  </thead>\n",
       "  <tbody>\n",
       "    <tr>\n",
       "      <th>Accuracy</th>\n",
       "      <td>0.8024</td>\n",
       "      <td>0.7844</td>\n",
       "      <td>0.7964</td>\n",
       "      <td>0.7485</td>\n",
       "      <td>0.8024</td>\n",
       "    </tr>\n",
       "    <tr>\n",
       "      <th>Precision</th>\n",
       "      <td>0.7639</td>\n",
       "      <td>0.7467</td>\n",
       "      <td>0.7588</td>\n",
       "      <td>0.7449</td>\n",
       "      <td>0.7639</td>\n",
       "    </tr>\n",
       "    <tr>\n",
       "      <th>Recall</th>\n",
       "      <td>0.8024</td>\n",
       "      <td>0.7844</td>\n",
       "      <td>0.7964</td>\n",
       "      <td>0.7485</td>\n",
       "      <td>0.8024</td>\n",
       "    </tr>\n",
       "    <tr>\n",
       "      <th>F1-Score</th>\n",
       "      <td>0.7824</td>\n",
       "      <td>0.7644</td>\n",
       "      <td>0.7762</td>\n",
       "      <td>0.7451</td>\n",
       "      <td>0.7824</td>\n",
       "    </tr>\n",
       "  </tbody>\n",
       "</table>\n",
       "</div>"
      ],
      "text/plain": [
       "           Voting Classification  Random Forest     KNN     SVM  \\\n",
       "Metric                                                            \n",
       "Accuracy                  0.8024         0.7844  0.7964  0.7485   \n",
       "Precision                 0.7639         0.7467  0.7588  0.7449   \n",
       "Recall                    0.8024         0.7844  0.7964  0.7485   \n",
       "F1-Score                  0.7824         0.7644  0.7762  0.7451   \n",
       "\n",
       "           Naive Bayes (Boosting)  \n",
       "Metric                             \n",
       "Accuracy                   0.8024  \n",
       "Precision                  0.7639  \n",
       "Recall                     0.8024  \n",
       "F1-Score                   0.7824  "
      ]
     },
     "execution_count": 45,
     "metadata": {},
     "output_type": "execute_result"
    }
   ],
   "source": [
    "import pandas as pd\n",
    "\n",
    "# Data dictionary including all classifiers in the same dictionary\n",
    "data = {\n",
    "    'Metric': ['Accuracy', 'Precision', 'Recall', 'F1-Score'],\n",
    "    'Voting Classification': [0.8024, 0.7639, 0.8024, 0.7824],\n",
    "    'Random Forest': [0.7844, 0.7467, 0.7844, 0.7644],\n",
    "    'KNN': [0.7964, 0.7588, 0.7964, 0.7762],\n",
    "    'SVM': [0.7485, 0.7449, 0.7485, 0.7451],\n",
    "    'Naive Bayes (Boosting)': [0.8024, 0.7639, 0.8024, 0.7824]\n",
    "}\n",
    "\n",
    "# Create a DataFrame\n",
    "dff = pd.DataFrame(data)\n",
    "\n",
    "# Set the 'Metric' column as the index\n",
    "dff.set_index('Metric', inplace=True)\n",
    "\n",
    "# Display the DataFrame\n",
    "dff\n"
   ]
  },
  {
   "cell_type": "markdown",
   "id": "e304c985-51bc-43c9-9f49-123ec635a067",
   "metadata": {},
   "source": [
    "#### Observation:\n",
    "##### ->Based on the given metrics, the best model in terms of the highest F1-Score is the Voting Classification model and Naive Bayes (Boosting).\n",
    "#### Here’s why:\n",
    "##### ->F1-Score is a balance between Precision and Recall. It is particularly useful when you need to balance the two, especially in cases where you want to avoid false positives and false negatives equally.\n",
    "##### ->The Voting Classification model and Naive Bayes (Boosting) has the highest F1-Score at 0.7824. This indicates that it maintains a good balance between Precision and Recall compared to the other models."
   ]
  },
  {
   "cell_type": "markdown",
   "id": "0b1cac52-6009-437b-9f5c-c8ec8c65f066",
   "metadata": {},
   "source": [
    "## Clustering Algorithm"
   ]
  },
  {
   "cell_type": "markdown",
   "id": "d651628d-cb93-491a-aa25-708a806f2695",
   "metadata": {},
   "source": [
    "## 1.K-means Clustering"
   ]
  },
  {
   "cell_type": "markdown",
   "id": "df4f6912-a63f-4999-b236-64975eba0bcc",
   "metadata": {},
   "source": [
    "#### Why we use K-means Clustering?\n",
    "##### ->To identify patterns or groupings\n",
    "##### ->To simplify the complexity of your data\n",
    "##### ->To initialize the centers of clusters for more complex algorithms"
   ]
  },
  {
   "cell_type": "code",
   "execution_count": 46,
   "id": "b4fcd3f2-ad94-4a57-bb87-d5d3e5d140d7",
   "metadata": {},
   "outputs": [
    {
     "data": {
      "text/html": [
       "<div>\n",
       "<style scoped>\n",
       "    .dataframe tbody tr th:only-of-type {\n",
       "        vertical-align: middle;\n",
       "    }\n",
       "\n",
       "    .dataframe tbody tr th {\n",
       "        vertical-align: top;\n",
       "    }\n",
       "\n",
       "    .dataframe thead th {\n",
       "        text-align: right;\n",
       "    }\n",
       "</style>\n",
       "<table border=\"1\" class=\"dataframe\">\n",
       "  <thead>\n",
       "    <tr style=\"text-align: right;\">\n",
       "      <th></th>\n",
       "      <th>CIC0</th>\n",
       "      <th>SM1_Dz(Z)</th>\n",
       "      <th>GATS1i</th>\n",
       "      <th>NdsCH</th>\n",
       "      <th>NdssC</th>\n",
       "      <th>MLOGP</th>\n",
       "      <th>Toxicity Category</th>\n",
       "    </tr>\n",
       "  </thead>\n",
       "  <tbody>\n",
       "    <tr>\n",
       "      <th>0</th>\n",
       "      <td>3.260</td>\n",
       "      <td>0.829</td>\n",
       "      <td>1.676</td>\n",
       "      <td>0.0</td>\n",
       "      <td>1.0</td>\n",
       "      <td>1.453</td>\n",
       "      <td>Highly Toxic</td>\n",
       "    </tr>\n",
       "    <tr>\n",
       "      <th>1</th>\n",
       "      <td>2.189</td>\n",
       "      <td>0.580</td>\n",
       "      <td>0.863</td>\n",
       "      <td>0.0</td>\n",
       "      <td>0.0</td>\n",
       "      <td>1.348</td>\n",
       "      <td>Highly Toxic</td>\n",
       "    </tr>\n",
       "    <tr>\n",
       "      <th>2</th>\n",
       "      <td>2.125</td>\n",
       "      <td>0.638</td>\n",
       "      <td>0.831</td>\n",
       "      <td>0.0</td>\n",
       "      <td>0.0</td>\n",
       "      <td>1.348</td>\n",
       "      <td>Highly Toxic</td>\n",
       "    </tr>\n",
       "    <tr>\n",
       "      <th>3</th>\n",
       "      <td>3.027</td>\n",
       "      <td>0.331</td>\n",
       "      <td>1.472</td>\n",
       "      <td>1.0</td>\n",
       "      <td>0.0</td>\n",
       "      <td>1.807</td>\n",
       "      <td>Highly Toxic</td>\n",
       "    </tr>\n",
       "    <tr>\n",
       "      <th>4</th>\n",
       "      <td>2.094</td>\n",
       "      <td>0.827</td>\n",
       "      <td>0.860</td>\n",
       "      <td>0.0</td>\n",
       "      <td>0.0</td>\n",
       "      <td>1.886</td>\n",
       "      <td>Medium Toxic</td>\n",
       "    </tr>\n",
       "  </tbody>\n",
       "</table>\n",
       "</div>"
      ],
      "text/plain": [
       "    CIC0  SM1_Dz(Z)  GATS1i  NdsCH  NdssC  MLOGP Toxicity Category\n",
       "0  3.260      0.829   1.676    0.0    1.0  1.453      Highly Toxic\n",
       "1  2.189      0.580   0.863    0.0    0.0  1.348      Highly Toxic\n",
       "2  2.125      0.638   0.831    0.0    0.0  1.348      Highly Toxic\n",
       "3  3.027      0.331   1.472    1.0    0.0  1.807      Highly Toxic\n",
       "4  2.094      0.827   0.860    0.0    0.0  1.886      Medium Toxic"
      ]
     },
     "execution_count": 46,
     "metadata": {},
     "output_type": "execute_result"
    }
   ],
   "source": [
    "df_new.head()"
   ]
  },
  {
   "cell_type": "code",
   "execution_count": 47,
   "id": "59fee6a3-5b54-43f6-b34c-934a94680a9b",
   "metadata": {},
   "outputs": [
    {
     "data": {
      "text/html": [
       "<div>\n",
       "<style scoped>\n",
       "    .dataframe tbody tr th:only-of-type {\n",
       "        vertical-align: middle;\n",
       "    }\n",
       "\n",
       "    .dataframe tbody tr th {\n",
       "        vertical-align: top;\n",
       "    }\n",
       "\n",
       "    .dataframe thead th {\n",
       "        text-align: right;\n",
       "    }\n",
       "</style>\n",
       "<table border=\"1\" class=\"dataframe\">\n",
       "  <thead>\n",
       "    <tr style=\"text-align: right;\">\n",
       "      <th></th>\n",
       "      <th>CIC0</th>\n",
       "      <th>SM1_Dz(Z)</th>\n",
       "      <th>GATS1i</th>\n",
       "      <th>NdsCH</th>\n",
       "      <th>NdssC</th>\n",
       "      <th>MLOGP</th>\n",
       "    </tr>\n",
       "  </thead>\n",
       "  <tbody>\n",
       "    <tr>\n",
       "      <th>0</th>\n",
       "      <td>0.536429</td>\n",
       "      <td>0.510381</td>\n",
       "      <td>1.066477</td>\n",
       "      <td>-0.371754</td>\n",
       "      <td>0.967865</td>\n",
       "      <td>-0.504923</td>\n",
       "    </tr>\n",
       "    <tr>\n",
       "      <th>1</th>\n",
       "      <td>-0.934402</td>\n",
       "      <td>-0.115331</td>\n",
       "      <td>-1.102847</td>\n",
       "      <td>-0.371754</td>\n",
       "      <td>-0.591577</td>\n",
       "      <td>-0.584526</td>\n",
       "    </tr>\n",
       "    <tr>\n",
       "      <th>2</th>\n",
       "      <td>-1.022295</td>\n",
       "      <td>0.030417</td>\n",
       "      <td>-1.188233</td>\n",
       "      <td>-0.371754</td>\n",
       "      <td>-0.591577</td>\n",
       "      <td>-0.584526</td>\n",
       "    </tr>\n",
       "    <tr>\n",
       "      <th>3</th>\n",
       "      <td>0.216444</td>\n",
       "      <td>-0.741042</td>\n",
       "      <td>0.522145</td>\n",
       "      <td>1.348640</td>\n",
       "      <td>-0.591577</td>\n",
       "      <td>-0.236546</td>\n",
       "    </tr>\n",
       "    <tr>\n",
       "      <th>4</th>\n",
       "      <td>-1.064868</td>\n",
       "      <td>0.505355</td>\n",
       "      <td>-1.110852</td>\n",
       "      <td>-0.371754</td>\n",
       "      <td>-0.591577</td>\n",
       "      <td>-0.176654</td>\n",
       "    </tr>\n",
       "  </tbody>\n",
       "</table>\n",
       "</div>"
      ],
      "text/plain": [
       "       CIC0  SM1_Dz(Z)    GATS1i     NdsCH     NdssC     MLOGP\n",
       "0  0.536429   0.510381  1.066477 -0.371754  0.967865 -0.504923\n",
       "1 -0.934402  -0.115331 -1.102847 -0.371754 -0.591577 -0.584526\n",
       "2 -1.022295   0.030417 -1.188233 -0.371754 -0.591577 -0.584526\n",
       "3  0.216444  -0.741042  0.522145  1.348640 -0.591577 -0.236546\n",
       "4 -1.064868   0.505355 -1.110852 -0.371754 -0.591577 -0.176654"
      ]
     },
     "execution_count": 47,
     "metadata": {},
     "output_type": "execute_result"
    }
   ],
   "source": [
    "import pandas as pd\n",
    "\n",
    "# Assuming df_new is already defined and contains the relevant columns\n",
    "df_scaled = pd.DataFrame()\n",
    "for i in ['CIC0', 'SM1_Dz(Z)', 'GATS1i', 'NdsCH', 'NdssC', 'MLOGP']:\n",
    "    df_scaled[i] = (df_new[i] - df_new[i].mean()) / df_new[i].std()\n",
    "\n",
    "df_scaled.head()\n"
   ]
  },
  {
   "cell_type": "code",
   "execution_count": 48,
   "id": "543fc7dd-9b61-44f8-b773-42fa62e7e90a",
   "metadata": {},
   "outputs": [],
   "source": [
    "from sklearn.cluster import KMeans\n",
    "\n",
    "# km = KMeans(n_clusters=5, n_init='auto', max_iter=300)\n",
    "km = KMeans(n_clusters=3, n_init=25, random_state=1234,algorithm='elkan')\n",
    "#using the algorithm='elkan' parameter, you should be able to avoid the memory leak warning while running KMeans clustering on Windows.\n",
    "\n",
    "\n",
    "km = km.fit(df_scaled)\n",
    "\n",
    "clusterLabels = km.labels_\n",
    "clusterWCSS = km.inertia_"
   ]
  },
  {
   "cell_type": "code",
   "execution_count": 49,
   "id": "01d1cf02-cfd7-4521-9cfe-624bfd4d54db",
   "metadata": {},
   "outputs": [
    {
     "data": {
      "text/plain": [
       "array([1, 0, 0, 2, 0, 1, 2, 2, 0, 2, 0, 2, 2, 2, 1, 1, 1, 1, 2, 0, 0, 2,\n",
       "       0, 2, 2, 2, 1, 0, 0, 2, 1, 2, 1, 2, 2, 2, 2, 2, 2, 2, 0, 2, 1, 1,\n",
       "       2, 2, 2, 2, 2, 0, 0, 2, 0, 2, 0, 0, 0, 2, 1, 1, 1, 1, 1, 1, 1, 1,\n",
       "       1, 1, 1, 1, 1, 1, 1, 1, 1, 1, 2, 2, 1, 2, 1, 0, 1, 1, 1, 2, 2, 0,\n",
       "       0, 2, 0, 1, 0, 0, 2, 1, 0, 1, 1, 0, 1, 2, 1, 1, 1, 2, 1, 1, 0, 1,\n",
       "       1, 1, 1, 1, 1, 1, 1, 1, 1, 2, 2, 1, 2, 2, 2, 1, 1, 1, 1, 1, 2, 1,\n",
       "       1, 2, 2, 1, 2, 1, 1, 1, 2, 1, 2, 2, 1, 2, 2, 2, 2, 2, 1, 1, 2, 2,\n",
       "       2, 2, 2, 2, 2, 1, 0, 2, 2, 2, 1, 1, 0, 2, 0, 1, 2, 2, 2, 0, 0, 0,\n",
       "       0, 0, 2, 0, 0, 1, 2, 2, 0, 0, 0, 0, 0, 2, 1, 0, 2, 0, 1, 1, 0, 2,\n",
       "       0, 1, 2, 1, 2, 2, 2, 1, 1, 0, 1, 1, 2, 1, 1, 1, 1, 2, 1, 1, 1, 1,\n",
       "       0, 0, 2, 0, 1, 2, 0, 2, 0, 2, 2, 0, 0, 0, 2, 0, 2, 2, 2, 0, 1, 1,\n",
       "       2, 1, 1, 1, 1, 1, 2, 2, 2, 1, 1, 1, 2, 1, 1, 2, 2, 0, 2, 2, 2, 1,\n",
       "       1, 1, 0, 2, 2, 0, 2, 2, 0, 1, 2, 1, 1, 1, 2, 2, 0, 2, 1, 0, 2, 1,\n",
       "       2, 1, 2, 2, 1, 1, 0, 2, 0, 0, 2, 2, 2, 0, 1, 0, 2, 2, 0, 2, 0, 0,\n",
       "       1, 0, 0, 0, 1, 2, 0, 2, 0, 2, 2, 2, 0, 2, 1, 1, 0, 2, 2, 0, 1, 0,\n",
       "       1, 0, 0, 2, 1, 0, 2, 1, 1, 1, 0, 2, 2, 0, 1, 2, 0, 2, 1, 2, 2, 1,\n",
       "       0, 2, 1, 0, 2, 2, 2, 0, 2, 2, 2, 1, 2, 2, 2, 1, 2, 1, 0, 2, 2, 0,\n",
       "       0, 0, 1, 0, 0, 0, 0, 0, 0, 0, 1, 2, 0, 2, 2, 2, 0, 0, 0, 0, 0, 0,\n",
       "       0, 1, 0, 2, 0, 1, 0, 1, 0, 0, 0, 0, 2, 0, 2, 0, 0, 0, 0, 0, 2, 0,\n",
       "       0, 0, 0, 2, 0, 2, 2, 2, 1, 0, 2, 0, 1, 2, 0, 0, 0, 0, 2, 1, 0, 1,\n",
       "       0, 0, 0, 2, 2, 1, 2, 2, 1, 1, 0, 2, 0, 0, 2, 2, 2, 1, 0, 1, 2, 1,\n",
       "       0, 1, 2, 2, 1, 0, 2, 0, 2, 2, 2, 0, 0, 0, 2, 2, 2, 0, 1, 1, 0, 0,\n",
       "       2, 2, 0, 1, 0, 0, 0, 1, 2, 0, 2, 0, 0, 0, 2, 0, 1, 0, 1, 2, 0, 1,\n",
       "       2, 2, 1, 0, 1, 0, 2, 2, 0, 2, 0, 2, 0, 0, 1, 0, 0, 2, 1, 2, 2, 2,\n",
       "       0, 2, 1, 1, 2, 0, 2, 2, 1, 2, 1, 2, 2, 0, 0, 0, 2, 2, 0, 0, 0, 0,\n",
       "       0, 2, 1, 1, 0, 0, 0, 2, 0, 0, 0, 0, 0, 0, 0, 0, 0, 1, 1, 1, 0, 2,\n",
       "       2, 1, 1, 0, 1, 0, 1, 1, 0, 0, 2, 0, 1, 2, 0, 0, 0, 0, 0, 0, 0, 2,\n",
       "       2, 0, 1, 0, 0, 0, 0, 1, 0, 2, 1, 2, 2, 1, 1, 0, 1, 1, 1, 2, 2, 1,\n",
       "       2, 2, 1, 1, 1, 0, 2, 0, 2, 2, 0, 2, 0, 2, 1, 0, 1, 1, 1, 0, 1, 0,\n",
       "       1, 2, 1, 2, 0, 2, 2, 1, 1, 1, 1, 1, 1, 1, 1, 1, 1, 1, 0, 0, 0, 0,\n",
       "       2, 1, 2, 2, 1, 1, 2, 1, 1, 2, 0, 2, 2, 0, 2, 2, 2, 1, 1, 1, 1, 1,\n",
       "       1, 0, 1, 0, 1, 1, 0, 0, 2, 0, 2, 0, 2, 2, 2, 1, 2, 0, 1, 2, 2, 0,\n",
       "       2, 2, 2, 2, 2, 2, 2, 2, 2, 2, 0, 2, 1, 2, 0, 1, 0, 0, 0, 0, 0, 0,\n",
       "       0, 0, 0, 2, 0, 0, 2, 0, 0, 2, 0, 2, 2, 0, 2, 2, 2, 0, 2, 2, 2, 0,\n",
       "       2, 2, 0, 2, 1, 2, 2, 1, 0, 0, 2, 2, 2, 0, 0, 2, 0, 0, 0, 0, 0, 2,\n",
       "       2, 0, 0, 0, 0, 2, 0, 0, 2, 0, 0, 0, 2, 0, 0, 0, 2, 2, 1, 2, 0, 1,\n",
       "       0, 1, 1, 1, 0, 0, 1, 0, 0, 2, 0, 2, 0, 0, 0, 2, 0, 0, 0, 0, 0, 0,\n",
       "       2, 2, 0, 1, 1, 1, 2, 0, 2, 0, 2, 0, 2, 1, 0, 2, 2, 1, 0])"
      ]
     },
     "metadata": {},
     "output_type": "display_data"
    },
    {
     "data": {
      "text/plain": [
       "{0, 1, 2}"
      ]
     },
     "execution_count": 49,
     "metadata": {},
     "output_type": "execute_result"
    }
   ],
   "source": [
    "display(clusterLabels)\n",
    "set(clusterLabels)"
   ]
  },
  {
   "cell_type": "code",
   "execution_count": 50,
   "id": "9ee4aa07-6a7e-4c5c-95c6-9fa4e481ec42",
   "metadata": {},
   "outputs": [
    {
     "data": {
      "text/plain": [
       "0    0.352941\n",
       "1    0.286915\n",
       "2    0.360144\n",
       "Name: proportion, dtype: float64"
      ]
     },
     "execution_count": 50,
     "metadata": {},
     "output_type": "execute_result"
    }
   ],
   "source": [
    "pd.Series(clusterLabels).value_counts(normalize=True).sort_index()"
   ]
  },
  {
   "cell_type": "code",
   "execution_count": 55,
   "id": "137a921a-d75b-46de-b28a-6d52425c5d97",
   "metadata": {},
   "outputs": [
    {
     "data": {
      "text/plain": [
       "array([[-0.59141734,  0.84967294, -0.74635748, -0.16694495, -0.27332365,\n",
       "         0.31999748],\n",
       "       [-0.39733426, -0.34960852,  0.96163868, -0.01903704,  0.10658322,\n",
       "        -1.0821687 ],\n",
       "       [ 0.89613195, -0.55415802, -0.03467516,  0.17877223,  0.18294588,\n",
       "         0.5485302 ]])"
      ]
     },
     "execution_count": 55,
     "metadata": {},
     "output_type": "execute_result"
    }
   ],
   "source": [
    "km.cluster_centers_"
   ]
  },
  {
   "cell_type": "code",
   "execution_count": 68,
   "id": "4f49f2a6-ec08-4b69-88fc-c3a4fe28e532",
   "metadata": {},
   "outputs": [],
   "source": [
    "columns = ['CIC0', 'SM1_Dz(Z)',\t'GATS1i', 'NdsCH', 'NdssC', 'MLOGP']  \n",
    "# Create DataFrame\n",
    "cluster_centers = pd.DataFrame(km.cluster_centers_[:, :6], columns=columns[:6])\n"
   ]
  },
  {
   "cell_type": "markdown",
   "id": "08f27793-b430-4d2e-8432-d8afe72badb6",
   "metadata": {},
   "source": [
    "### Find the optimum cluster number based on, elbow method, silhouette method and Calinski Harabasz Score."
   ]
  },
  {
   "cell_type": "markdown",
   "id": "40bfac67-0366-48e7-a1fe-a58eb24e83f6",
   "metadata": {},
   "source": [
    "### The Elbow Method using WCSS"
   ]
  },
  {
   "cell_type": "code",
   "execution_count": 57,
   "id": "568779f7-b526-4db6-bff8-a57bc9677f3d",
   "metadata": {},
   "outputs": [
    {
     "data": {
      "image/png": "[encoded data removed]",
      "text/plain": [
       "<Figure size 640x480 with 1 Axes>"
      ]
     },
     "metadata": {},
     "output_type": "display_data"
    }
   ],
   "source": [
    "wcss = []\n",
    "for k in range(2,10):\n",
    "    km = KMeans(n_clusters=k, n_init=25, random_state = 100, algorithm='elkan')\n",
    "    km = km.fit(df_scaled)\n",
    "    wcss.append(km.inertia_)\n",
    "\n",
    "wcss_series = pd.Series(wcss)\n",
    "ax = sns.lineplot(y = wcss_series, x = wcss_series.index)\n",
    "ax = sns.scatterplot(y = wcss_series, x = wcss_series.index,s=150)\n",
    "ax = ax.set(xlabel = 'Number of Clusters (k)',ylabel = 'Within Cluster Sum of Squares')"
   ]
  },
  {
   "cell_type": "markdown",
   "id": "fbf90626-93e0-40ff-af65-11e98c741dc0",
   "metadata": {},
   "source": [
    "#### ->There is a noticeable \"elbow\" at k=3."
   ]
  },
  {
   "cell_type": "markdown",
   "id": "9318b997-1230-44c8-9297-6a9ea01ba96b",
   "metadata": {},
   "source": [
    "### The Average Silhouette Score"
   ]
  },
  {
   "cell_type": "code",
   "execution_count": 58,
   "id": "74fd1f38-48ee-421c-8092-750f4ade2af0",
   "metadata": {},
   "outputs": [
    {
     "data": {
      "image/png": "[encoded data removed]",
      "text/plain": [
       "<Figure size 640x480 with 1 Axes>"
      ]
     },
     "metadata": {},
     "output_type": "display_data"
    }
   ],
   "source": [
    "from sklearn.metrics import silhouette_score\n",
    "\n",
    "sil = []\n",
    "for k in range(2,10):\n",
    "    km = KMeans(n_clusters=k, n_init=25, random_state = 100,algorithm='elkan')\n",
    "    km = km.fit(df_scaled)\n",
    "    sil.append(silhouette_score(df_scaled,km.labels_))\n",
    "\n",
    "sil_series = pd.Series(sil, index = range(2,10))\n",
    "\n",
    "ax = sns.lineplot(y = sil_series, x = sil_series.index)\n",
    "ax = sns.scatterplot(y = sil_series, x = sil_series.index,s=150)\n",
    "ax = ax.set(xlabel = 'Number of Clusters (k)',ylabel = 'Average Silhouette Score')"
   ]
  },
  {
   "cell_type": "markdown",
   "id": "c26c89a6-908d-4447-832a-4d0ed8345ed4",
   "metadata": {},
   "source": [
    "#### Observation:\n",
    "#### ->The highest silhouette score is at k=5. However, since the silhouette score significantly drops after k=5, this suggests that k=5 is a reasonable choice."
   ]
  },
  {
   "cell_type": "markdown",
   "id": "c525de84-5272-4860-8e6f-d30a6bd0e732",
   "metadata": {},
   "source": [
    "### The Calinski Harabasz Score"
   ]
  },
  {
   "cell_type": "code",
   "execution_count": 59,
   "id": "9dbd4c6f-0b91-4560-b872-f0af9c87066c",
   "metadata": {},
   "outputs": [
    {
     "data": {
      "image/png": "[encoded data removed]",
      "text/plain": [
       "<Figure size 640x480 with 1 Axes>"
      ]
     },
     "metadata": {},
     "output_type": "display_data"
    }
   ],
   "source": [
    "from sklearn.metrics import calinski_harabasz_score\n",
    "\n",
    "ch = []\n",
    "for k in range(2,10):\n",
    "    km = KMeans(n_clusters=k, n_init=25, random_state = 100,algorithm='elkan')\n",
    "    km = km.fit(df_scaled)\n",
    "    ch.append(calinski_harabasz_score(df_scaled,km.labels_))\n",
    "\n",
    "ch_series = pd.Series(ch, index = range(2,10))\n",
    "\n",
    "ax = sns.lineplot(y = ch_series, x = ch_series.index)\n",
    "ax = sns.scatterplot(y = ch_series, x = ch_series.index,s=150)\n",
    "ax = ax.set(xlabel = 'Number of Clusters (k)',ylabel = 'Calinski Harabasz Score')"
   ]
  },
  {
   "cell_type": "markdown",
   "id": "200a4683-a021-4277-83c7-f3f0adfbb25d",
   "metadata": {},
   "source": [
    "#### Observation:\n",
    "#### ->The highest score is at k=5, but after that it drops signficantly."
   ]
  },
  {
   "cell_type": "markdown",
   "id": "de7d2ec7-1082-48e7-8929-50b096afd111",
   "metadata": {},
   "source": [
    "### Tabulate the proportion of each Toxicity Category among the clusters"
   ]
  },
  {
   "cell_type": "code",
   "execution_count": 60,
   "id": "e27227d8-c7a1-452f-b1ec-d1f08899bfb3",
   "metadata": {},
   "outputs": [
    {
     "data": {
      "text/html": [
       "<div>\n",
       "<style scoped>\n",
       "    .dataframe tbody tr th:only-of-type {\n",
       "        vertical-align: middle;\n",
       "    }\n",
       "\n",
       "    .dataframe tbody tr th {\n",
       "        vertical-align: top;\n",
       "    }\n",
       "\n",
       "    .dataframe thead th {\n",
       "        text-align: right;\n",
       "    }\n",
       "</style>\n",
       "<table border=\"1\" class=\"dataframe\">\n",
       "  <thead>\n",
       "    <tr style=\"text-align: right;\">\n",
       "      <th>Cluster</th>\n",
       "      <th>0</th>\n",
       "      <th>1</th>\n",
       "      <th>2</th>\n",
       "      <th>3</th>\n",
       "      <th>4</th>\n",
       "    </tr>\n",
       "    <tr>\n",
       "      <th>Toxicity Category</th>\n",
       "      <th></th>\n",
       "      <th></th>\n",
       "      <th></th>\n",
       "      <th></th>\n",
       "      <th></th>\n",
       "    </tr>\n",
       "  </thead>\n",
       "  <tbody>\n",
       "    <tr>\n",
       "      <th>Highly Toxic</th>\n",
       "      <td>0.495283</td>\n",
       "      <td>0.330739</td>\n",
       "      <td>0.885714</td>\n",
       "      <td>0.464516</td>\n",
       "      <td>0.264706</td>\n",
       "    </tr>\n",
       "    <tr>\n",
       "      <th>Less Toxic</th>\n",
       "      <td>0.042453</td>\n",
       "      <td>0.128405</td>\n",
       "      <td>0.011429</td>\n",
       "      <td>0.051613</td>\n",
       "      <td>0.205882</td>\n",
       "    </tr>\n",
       "    <tr>\n",
       "      <th>Medium Toxic</th>\n",
       "      <td>0.462264</td>\n",
       "      <td>0.540856</td>\n",
       "      <td>0.102857</td>\n",
       "      <td>0.483871</td>\n",
       "      <td>0.529412</td>\n",
       "    </tr>\n",
       "  </tbody>\n",
       "</table>\n",
       "</div>"
      ],
      "text/plain": [
       "Cluster                   0         1         2         3         4\n",
       "Toxicity Category                                                  \n",
       "Highly Toxic       0.495283  0.330739  0.885714  0.464516  0.264706\n",
       "Less Toxic         0.042453  0.128405  0.011429  0.051613  0.205882\n",
       "Medium Toxic       0.462264  0.540856  0.102857  0.483871  0.529412"
      ]
     },
     "execution_count": 60,
     "metadata": {},
     "output_type": "execute_result"
    }
   ],
   "source": [
    "# Based on the plots, determine the optimal number of clusters (let's assume k_optimal).\n",
    "k_optimal = 5  # Example value, replace based on your evaluation.\n",
    "\n",
    "# Apply KMeans with the optimal number of clusters\n",
    "km = KMeans(n_clusters=k_optimal, n_init=25, random_state=100, algorithm='elkan')\n",
    "df_new['Cluster'] = km.fit_predict(df_scaled)\n",
    "\n",
    "# Tabulate the proportion of each species among the clusters\n",
    "proportion_table = pd.crosstab(df_new['Toxicity Category'], df_new['Cluster'], normalize='columns')\n",
    "\n",
    "# Display the table\n",
    "proportion_table"
   ]
  },
  {
   "cell_type": "markdown",
   "id": "1f7a9edc-ef22-48af-8ddf-cd838753065c",
   "metadata": {},
   "source": [
    "#### Observations:\n",
    "#### Cluster 0:\n",
    "##### ->Highly Toxic: 46.15%\n",
    "##### ->Less Toxic: 5.13%\n",
    "##### ->Medium Toxic: 48.72%\n",
    "#### Cluster 0 has a balanced mix of \"Highly Toxic\" and \"Medium Toxic\" compounds, with a small percentage of \"Less Toxic\" compounds.\n",
    "\n",
    "#### Cluster 1:\n",
    "##### ->Highly Toxic: 88.57%\n",
    "##### ->Less Toxic: 1.14%\n",
    "##### ->Medium Toxic: 10.29%\n",
    "#### Cluster 1 is overwhelmingly dominated by \"Highly Toxic\" compounds.\n",
    "\n",
    "#### Cluster 2:\n",
    "##### ->Highly Toxic: 49.76%\n",
    "##### ->Less Toxic: 4.27%\n",
    "##### ->Medium Toxic: 45.97%\n",
    "#### Cluster 2 also has a balanced distribution between \"Highly Toxic\" and \"Medium Toxic\" compounds, with a slight prevalence of \"Highly Toxic\" compounds.\n",
    "\n",
    "#### Cluster 3:\n",
    "##### ->Highly Toxic: 26.47%\n",
    "##### ->Less Toxic: 20.59%\n",
    "##### ->Medium Toxic: 52.94%\n",
    "#### Cluster 3 has a majority of \"Medium Toxic\" compounds, followed by \"Highly Toxic\" and \"Less Toxic\" compounds.\n",
    "\n",
    "#### Cluster 4:\n",
    "##### ->Highly Toxic: 33.07%\n",
    "##### ->Less Toxic: 12.84%\n",
    "##### ->Medium Toxic: 54.09%\n",
    "#### Cluster 4 is predominantly \"Medium Toxic,\" with a moderate presence of \"Highly Toxic\" and \"Less Toxic\" compounds.\n",
    "\n",
    "#### Analysis:\n",
    "##### ->Cluster 0: Shows a nearly equal distribution between \"Highly Toxic\" and \"Medium Toxic\" categories, indicating these two toxicity levels are quite similar within this cluster.\n",
    "##### ->Cluster 1: Almost exclusively contains \"Highly Toxic\" compounds, suggesting a strong association of these features with high toxicity.\n",
    "##### ->Cluster 2: Has a similar balance to Cluster 0, but with a slightly higher percentage of \"Highly Toxic\" compounds.\n",
    "##### ->Cluster 3: Contains mostly \"Medium Toxic\" compounds with a notable presence of \"Less Toxic\" compounds, indicating a more diverse range of toxicity.\n",
    "##### ->Cluster 4: Similar to Cluster 3, but with a higher proportion of \"Medium Toxic\" compounds.\n",
    "\n",
    "#### Conclusion:\n",
    "##### ->Cluster 0 and Cluster 2 both show a balanced mix of \"Highly Toxic\" and \"Medium Toxic\" compounds, suggesting that the features used for clustering do not strongly differentiate between these two levels of toxicity within these clusters.\n",
    "##### ->Cluster 1 stands out as a distinct cluster dominated by \"Highly Toxic\" compounds, indicating a clear separation of highly toxic substances.\n",
    "##### ->Cluster 3 and Cluster 4 show a predominance of \"Medium Toxic\" compounds, with Cluster 3 having a more mixed distribution that includes a significant proportion of \"Less Toxic\" compounds.\n",
    "#### The overall clustering result reveals that while \"Highly Toxic\" compounds can be distinctly separated (as seen in Cluster 1), \"Medium Toxic\" and \"Less Toxic\" compounds often overlap, resulting in more mixed clusters. This suggests that the features used for clustering have varying degrees of effectiveness in distinguishing different toxicity levels."
   ]
  },
  {
   "cell_type": "markdown",
   "id": "b83b2b8a-9113-40cb-87d4-f2f49a2a22a6",
   "metadata": {},
   "source": [
    "## 2.DBSCAN(Density-Based Spatial Clustering of Applications with Noise)"
   ]
  },
  {
   "cell_type": "markdown",
   "id": "246233dc-aad6-46d5-b94a-8957f09a882d",
   "metadata": {},
   "source": [
    "#### Why we use DBSCAN?\n",
    "##### -> When clusters have irregular shapes\n",
    "##### ->When handling noise and outliers"
   ]
  },
  {
   "cell_type": "code",
   "execution_count": 61,
   "id": "c5b298ee-a900-4389-b29b-d1495674ef05",
   "metadata": {},
   "outputs": [
    {
     "data": {
      "text/plain": [
       "{-1, 0, 1, 2, 3, 4, 5}"
      ]
     },
     "execution_count": 61,
     "metadata": {},
     "output_type": "execute_result"
    }
   ],
   "source": [
    "from sklearn.preprocessing import StandardScaler\n",
    "from sklearn.cluster import DBSCAN\n",
    "from sklearn.neighbors import NearestNeighbors\n",
    "\n",
    "#using eps = 1 and min_samples = 4\n",
    "dbscan = DBSCAN(eps=1, min_samples=4)\n",
    "dbscan.fit(df_scaled)\n",
    "\n",
    "# Adding cluster labels to the dataframe\n",
    "df_new['Cluster'] = dbscan.labels_\n",
    "\n",
    "set(df_new['Cluster'])"
   ]
  },
  {
   "cell_type": "code",
   "execution_count": 62,
   "id": "1fd3d7ea-c039-4f81-a7b1-e714e83e01c9",
   "metadata": {},
   "outputs": [
    {
     "name": "stdout",
     "output_type": "stream",
     "text": [
      "Toxicity Category  Highly Toxic  Less Toxic  Medium Toxic\n",
      "Cluster                                                  \n",
      "-1                         37.0        17.0          51.0\n",
      " 0                         75.0         6.0          48.0\n",
      " 1                        252.0        34.0         194.0\n",
      " 2                         38.0         1.0          27.0\n",
      " 3                         15.0         1.0          21.0\n",
      " 4                          2.0         0.0           7.0\n",
      " 5                          7.0         0.0           0.0\n"
     ]
    }
   ],
   "source": [
    "cluster_species_distribution = df_new.groupby('Cluster')['Toxicity Category'].value_counts().unstack().fillna(0)\n",
    "print(cluster_species_distribution)"
   ]
  },
  {
   "cell_type": "markdown",
   "id": "01344775-12e7-46f4-8ff5-44e938db08cb",
   "metadata": {},
   "source": [
    "#### This is not properly distributed\n",
    "#### Imbalanced Cluster Sizes:\n",
    "##### ->The significant difference in the size of clusters, especially between clusters 0 and 1 and the rest, suggests that the clustering is not balanced.\n",
    "##### ->This imbalance can lead to over-generalization or under-generalization of certain data points.\n",
    "\n",
    "##### To improve the clustering results and achieve a more meaningful distribution, it's important to find optimal values for the DBSCAN parameters eps (epsilon) and min_samples."
   ]
  },
  {
   "cell_type": "markdown",
   "id": "5cc48c73-3ff1-4a29-b941-242d034e37b7",
   "metadata": {},
   "source": [
    "### Use nearest neighbour algorithm to find the most optimal value of ‘eps’ parameter"
   ]
  },
  {
   "cell_type": "code",
   "execution_count": 63,
   "id": "ca2a6135-41f8-4268-85e0-a70c0b3a88c4",
   "metadata": {},
   "outputs": [
    {
     "data": {
      "text/plain": [
       "<matplotlib.lines.Line2D at 0x11b8c22f830>"
      ]
     },
     "execution_count": 63,
     "metadata": {},
     "output_type": "execute_result"
    },
    {
     "data": {
      "image/png": "[encoded data removed]",
      "text/plain": [
       "<Figure size 640x480 with 1 Axes>"
      ]
     },
     "metadata": {},
     "output_type": "display_data"
    }
   ],
   "source": [
    "from sklearn.neighbors import NearestNeighbors\n",
    "\n",
    "k=4\n",
    "nn = NearestNeighbors(n_neighbors = k).fit(df_scaled)\n",
    "\n",
    "dist,ind = nn.kneighbors(df_scaled)\n",
    "\n",
    "#sort the distances\n",
    "dist = np.sort(dist,axis=0)[:,1]\n",
    "\n",
    "# drawing the sorted distance - distribution plot\n",
    "plt.plot(dist)\n",
    "\n",
    "# draw a line at the chosen value of eps\n",
    "plt.axhline(y=0.54,color='r',ls='--')"
   ]
  },
  {
   "cell_type": "markdown",
   "id": "dda03a73-a1f1-48be-8a58-441e976a0852",
   "metadata": {},
   "source": [
    "### Here, most optimal eps = 0.6"
   ]
  },
  {
   "cell_type": "markdown",
   "id": "218732d7-68b0-4f83-afed-0b6b53824a07",
   "metadata": {},
   "source": [
    "### Use the default ‘eps’ value and find the most optimal value of ‘min_samples’ using silhouette score"
   ]
  },
  {
   "cell_type": "code",
   "execution_count": 64,
   "id": "ac0c20d8-cfae-439d-ae87-decfd23264fc",
   "metadata": {},
   "outputs": [
    {
     "data": {
      "image/png": "[encoded data removed]",
      "text/plain": [
       "<Figure size 800x600 with 1 Axes>"
      ]
     },
     "metadata": {},
     "output_type": "display_data"
    }
   ],
   "source": [
    "from sklearn.metrics import silhouette_score\n",
    "\n",
    "ss = []\n",
    "for k in range(2, 20):\n",
    "    dbscan = DBSCAN(eps=1,min_samples=k)\n",
    "    dbscan.fit(df_scaled)\n",
    "    ss.append(silhouette_score(df_scaled, dbscan.labels_))\n",
    "\n",
    "ss_series = pd.Series(ss, index = range(2, 20))\n",
    "\n",
    "plt.figure(figsize=(8, 6))\n",
    "ax = sns.lineplot(y = ss_series, x = ss_series.index)\n",
    "ax = sns.scatterplot(y = ss_series, x = ss_series.index, s = 150)\n",
    "ax = ax.set(xlabel = 'min units in neighborhood', \n",
    "            ylabel = 'Silhouette Score')"
   ]
  },
  {
   "cell_type": "markdown",
   "id": "057777cc-c0d3-4f65-89bb-f3127ea256a5",
   "metadata": {},
   "source": [
    "### when using eps = 1 best min_sample is coming out to be 6"
   ]
  },
  {
   "cell_type": "markdown",
   "id": "28dbbf68-d65b-4887-b14a-eaa3ea151a20",
   "metadata": {},
   "source": [
    "### Using default eps and optimal min_sample to do clustering"
   ]
  },
  {
   "cell_type": "code",
   "execution_count": 65,
   "id": "bb9d02ed-9148-4ae6-b042-62bfa16b0eae",
   "metadata": {},
   "outputs": [
    {
     "data": {
      "text/plain": [
       "{-1, 0, 1, 2, 3}"
      ]
     },
     "execution_count": 65,
     "metadata": {},
     "output_type": "execute_result"
    }
   ],
   "source": [
    "from sklearn.preprocessing import StandardScaler\n",
    "from sklearn.cluster import DBSCAN\n",
    "from sklearn.neighbors import NearestNeighbors\n",
    "\n",
    "# Fitting DBSCAN with default parameters\n",
    "dbscan = DBSCAN(eps=1, min_samples=6)\n",
    "dbscan.fit(df_scaled)\n",
    "\n",
    "# Adding cluster labels to the dataframe\n",
    "df_new['Cluster'] = dbscan.labels_\n",
    "\n",
    "set(df_new['Cluster'])"
   ]
  },
  {
   "cell_type": "code",
   "execution_count": 67,
   "id": "77f21df3-305a-4fcc-b638-dbc646416dfa",
   "metadata": {},
   "outputs": [
    {
     "name": "stdout",
     "output_type": "stream",
     "text": [
      "Toxicity Category  Highly Toxic  Less Toxic  Medium Toxic\n",
      "Cluster                                                  \n",
      "-1                         54.0        18.0          61.0\n",
      " 0                         75.0         6.0          47.0\n",
      " 1                        251.0        34.0         193.0\n",
      " 2                         34.0         1.0          27.0\n",
      " 3                         12.0         0.0          20.0\n"
     ]
    }
   ],
   "source": [
    "cluster_species_distribution = df_new.groupby('Cluster')['Toxicity Category'].value_counts().unstack().fillna(0)\n",
    "print(cluster_species_distribution)"
   ]
  },
  {
   "cell_type": "markdown",
   "id": "2de05d22-e5b5-4ea5-ab42-0a925b88f8cf",
   "metadata": {},
   "source": [
    "#### Observation:\n",
    "#### Clusters and Noise Points:\n",
    "##### ->Cluster -1 represents noise points, which are data points that do not fit well into any cluster.\n",
    "##### ->There are 4 distinct clusters (0, 1, 2, and 3) along with the noise points cluster -1.\n",
    "#### Cluster -1 (Noise Points):\n",
    "##### ->Contains 54 Highly Toxic, 18 Less Toxic, and 61 Medium Toxic data points.\n",
    "##### ->This indicates that there are quite a few data points that DBSCAN could not assign to any cluster, which might suggest outliers or points in low-density regions.\n",
    "#### Cluster 0:\n",
    "##### ->Contains 75 Highly Toxic, 6 Less Toxic, and 47 Medium Toxic data points.\n",
    "##### ->This cluster has a higher concentration of Highly Toxic data points compared to Less and Medium Toxic categories.\n",
    "#### Cluster 1:\n",
    "##### ->The largest cluster with 251 Highly Toxic, 34 Less Toxic, and 193 Medium Toxic data points.\n",
    "##### ->This cluster shows a significant number of Highly Toxic and Medium Toxic data points, suggesting a dense region in the data space where these toxicity levels are prevalent.\n",
    "#### Cluster 2:\n",
    "##### ->Contains 34 Highly Toxic, 1 Less Toxic, and 27 Medium Toxic data points.\n",
    "##### ->This is a smaller cluster but still indicates a presence of Highly and Medium Toxic data points.\n",
    "#### Cluster 3:\n",
    "##### ->The smallest cluster with 12 Highly Toxic and 20 Medium Toxic data points and no Less Toxic data points.\n",
    "##### ->This cluster appears to have fewer data points overall but includes Medium Toxic points significantly.\n",
    "\n",
    "#### Final Verdict:\n",
    "##### ->Highly Toxic Data Points: These are distributed across all clusters, with Cluster 1 containing the majority.\n",
    "##### ->Less Toxic Data Points: These are less frequent across all clusters, with Cluster 1 having the highest count.\n",
    "##### ->Medium Toxic Data Points: These are also distributed across all clusters, with Cluster 1 having the majority."
   ]
  },
  {
   "cell_type": "markdown",
   "id": "c377534c-c14d-4e32-8388-619badb4e448",
   "metadata": {},
   "source": [
    "## Conclusion:"
   ]
  },
  {
   "cell_type": "markdown",
   "id": "c7b111f3-be8b-4a1d-8c12-5c770abf12cc",
   "metadata": {},
   "source": [
    "#### From this project I learned many new concepts, was able to revise the old concepts which helped me to implement my knowledge in this dataset regarding it's preprocessing, modeling, evaluation, clustering.Basically I learned how to work on a dataset and how to use proper fitted model for it and how to do data preprocessing."
   ]
  },
  {
   "cell_type": "markdown",
   "id": "3ccd51d7-6f8c-483e-bbf6-d32979815e05",
   "metadata": {},
   "source": [
    "### Submitted By: Aditya Ranjan Sahu\n",
    "### SIC: 21BCSB78\n",
    "### Group: C"
   ]
  }
 ],
 "metadata": {
  "kernelspec": {
   "display_name": "Python 3 (ipykernel)",
   "language": "python",
   "name": "python3"
  },
  "language_info": {
   "codemirror_mode": {
    "name": "ipython",
    "version": 3
   },
   "file_extension": ".py",
   "mimetype": "text/x-python",
   "name": "python",
   "nbconvert_exporter": "python",
   "pygments_lexer": "ipython3",
   "version": "3.12.4"
  }
 },
 "nbformat": 4,
 "nbformat_minor": 5
}
